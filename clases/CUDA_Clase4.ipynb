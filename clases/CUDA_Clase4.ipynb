{
  "nbformat": 4,
  "nbformat_minor": 0,
  "metadata": {
    "colab": {
      "name": "CUDA_Clase4.ipynb",
      "provenance": [],
      "collapsed_sections": [],
      "toc_visible": true,
      "include_colab_link": true
    },
    "kernelspec": {
      "name": "python3",
      "display_name": "Python 3"
    },
    "accelerator": "GPU"
  },
  "cells": [
    {
      "cell_type": "markdown",
      "metadata": {
        "id": "view-in-github",
        "colab_type": "text"
      },
      "source": [
        "<a href=\"https://colab.research.google.com/github/denisecammarota/icgpu/blob/main/clases/CUDA_Clase4.ipynb\" target=\"_parent\"><img src=\"https://colab.research.google.com/assets/colab-badge.svg\" alt=\"Open In Colab\"/></a>"
      ]
    },
    {
      "cell_type": "code",
      "metadata": {
        "id": "g6HXDOSw3hc-",
        "colab": {
          "base_uri": "https://localhost:8080/",
          "height": 38
        },
        "outputId": "72f760fd-f20e-4cab-b0cb-f8ab82b2b283"
      },
      "source": [
        "%%html\n",
        "<marquee style='width: 100%; color: blue;'><b>ICNPG2021 en Google Colaboratory-Instituto Balseiro-Clase 1 </b></marquee>\n"
      ],
      "execution_count": null,
      "outputs": [
        {
          "output_type": "display_data",
          "data": {
            "text/html": [
              "<marquee style='width: 100%; color: blue;'><b>ICNPG2021 en Google Colaboratory-Instituto Balseiro-Clase 1 </b></marquee>"
            ],
            "text/plain": [
              "<IPython.core.display.HTML object>"
            ]
          },
          "metadata": {
            "tags": []
          }
        }
      ]
    },
    {
      "cell_type": "markdown",
      "metadata": {
        "id": "EH1rrvSR7z7t"
      },
      "source": [
        "# Preparativos para programar CUDA C/C++ en google colabs"
      ]
    },
    {
      "cell_type": "markdown",
      "metadata": {
        "id": "A8w8rRnK_fDB"
      },
      "source": [
        "Hola!, Bueno, aqui va un ejemplito de como correr codigo CUDA C/C++ en colabs\n",
        "[[1]](https://https://www.wikihow.com/Run-CUDA-C-or-C%2B%2B-on-Jupyter-(Google-Colab)\n",
        "[[2]](https://stackoverflow.com/questions/56854243/how-to-link-the-libraries-when-executing-cuda-program-on-google-colab).\n",
        "\n",
        "No se olviden de Runtime-> Change Runtime Type -> GPU. Para que funque a cada linea la tienen que ejecutar con un Shift-Enter o Ctrl-Enter o el botoncito de play."
      ]
    },
    {
      "cell_type": "markdown",
      "metadata": {
        "id": "snj3bwGx_z-c"
      },
      "source": [
        "miremos que version de nvcc tenemos"
      ]
    },
    {
      "cell_type": "code",
      "metadata": {
        "id": "GzIRSGebudXT",
        "colab": {
          "base_uri": "https://localhost:8080/"
        },
        "outputId": "067087e3-15d1-4c7e-ba2e-25847d5c4579"
      },
      "source": [
        "!nvcc --version"
      ],
      "execution_count": null,
      "outputs": [
        {
          "output_type": "stream",
          "text": [
            "nvcc: NVIDIA (R) Cuda compiler driver\n",
            "Copyright (c) 2005-2020 NVIDIA Corporation\n",
            "Built on Wed_Jul_22_19:09:09_PDT_2020\n",
            "Cuda compilation tools, release 11.0, V11.0.221\n",
            "Build cuda_11.0_bu.TC445_37.28845127_0\n"
          ],
          "name": "stdout"
        }
      ]
    },
    {
      "cell_type": "markdown",
      "metadata": {
        "id": "hjdc7qaxACgq"
      },
      "source": [
        "A ver que placa nos toco..."
      ]
    },
    {
      "cell_type": "code",
      "metadata": {
        "id": "hAOT_KANAFS6",
        "colab": {
          "base_uri": "https://localhost:8080/"
        },
        "outputId": "ddcded3d-4964-4972-ef06-2f28b81c9e85"
      },
      "source": [
        "!nvidia-smi"
      ],
      "execution_count": null,
      "outputs": [
        {
          "output_type": "stream",
          "text": [
            "Thu Apr 22 13:33:41 2021       \n",
            "+-----------------------------------------------------------------------------+\n",
            "| NVIDIA-SMI 460.67       Driver Version: 460.32.03    CUDA Version: 11.2     |\n",
            "|-------------------------------+----------------------+----------------------+\n",
            "| GPU  Name        Persistence-M| Bus-Id        Disp.A | Volatile Uncorr. ECC |\n",
            "| Fan  Temp  Perf  Pwr:Usage/Cap|         Memory-Usage | GPU-Util  Compute M. |\n",
            "|                               |                      |               MIG M. |\n",
            "|===============================+======================+======================|\n",
            "|   0  Tesla P4            Off  | 00000000:00:04.0 Off |                    0 |\n",
            "| N/A   37C    P8     7W /  75W |      0MiB /  7611MiB |      0%      Default |\n",
            "|                               |                      |                  N/A |\n",
            "+-------------------------------+----------------------+----------------------+\n",
            "                                                                               \n",
            "+-----------------------------------------------------------------------------+\n",
            "| Processes:                                                                  |\n",
            "|  GPU   GI   CI        PID   Type   Process name                  GPU Memory |\n",
            "|        ID   ID                                                   Usage      |\n",
            "|=============================================================================|\n",
            "|  No running processes found                                                 |\n",
            "+-----------------------------------------------------------------------------+\n"
          ],
          "name": "stdout"
        }
      ]
    },
    {
      "cell_type": "markdown",
      "metadata": {
        "id": "zI2A2Sz0ARXc"
      },
      "source": [
        "lindas GPUs!!. Ahora, para poder correr Cuda C/C++ instalamos un plugin"
      ]
    },
    {
      "cell_type": "markdown",
      "metadata": {
        "id": "A70Y4gWoeqZY"
      },
      "source": [
        "Veamos que cpu tenemos..."
      ]
    },
    {
      "cell_type": "code",
      "metadata": {
        "colab": {
          "base_uri": "https://localhost:8080/"
        },
        "id": "tnc5urx76x9H",
        "outputId": "6634ea1a-8877-4c92-a58a-5acb20f82c04"
      },
      "source": [
        "!cat /proc/cpuinfo"
      ],
      "execution_count": null,
      "outputs": [
        {
          "output_type": "stream",
          "text": [
            "processor\t: 0\n",
            "vendor_id\t: GenuineIntel\n",
            "cpu family\t: 6\n",
            "model\t\t: 63\n",
            "model name\t: Intel(R) Xeon(R) CPU @ 2.30GHz\n",
            "stepping\t: 0\n",
            "microcode\t: 0x1\n",
            "cpu MHz\t\t: 2299.998\n",
            "cache size\t: 46080 KB\n",
            "physical id\t: 0\n",
            "siblings\t: 2\n",
            "core id\t\t: 0\n",
            "cpu cores\t: 1\n",
            "apicid\t\t: 0\n",
            "initial apicid\t: 0\n",
            "fpu\t\t: yes\n",
            "fpu_exception\t: yes\n",
            "cpuid level\t: 13\n",
            "wp\t\t: yes\n",
            "flags\t\t: fpu vme de pse tsc msr pae mce cx8 apic sep mtrr pge mca cmov pat pse36 clflush mmx fxsr sse sse2 ss ht syscall nx pdpe1gb rdtscp lm constant_tsc rep_good nopl xtopology nonstop_tsc cpuid tsc_known_freq pni pclmulqdq ssse3 fma cx16 pcid sse4_1 sse4_2 x2apic movbe popcnt aes xsave avx f16c rdrand hypervisor lahf_lm abm invpcid_single ssbd ibrs ibpb stibp fsgsbase tsc_adjust bmi1 avx2 smep bmi2 erms invpcid xsaveopt arat md_clear arch_capabilities\n",
            "bugs\t\t: cpu_meltdown spectre_v1 spectre_v2 spec_store_bypass l1tf mds swapgs\n",
            "bogomips\t: 4599.99\n",
            "clflush size\t: 64\n",
            "cache_alignment\t: 64\n",
            "address sizes\t: 46 bits physical, 48 bits virtual\n",
            "power management:\n",
            "\n",
            "processor\t: 1\n",
            "vendor_id\t: GenuineIntel\n",
            "cpu family\t: 6\n",
            "model\t\t: 63\n",
            "model name\t: Intel(R) Xeon(R) CPU @ 2.30GHz\n",
            "stepping\t: 0\n",
            "microcode\t: 0x1\n",
            "cpu MHz\t\t: 2299.998\n",
            "cache size\t: 46080 KB\n",
            "physical id\t: 0\n",
            "siblings\t: 2\n",
            "core id\t\t: 0\n",
            "cpu cores\t: 1\n",
            "apicid\t\t: 1\n",
            "initial apicid\t: 1\n",
            "fpu\t\t: yes\n",
            "fpu_exception\t: yes\n",
            "cpuid level\t: 13\n",
            "wp\t\t: yes\n",
            "flags\t\t: fpu vme de pse tsc msr pae mce cx8 apic sep mtrr pge mca cmov pat pse36 clflush mmx fxsr sse sse2 ss ht syscall nx pdpe1gb rdtscp lm constant_tsc rep_good nopl xtopology nonstop_tsc cpuid tsc_known_freq pni pclmulqdq ssse3 fma cx16 pcid sse4_1 sse4_2 x2apic movbe popcnt aes xsave avx f16c rdrand hypervisor lahf_lm abm invpcid_single ssbd ibrs ibpb stibp fsgsbase tsc_adjust bmi1 avx2 smep bmi2 erms invpcid xsaveopt arat md_clear arch_capabilities\n",
            "bugs\t\t: cpu_meltdown spectre_v1 spectre_v2 spec_store_bypass l1tf mds swapgs\n",
            "bogomips\t: 4599.99\n",
            "clflush size\t: 64\n",
            "cache_alignment\t: 64\n",
            "address sizes\t: 46 bits physical, 48 bits virtual\n",
            "power management:\n",
            "\n"
          ],
          "name": "stdout"
        }
      ]
    },
    {
      "cell_type": "markdown",
      "metadata": {
        "id": "04ZpNeYqevV1"
      },
      "source": [
        "Como vamos a programar en cuda C/C++ vamos a necesitar instalar un plugin"
      ]
    },
    {
      "cell_type": "code",
      "metadata": {
        "id": "qustrOFnAZV8",
        "colab": {
          "base_uri": "https://localhost:8080/"
        },
        "outputId": "a48b91bf-75f4-46b4-cdd7-740187995c84"
      },
      "source": [
        "!pip install git+git://github.com/droyktton/nvcc4jupyter.git"
      ],
      "execution_count": null,
      "outputs": [
        {
          "output_type": "stream",
          "text": [
            "Collecting git+git://github.com/droyktton/nvcc4jupyter.git\n",
            "  Cloning git://github.com/droyktton/nvcc4jupyter.git to /tmp/pip-req-build-lua4vqa9\n",
            "  Running command git clone -q git://github.com/droyktton/nvcc4jupyter.git /tmp/pip-req-build-lua4vqa9\n",
            "Building wheels for collected packages: NVCCPlugin\n",
            "  Building wheel for NVCCPlugin (setup.py) ... \u001b[?25l\u001b[?25hdone\n",
            "  Created wheel for NVCCPlugin: filename=NVCCPlugin-0.0.2-cp37-none-any.whl size=4307 sha256=7c756e28b0a5e90baf713566141a2252c5df0ce5a8719bf4dc5e0acb7ed9ce63\n",
            "  Stored in directory: /tmp/pip-ephem-wheel-cache-5caph07s/wheels/7e/b6/05/ede7d144a248167c9dae0589e0162b6d3094ebca2998edb1de\n",
            "Successfully built NVCCPlugin\n",
            "Installing collected packages: NVCCPlugin\n",
            "Successfully installed NVCCPlugin-0.0.2\n"
          ],
          "name": "stdout"
        }
      ]
    },
    {
      "cell_type": "markdown",
      "metadata": {
        "id": "1FT5VL6VAh0U"
      },
      "source": [
        "y luego cargarlo:"
      ]
    },
    {
      "cell_type": "code",
      "metadata": {
        "id": "sKpaprRBvkc3",
        "colab": {
          "base_uri": "https://localhost:8080/"
        },
        "outputId": "2ab6c281-97b4-4e34-bf52-42b2f940a79b"
      },
      "source": [
        "%load_ext nvcc_plugin"
      ],
      "execution_count": null,
      "outputs": [
        {
          "output_type": "stream",
          "text": [
            "created output directory at /content/src\n",
            "Out bin /content/result.out\n"
          ],
          "name": "stdout"
        }
      ]
    },
    {
      "cell_type": "markdown",
      "metadata": {
        "id": "kKtj2kNVLTcg"
      },
      "source": [
        "Listo!, con eso ya podemos correr codigo CUDA C/C++ en el notebook Jupyter."
      ]
    },
    {
      "cell_type": "markdown",
      "metadata": {
        "id": "bO4n1xfLK9oO"
      },
      "source": [
        "Para terminar, es conveniente montar nuestro google drive, asi podemos acceder a nuestros archivos, que pueden ser headers, etc. Nos va a pedir un permiso y un codigo."
      ]
    },
    {
      "cell_type": "code",
      "metadata": {
        "colab": {
          "base_uri": "https://localhost:8080/"
        },
        "id": "lNc_gJpPLCiT",
        "outputId": "401a0c33-6fb7-4270-cb43-053b8cf45a84"
      },
      "source": [
        "from google.colab import drive\n",
        "drive.mount('/content/drive')"
      ],
      "execution_count": null,
      "outputs": [
        {
          "output_type": "stream",
          "text": [
            "Mounted at /content/drive\n"
          ],
          "name": "stdout"
        }
      ]
    },
    {
      "cell_type": "markdown",
      "metadata": {
        "id": "N3nbamuGAary"
      },
      "source": [
        "# Multiplicacion de Matrices"
      ]
    },
    {
      "cell_type": "markdown",
      "metadata": {
        "id": "9g9KJ-pePwK6"
      },
      "source": [
        "Solucion con bibliotecas. Para que ande hay que hacerlo en dos partes. Primero generar el codigo en una carpeta local del server:\n"
      ]
    },
    {
      "cell_type": "code",
      "metadata": {
        "id": "5BiobhEHPy4h",
        "colab": {
          "base_uri": "https://localhost:8080/",
          "height": 35
        },
        "outputId": "9ccfb9ee-eb53-49a8-f94d-6b5d79079cd7"
      },
      "source": [
        "%%cuda --name matmul.cu\n",
        "#include<stdio.h>\n",
        "#include <cuda_runtime.h>\n",
        "#include \"/content/drive/MyDrive/gpu_timer.h\"\n",
        "#include \"/content/drive/MyDrive/cpu_timer.h\"\n",
        "#include<cublas_v2.h>\n",
        "#include<cublasXt.h>\n",
        "#include <fstream>\n",
        "\n",
        "// dimension de la matriz por default\n",
        "#ifndef DIM\n",
        "#define DIM\t16\n",
        "#endif\n",
        "\n",
        "// si prefiere trabajar con indices de fila y columna \n",
        "// estos macros son utiles:\n",
        "\n",
        "// C[IDX2C(i,j,M)] == valor en fila i (=0,...,Width-1) columna (j=0,1,...Height-1), row-major-C\n",
        "#define  IDX2C(i,j,ld) (((j)*(ld))+( i )) \n",
        "\n",
        "// C[IDX2F(i,j,M)] == valor en fila i (=1,...,Width) columna (j=1,...Height), column-major-F\n",
        "#define IDX2F(i,j,ld) ((((j)-1)*(ld))+((i)-1)) \n",
        "\n",
        "\n",
        "// Matrices are stored in row-major order:\n",
        "// M(row, col) = *(M.elements + row * M.width + col)\n",
        "// Matrices are stored in column-major order:\n",
        "// M(row, col) = *(M.elements + col * M.width + row)\n",
        "typedef struct {\n",
        "    int width;\n",
        "    int height;\n",
        "    float* elements;\n",
        "} Matrix;\n",
        "\n",
        "// Thread block size\n",
        "#define BLOCK_SIZE 16\n",
        "\n",
        "\n",
        "// activamos todas las APIs\n",
        "#define SIMPLECPU\n",
        "#define SIMPLECUDA\n",
        "#define SIMPLECUDASHARED\n",
        "#define CUBLAS\n",
        "#define CUBLASXt\n",
        "\n",
        "\n",
        "////////////////////////////////////////////////////////////////////////\n",
        "// Forward declaration of the matrix multiplication kernel\n",
        "\n",
        "__global__ void MatMulKernel(const Matrix, const Matrix, Matrix);\n",
        "\n",
        "__global__ void MatMulKernelShared(const Matrix, const Matrix, Matrix);\n",
        "\n",
        "\n",
        "// Matrix multiplication - Host code\n",
        "// Matrix dimensions are assumed to be multiples of BLOCK_SIZE\n",
        "void MatMul(const Matrix A, const Matrix B, Matrix C,int opt)\n",
        "{\n",
        "    // Load A and B to device memory\n",
        "    Matrix d_A;\n",
        "    d_A.width = A.width; d_A.height = A.height;\n",
        "    size_t size = A.width * A.height * sizeof(float);\n",
        "    cudaMalloc(&d_A.elements, size);\n",
        "    cudaMemcpy(d_A.elements, A.elements, size,\n",
        "               cudaMemcpyHostToDevice);\n",
        "    Matrix d_B;\n",
        "    d_B.width = B.width; d_B.height = B.height;\n",
        "    size = B.width * B.height * sizeof(float);\n",
        "    cudaMalloc(&d_B.elements, size);\n",
        "    cudaMemcpy(d_B.elements, B.elements, size,\n",
        "               cudaMemcpyHostToDevice);\n",
        "\n",
        "    // Allocate C in device memory\n",
        "    Matrix d_C;\n",
        "    d_C.width = C.width; d_C.height = C.height;\n",
        "    size = C.width * C.height * sizeof(float);\n",
        "    cudaMalloc(&d_C.elements, size);\n",
        "\n",
        "    // Invoke kernel\n",
        "    dim3 dimBlock(BLOCK_SIZE, BLOCK_SIZE);\n",
        "    dim3 dimGrid(B.width / dimBlock.x, A.height / dimBlock.y);\n",
        " \n",
        "    if(opt==0) MatMulKernel<<<dimGrid, dimBlock>>>(d_A, d_B, d_C);\n",
        "    else MatMulKernelShared<<<dimGrid, dimBlock>>>(d_A, d_B, d_C);\n",
        "\n",
        "    // Read C from device memory\n",
        "    cudaMemcpy(C.elements, d_C.elements, size,\n",
        "               cudaMemcpyDeviceToHost);\n",
        "\n",
        "    // Free device memory\n",
        "    cudaFree(d_A.elements);\n",
        "    cudaFree(d_B.elements);\n",
        "    cudaFree(d_C.elements);\n",
        "}\n",
        "\n",
        "\n",
        "// Matrix multiplication kernel called by MatMul()\n",
        "__global__ void MatMulKernel(Matrix A, Matrix B, Matrix C)\n",
        "{\n",
        "    // Each thread computes one element of C\n",
        "    // by accumulating results into Cvalue\n",
        "    float Cvalue = 0;\n",
        "    int row = blockIdx.y * blockDim.y + threadIdx.y;\n",
        "    int col = blockIdx.x * blockDim.x + threadIdx.x;\n",
        "\n",
        "    // En \"C-row-major\" order seria \n",
        "    /*for (int e = 0; e < A.width; ++e)\n",
        "        Cvalue += A.elements[row * A.width + e]\n",
        "                * B.elements[e * B.width + col];\n",
        "    C.elements[row * C.width + col] = Cvalue;\n",
        "    */\t\n",
        "\n",
        "    // \"column-major\" order\n",
        "    for (int e = 0; e < A.width; ++e)\n",
        "    \tCvalue += A.elements[row + e*A.width]\n",
        "        * B.elements[e + col * B.width];\n",
        "\n",
        "    C.elements[row + col * C.width] = Cvalue;\n",
        "}\n",
        "\n",
        "// Matrix multiplication kernel called by MatMul()\n",
        "__global__ void MatMulKernelShared(Matrix A, Matrix B, Matrix C)\n",
        "{\n",
        "    // aqui vamos a cargar la secuencia de \"tiles\" de A y B\n",
        "    __shared__ float Atile[BLOCK_SIZE][BLOCK_SIZE];\n",
        "    __shared__ float Btile[BLOCK_SIZE][BLOCK_SIZE];\n",
        "\n",
        "    // Cada hilo calcula un elemento de C\n",
        "    float Cvalue = 0;\n",
        "    int row = blockIdx.y * blockDim.y + threadIdx.y;\n",
        "    int col = blockIdx.x * blockDim.x + threadIdx.x;\n",
        "\n",
        "    //recorremos los tiles\n",
        "    for(int m=0;m<A.width/BLOCK_SIZE;m++){\n",
        "\n",
        "      // los hilos cooperan para cargar los tiles de A y B en shared memory\n",
        "      Atile[threadIdx.y][threadIdx.x]=A.elements[(m*BLOCK_SIZE+threadIdx.x)*A.width+row];\n",
        "      Btile[threadIdx.y][threadIdx.x]=B.elements[col*B.width+(m*BLOCK_SIZE+threadIdx.y)];\n",
        "      __syncthreads();\n",
        "\n",
        "      // contribucion de los tiles al elemento C que calcula cada hilo\n",
        "      for (int e = 0; e < BLOCK_SIZE; ++e)\n",
        "      \tCvalue += Atile[threadIdx.y][e]*Btile[e][threadIdx.x];\n",
        "      __syncthreads();\n",
        "    }\n",
        "    C.elements[row + col * C.width] = Cvalue;\n",
        "}\n",
        "\n",
        "\n",
        "////////////////////////////////////////////////////////////////////////\n",
        "// Matrix multiplication in cpu (column-major)\n",
        "void MatMulcpu(Matrix A, Matrix B, Matrix C)\n",
        "{\n",
        "    for(int row=0; row<A.width;row++){\n",
        "    \tfor(int col=0; col<A.height;col++){\n",
        "    \t\tfloat Cvalue = 0;\n",
        "    \t\tfor (int e = 0; e < A.width; ++e)\n",
        "        \t\tCvalue += A.elements[row + e*A.width]\n",
        "                \t* B.elements[e + col * B.width];\n",
        "\n",
        "    \t\tC.elements[row + col * C.width] = Cvalue;\n",
        "    \t}\n",
        "    }\n",
        "}\n",
        "\n",
        "\n",
        "\n",
        "////////////////////////////////////////////////////////////////////////\n",
        "// cublasXt API:\n",
        "// como cublas, pero recibe matrices input y output del HOST\n",
        "// se encarga de todas las alocaciones en device copias HD y DH \n",
        "void MatMulCublasXt(const Matrix A, const Matrix B, Matrix C)\n",
        "{\n",
        "\tfloat  al=1.0f;                 \n",
        "\tfloat bet =0.0f;\n",
        "\tint m=C.width;\n",
        "\n",
        "\tcublasXtHandle_t manija;\n",
        "\tcublasXtCreate(&manija);\n",
        "\n",
        "\tint devices[1] = { 0 }; \n",
        "\tcublasXtDeviceSelect(manija, 1, devices);\n",
        "\n",
        "\tcublasXtSgemm(manija,CUBLAS_OP_N,CUBLAS_OP_N,m,m,m,&al,A.elements,m,B.elements,m,&bet,C.elements,m);\n",
        "\n",
        "\tcublasXtDestroy(manija);\n",
        "}\n",
        "\n",
        "\n",
        "\n",
        "////////////////////////////////////////////////////////////////////////\n",
        "// cublas API:\n",
        "// como cublas, pero recibe matrices input y output del DEVICE\n",
        "// nos tenemos que encargar de todas las alocaciones en device y copias HD y DH \n",
        "void MatMulCublas(const Matrix A, const Matrix B, Matrix C)\n",
        "{\n",
        "    // Load A and B to device memory\n",
        "    Matrix d_A;\n",
        "    d_A.width = A.width; d_A.height = A.height;\n",
        "    size_t size = A.width * A.height * sizeof(float);\n",
        "    cudaMalloc(&d_A.elements, size);\n",
        "    //cudaMemcpy(d_A.elements, A.elements, size, cudaMemcpyHostToDevice);\n",
        "\n",
        "    Matrix d_B;\n",
        "    d_B.width = B.width; d_B.height = B.height;\n",
        "    size = B.width * B.height * sizeof(float);\n",
        "    cudaMalloc(&d_B.elements, size);\n",
        "    //cudaMemcpy(d_B.elements, B.elements, size, cudaMemcpyHostToDevice);\n",
        "\n",
        "    // Allocate C in device memory\n",
        "    Matrix d_C;\n",
        "    d_C.width = C.width; d_C.height = C.height;\n",
        "    size = C.width * C.height * sizeof(float);\n",
        "    cudaMalloc(&d_C.elements, size);\n",
        "\n",
        "    // buena costumbre: hacer algo con los codigos de error\n",
        "        cublasStatus_t stat;\n",
        "\n",
        "    float  al=1.0f;                 \n",
        "    float bet =0.0f;\n",
        "    int m=C.width;\n",
        "\n",
        "    cublasHandle_t manija;\n",
        "    stat=cublasCreate(&manija);\n",
        "\n",
        "    // Esto:\n",
        "        //cudaMemcpy(A.elements, d_A.elements, size,cudaMemcpyDeviceToHost);\n",
        "    //cudaMemcpy(B.elements, d_B.elements, size,cudaMemcpyDeviceToHost);\n",
        "    //cudaMemcpy(C.elements, d_C.elements, size,cudaMemcpyDeviceToHost);\n",
        "    // Es equivalente a esto:\n",
        "    stat = cublasSetMatrix(m,m,sizeof(float),(A.elements),m,(d_A.elements) ,m);//a -> d_a\n",
        "    stat = cublasSetMatrix(m,m,sizeof(float),(B.elements),m,(d_B.elements) ,m);//b -> d_b\n",
        "    stat = cublasSetMatrix(m,m,sizeof(float),(C.elements),m,(d_C.elements) ,m);//c -> d_c\n",
        "\n",
        "    // multiplication\n",
        "    stat=cublasSgemm(manija,CUBLAS_OP_N,CUBLAS_OP_N,m,m,m,&al, d_A.elements,m,d_B.elements,m, &bet, d_C.elements,m);\n",
        "\n",
        "    // La variable stat se puede usar asi (recomendado para todas las llamadas...)\n",
        "    if (stat != CUBLAS_STATUS_SUCCESS)\n",
        "        {\n",
        "            fprintf(stderr, \"!!!! CUBLAS Sgemm error\\n\");\n",
        "            exit(1);\n",
        "        }\n",
        "\n",
        "        // Hacer esto:\n",
        "        //cudaMemcpy(C.elements, d_C.elements, size,cudaMemcpyDeviceToHost);\n",
        "    // es equivalente a esto:\n",
        "    stat=cublasGetMatrix(m,m,sizeof(float),(d_C.elements) ,m,(C.elements),m);\t//d_c->c\n",
        "\n",
        "      // Free device memory\n",
        "      cublasDestroy(manija); // liberamos las \"variables ocultas\" de cublas\n",
        "      cudaFree(d_A.elements);\n",
        "      cudaFree(d_B.elements);\n",
        "      cudaFree(d_C.elements);\n",
        "}\n",
        "\n",
        "\n",
        "////////////////////////////////////////////////////////////////////////\n",
        "// imprime matrix C ordenada a lo \"fortran\", column-major \n",
        "void print_matrix(Matrix C,std::ofstream &fout){\n",
        "\t// para evitar imprimir demasiado, imprimimos sub-matriz de max x max\n",
        "\tint max=128;\n",
        "\tint maxheight=(C.height>max)?(max):(C.height);\n",
        "\tint maxwidth=(C.width>max)?(max):(C.width);\n",
        "\n",
        "\tint i,j;\n",
        "\tfor(i=0;i<maxheight;i++){\n",
        "\t\tfor(j=0;j<maxwidth-1;j++){\n",
        "\t\t\tfout << C.elements[j*C.width+i] << \" \";\n",
        "\t\t}\n",
        "\t\tfout << C.elements[j*C.width+i] << \"\\n\";\n",
        "\t}\n",
        "}\n",
        "\n",
        "\n",
        "int main(int argc, char **argv)\n",
        "{\n",
        "\t// Usaremos, por simplicidad, matrices cuadradas de NxN\n",
        "\t// N viene del primer argumento de la linea de comandos, sino se fija a DIM=1024 \n",
        "\tint N;\n",
        "\tif(argc>1){\n",
        "\t\tN=atoi(argv[1]);\n",
        "\t}else N=DIM;\n",
        "\n",
        "\t// matrices para hacer C=A*B\t\n",
        "        Matrix A, B, C;\n",
        "\n",
        "\t// inicializacion de las dimensiones de las matrices (cuadradas por simplicidad)\n",
        "\tA.width=B.width=C.width=A.height=B.height=C.height=N; \n",
        "\t\n",
        "    \tsize_t size = A.width * A.height * sizeof(float);\n",
        "\n",
        "\t// alocacion de matrices en el HOST\n",
        "\tA.elements=(float *)malloc(size);\n",
        "\tB.elements=(float *)malloc(size);\n",
        "\tC.elements=(float *)malloc(size);\n",
        "\n",
        "\t// inicializacion de matrices en el HOST\n",
        "\tfor(int i=0;i<A.width*A.height;i++)\n",
        "\t{\n",
        "\t\t// matriz aleatoria\n",
        "\t\tA.elements[i]=rand()*1.f/RAND_MAX;\n",
        "\t\t//B.elements[i]=rand()*1.f/RAND_MAX;\n",
        "\n",
        "\t\t// matriz identidad\n",
        "\t\tB.elements[i]=(i%(A.width+1)==0)?(1.0f):(0.0f);\n",
        "\t\tC.elements[i]=0.0f;\n",
        "\t}\n",
        "\n",
        "\tstd::ofstream foutA(\"A.dat\");\n",
        "\tstd::ofstream foutB(\"B.dat\");\n",
        "\tprint_matrix(A,foutA);\n",
        "\tprint_matrix(B,foutB);\n",
        "\n",
        "\t// objeto timer de CPU (¿porque de CPU?)\n",
        "\tcpu_timer reloj_cpu;\n",
        "\n",
        "\n",
        "\t#ifdef SIMPLECPU\n",
        "\treloj_cpu.tic();\n",
        "\tMatMulcpu(A,B,C);\n",
        "\tprintf(\"N= %d simple cpu: %f ms\\n\", N, reloj_cpu.tac());\n",
        "\tstd::ofstream foutCPU(\"Ccpu.dat\");\n",
        "\tprint_matrix(C,foutCPU);\n",
        "\t#endif\n",
        "\n",
        "\t#ifdef SIMPLECUDA\n",
        "\tMatMul(A,B,C,0); //warmup\n",
        "\treloj_cpu.tic();\n",
        "\tMatMul(A,B,C,0);\n",
        "\tprintf(\"N= %d simple_CUDA: %f ms\\n\",N, reloj_cpu.tac());\n",
        "\tstd::ofstream foutSC(\"Ccuda.dat\");\n",
        "\tprint_matrix(C,foutSC);\n",
        "\t#endif\n",
        "\n",
        "\t#ifdef SIMPLECUDASHARED\n",
        "\tMatMul(A,B,C,1); //warmup\n",
        "\treloj_cpu.tic();\n",
        "\tMatMul(A,B,C,1);\n",
        "\tprintf(\"N= %d simple_CUDA_shared: %f ms\\n\",N, reloj_cpu.tac());\n",
        "\tstd::ofstream foutSCs(\"Ccudashared.dat\");\n",
        "\tprint_matrix(C,foutSCs);\n",
        "\t#endif\n",
        "\n",
        "\n",
        "\t#ifdef CUBLAS\n",
        "\tMatMulCublas(A,B,C); //warmup\n",
        "\treloj_cpu.tic();\n",
        "\tMatMulCublas(A,B,C);\n",
        "\tprintf(\"N= %d cublas: %f ms\\n\", N, reloj_cpu.tac());\n",
        "\tstd::ofstream foutCUBLAS(\"Ccublas.dat\");\n",
        "\tprint_matrix(C,foutCUBLAS);\n",
        "\t#endif\n",
        "\n",
        "\n",
        "\t#ifdef CUBLASXt\n",
        "\tMatMulCublasXt(A,B,C); //warmup\n",
        "\treloj_cpu.tic();\n",
        "\tMatMulCublasXt(A,B,C);\n",
        "\tprintf(\"N= %d cublasXt: %f ms\\n\", N, reloj_cpu.tac());\n",
        "\tstd::ofstream foutCUBLASXt(\"Ccublasxt.dat\");\n",
        "\tprint_matrix(C,foutCUBLASXt);\n",
        "\t#endif\n",
        "\n",
        "\n",
        "        return 0;\n",
        "}\n"
      ],
      "execution_count": null,
      "outputs": [
        {
          "output_type": "execute_result",
          "data": {
            "application/vnd.google.colaboratory.intrinsic+json": {
              "type": "string"
            },
            "text/plain": [
              "'File written in /content/src/matmul.cu'"
            ]
          },
          "metadata": {
            "tags": []
          },
          "execution_count": 8
        }
      ]
    },
    {
      "cell_type": "markdown",
      "metadata": {
        "id": "xjZ9DdGyfV-J"
      },
      "source": [
        "y luego compilarlo"
      ]
    },
    {
      "cell_type": "code",
      "metadata": {
        "id": "gbc3CT23cW3D"
      },
      "source": [
        "!nvcc -o /content/src/matmul /content/src/matmul.cu -lcublas -DDIM=1024"
      ],
      "execution_count": null,
      "outputs": []
    },
    {
      "cell_type": "markdown",
      "metadata": {
        "id": "3FLYIbybfXsV"
      },
      "source": [
        "y ejecutarlo"
      ]
    },
    {
      "cell_type": "code",
      "metadata": {
        "colab": {
          "base_uri": "https://localhost:8080/"
        },
        "id": "EV55n44bdECp",
        "outputId": "250d2565-fa22-439f-f609-17fd643b2e7b"
      },
      "source": [
        "!/content/src/matmul"
      ],
      "execution_count": null,
      "outputs": [
        {
          "output_type": "stream",
          "text": [
            "N= 1024 simple cpu: 7921.937681 ms\n",
            "N= 1024 simple_CUDA: 45.084050 ms\n",
            "N= 1024 simple_CUDA_shared: 8.815072 ms\n",
            "N= 1024 cublas: 6.342038 ms\n",
            "N= 1024 cublasXt: 7.568428 ms\n"
          ],
          "name": "stdout"
        }
      ]
    },
    {
      "cell_type": "code",
      "metadata": {
        "colab": {
          "base_uri": "https://localhost:8080/",
          "height": 636
        },
        "id": "reFdGdGqJCxk",
        "outputId": "95a2f59f-0142-4b72-df52-60eb966dadde"
      },
      "source": [
        "import matplotlib.pyplot as plt\n",
        "import numpy as np\n",
        "\n",
        "A = np.loadtxt(\"A.dat\", dtype='f', delimiter=' ')\n",
        "B = np.loadtxt(\"B.dat\", dtype='f', delimiter=' ')\n",
        "Ccpu = np.loadtxt(\"Ccpu.dat\", dtype='f', delimiter=' ')\n",
        "Cgpu = np.loadtxt(\"Ccuda.dat\", dtype='f', delimiter=' ')\n",
        "Cgpu2 = np.loadtxt(\"Ccudashared.dat\", dtype='f', delimiter=' ')\n",
        "Cgpu3 = np.loadtxt(\"Ccublas.dat\", dtype='f', delimiter=' ')\n",
        "\n",
        "print(\"A x B = Ccpu\")\n",
        "\n",
        "plt.subplot(1,3,1)\n",
        "plt.imshow(A, cmap='hot', interpolation='nearest')\n",
        "#plt.show()\n",
        "\n",
        "plt.subplot(1,3,2)\n",
        "plt.imshow(B, cmap='hot', interpolation='nearest')\n",
        "#plt.show()\n",
        "\n",
        "plt.subplot(1,3,3)\n",
        "plt.imshow(Ccpu, cmap='hot', interpolation='nearest')\n",
        "\n",
        "plt.tight_layout()\n",
        "plt.show()\n",
        "\n",
        "print(\"A x B = Cgpu (naive)\")\n",
        "\n",
        "plt.subplot(1,3,1)\n",
        "plt.imshow(A, cmap='hot', interpolation='nearest')\n",
        "#plt.show()\n",
        "\n",
        "plt.subplot(1,3,2)\n",
        "plt.imshow(B, cmap='hot', interpolation='nearest')\n",
        "#plt.show()\n",
        "\n",
        "plt.subplot(1,3,3)\n",
        "plt.imshow(Cgpu, cmap='hot', interpolation='nearest')\n",
        "\n",
        "plt.tight_layout()\n",
        "plt.show()\n",
        "\n",
        "\n",
        "print(\"A x B = Cgpu (shared)\")\n",
        "\n",
        "plt.subplot(1,3,1)\n",
        "plt.imshow(A, cmap='hot', interpolation='nearest')\n",
        "#plt.show()\n",
        "\n",
        "plt.subplot(1,3,2)\n",
        "plt.imshow(B, cmap='hot', interpolation='nearest')\n",
        "#plt.show()\n",
        "\n",
        "plt.subplot(1,3,3)\n",
        "plt.imshow(Cgpu2, cmap='hot', interpolation='nearest')\n",
        "\n",
        "plt.tight_layout()\n",
        "plt.show()\n",
        "\n",
        "\n",
        "\n",
        "print(\"A x B = Cgpu (cublas)\")\n",
        "\n",
        "plt.subplot(1,3,1)\n",
        "plt.imshow(A, cmap='hot', interpolation='nearest')\n",
        "#plt.show()\n",
        "\n",
        "plt.subplot(1,3,2)\n",
        "plt.imshow(B, cmap='hot', interpolation='nearest')\n",
        "#plt.show()\n",
        "\n",
        "plt.subplot(1,3,3)\n",
        "plt.imshow(Cgpu3, cmap='hot', interpolation='nearest')\n",
        "\n",
        "plt.tight_layout()\n",
        "plt.show()\n"
      ],
      "execution_count": null,
      "outputs": [
        {
          "output_type": "stream",
          "text": [
            "A x B = Ccpu\n"
          ],
          "name": "stdout"
        },
        {
          "output_type": "display_data",
          "data": {
            "image/png": "[encoded data removed]",
            "text/plain": [
              "<Figure size 432x288 with 3 Axes>"
            ]
          },
          "metadata": {
            "tags": [],
            "needs_background": "light"
          }
        },
        {
          "output_type": "stream",
          "text": [
            "A x B = Cgpu (naive)\n"
          ],
          "name": "stdout"
        },
        {
          "output_type": "display_data",
          "data": {
            "image/png": "[encoded data removed]",
            "text/plain": [
              "<Figure size 432x288 with 3 Axes>"
            ]
          },
          "metadata": {
            "tags": [],
            "needs_background": "light"
          }
        },
        {
          "output_type": "stream",
          "text": [
            "A x B = Cgpu (shared)\n"
          ],
          "name": "stdout"
        },
        {
          "output_type": "display_data",
          "data": {
            "image/png": "[encoded data removed]",
            "text/plain": [
              "<Figure size 432x288 with 3 Axes>"
            ]
          },
          "metadata": {
            "tags": [],
            "needs_background": "light"
          }
        },
        {
          "output_type": "stream",
          "text": [
            "A x B = Cgpu (cublas)\n"
          ],
          "name": "stdout"
        },
        {
          "output_type": "display_data",
          "data": {
            "image/png": "[encoded data removed]",
            "text/plain": [
              "<Figure size 432x288 with 3 Axes>"
            ]
          },
          "metadata": {
            "tags": [],
            "needs_background": "light"
          }
        }
      ]
    },
    {
      "cell_type": "markdown",
      "metadata": {
        "id": "IbvLlxFh7pZz"
      },
      "source": [
        "# Reducción\n",
        "\n"
      ]
    },
    {
      "cell_type": "code",
      "metadata": {
        "id": "bPaXhDUEA9uS",
        "colab": {
          "base_uri": "https://localhost:8080/",
          "height": 35
        },
        "outputId": "33c09759-0332-4758-b318-d8db0453eb4d"
      },
      "source": [
        "%%cuda --name reduccion.cu\n",
        "\n",
        "#include <iostream>\n",
        "#include <thrust/host_vector.h>\n",
        "#include <thrust/device_vector.h>\n",
        "#include <thrust/reduce.h>\n",
        "#include <thrust/execution_policy.h>\n",
        "#include <thrust/fill.h>\n",
        "#include <ctime>\n",
        "#include <sys/time.h>\n",
        "#include <sstream>\n",
        "#include <string>\n",
        "#include <fstream>\n",
        "#include \"/content/drive/MyDrive/gpu_timer.h\"\n",
        "#include \"/content/drive/MyDrive/cpu_timer.h\"\n",
        "\n",
        "using namespace std;\n",
        "typedef float tipo;\n",
        "\n",
        "// esto esta mal, ¿porque?\n",
        "__global__ void reduce_mal(tipo *g_idata, int size)\n",
        "{\n",
        "   unsigned int i = blockIdx.x*blockDim.x + threadIdx.x;\n",
        "\n",
        "   for(unsigned int s=size/2; s>0; s>>=1)\n",
        "   { \n",
        "        if (i < s) {\n",
        "         g_idata[i] += g_idata[i + s];\n",
        "        }\n",
        "   }\n",
        "}\n",
        "\n",
        "// esto esta bien, pero es muy lento, ¿porque?\n",
        "__global__ void reduce_atomics(tipo *g_idata, int size)\n",
        "{\n",
        "    unsigned int i = blockIdx.x*blockDim.x + threadIdx.x;\n",
        "\n",
        "    if(i>0 && i<size) atomicAdd(&g_idata[0], g_idata[i]);\n",
        "}\n",
        "\n",
        "\n",
        "// block reduction\n",
        "__global__ void reduce_shared(tipo *g_idata, tipo *g_odata, int size){\n",
        "\n",
        "   extern __shared__ tipo sdata[];\n",
        "\n",
        "   unsigned int tid = threadIdx.x;\n",
        "   unsigned int i = blockIdx.x*blockDim.x + threadIdx.x;\n",
        "   sdata[tid] = 0;\n",
        " \n",
        "   // carga de datos de global a shared memory\n",
        "   if(i<size)\n",
        "     sdata[tid] = g_idata[i];\n",
        "   __syncthreads();\n",
        "\n",
        "   // reduccion en arbol sequential addressing\n",
        "   for(unsigned int s=blockDim.x/2; s>0; s>>=1) \n",
        "   {\n",
        "      if (tid < s) {\n",
        "         sdata[tid] += sdata[tid + s];\n",
        "      }\n",
        "      __syncthreads();\n",
        "   }\n",
        "\n",
        "   if (tid == 0) atomicAdd(&g_odata[0], sdata[0]);;\n",
        "}\n",
        "\n",
        "// block reduction\n",
        "__global__ void reduce_global(tipo *g_idata, tipo *g_odata, int size){\n",
        "\n",
        "   unsigned int tid = threadIdx.x;\n",
        "   unsigned int i0 = blockIdx.x*blockDim.x;\n",
        "   unsigned int i=i0+tid;\n",
        "\n",
        "   // reduccion en arbol sequential addressing\n",
        "   for(unsigned int s=blockDim.x/2; s>0; s>>=1) \n",
        "   {\n",
        "      if (tid < s) {\n",
        "         g_idata[i] += g_idata[i + s];\n",
        "      }\n",
        "      __syncthreads();\n",
        "   }\n",
        "\n",
        "   if (tid == 0) atomicAdd(&g_odata[0], g_idata[i0]);\n",
        "}\n",
        "\n",
        "\n",
        "#define SIZE 10\n",
        "\n",
        "\n",
        "int main(int argc, char **argv){\n",
        "\n",
        "  assert(argc==3);\n",
        "  int size = atoi(argv[1]);\n",
        "  //int size = SIZE; \n",
        "\n",
        "  // crea un vector de host de size \"ints\" y lo inicializa a 1\n",
        "  thrust::host_vector<tipo> data_h_i(size, 1);\n",
        "  srand(1); for(int i=0;i<data_h_i.size();i++) data_h_i[i]=(rand()*1.0/RAND_MAX);\n",
        "\n",
        "  //initialize the data, all values will be 1\n",
        "  //so the final sum will be equal to size\n",
        "  int threadsPerBlock = 256;\n",
        "  int totalBlocks = (size+(threadsPerBlock-1))/threadsPerBlock;\n",
        "\n",
        "  // una forma de \"empaquetar\" vectores de device usando thrust\n",
        "  // crea y aloca un vector de device de \"int\" y copia el contenido de un vector de host \n",
        "  thrust::device_vector<tipo> data_v_i = data_h_i;\n",
        "\n",
        "  // crea y aloca un vector de device de totalBlocks elementos \"int\" \n",
        "  thrust::device_vector<tipo> data_v_o(totalBlocks);\n",
        "\n",
        "  // los vectors de device son algo mas que un punter a memoria de device\n",
        "  tipo* output = thrust::raw_pointer_cast(data_v_o.data());\n",
        "  tipo* input = thrust::raw_pointer_cast(data_v_i.data());\n",
        "\n",
        "\n",
        "  gpu_timer reloj;\n",
        "  cpu_timer relojcpu;\n",
        "  int sum=0;\n",
        "\n",
        "  int opt=atoi(argv[2]);\n",
        "  //int opt=OPT;\n",
        "\n",
        "  switch(opt){\n",
        "\tcase 0:\t\n",
        "\treloj.tic();\n",
        "   reduce_mal<<<totalBlocks, threadsPerBlock, threadsPerBlock*sizeof(int)>>>(input, size);\n",
        "\tstd::cout << \"reduccion erronea: \" << data_v_i[0] << \" (dio bien?) en \" << reloj.tac() << \" ms\" << std::endl;\n",
        "\tbreak;\n",
        "\n",
        "   case 1:\t\n",
        "\treloj.tic();\n",
        "   reduce_atomics<<<totalBlocks, threadsPerBlock, threadsPerBlock*sizeof(int)>>>(input, size);\n",
        "\tstd::cout << \"reduccion con atomics: \" << data_v_i[0] << \" (dio bien?) en \" << reloj.tac() << \" ms\" << std::endl;\n",
        "\tbreak;\n",
        "\n",
        "\tcase 2:\n",
        "\treloj.tic();\n",
        "   reduce_shared<<<totalBlocks, threadsPerBlock, threadsPerBlock*sizeof(int)>>>(input, output, size);\n",
        "   std::cout << \"reduccion en arbol con shared: \" << data_v_o[0] << \" (dio bien?) en \" << reloj.tac() << \" ms\" << std::endl;\n",
        "\tbreak;\n",
        "\n",
        "\tcase 3:\n",
        "\treloj.tic();\n",
        "   reduce_global<<<totalBlocks, threadsPerBlock>>>(input, output, size);\n",
        "   std::cout << \"reduccion en arbol con global: \" << data_v_o[0] << \" (dio bien?) en \" << reloj.tac() << \" ms\" << std::endl;\n",
        "\tbreak;\n",
        "\n",
        "\tcase 4:\n",
        "\treloj.tic();\n",
        "  \t// todo lo anterior se puede hacer en una línea usando la biblioteca thrust \n",
        "\tsum = thrust::reduce(thrust::device,input,input+size);\n",
        "  \tcout << \"reduccion con thrust en device: \" << sum \n",
        "\t     << \" (dio bien?) en \" << reloj.tac() << \" ms\" << std::endl;\n",
        "\tbreak;\n",
        "\n",
        "\tcase 5:\n",
        "\trelojcpu.tic();\n",
        "\tsum = thrust::reduce(data_h_i.begin(),data_h_i.end());\n",
        "  \tcout << \"reduccion con thrust en host: \" << sum << \" (dio bien?) en \" << relojcpu.tac() << \" ms\" << std::endl;\n",
        "\tbreak;\n",
        "\n",
        "  case 6:\n",
        "\trelojcpu.tic();\n",
        "\tsum = 0;\n",
        "   for(int i=0;i<data_h_i.size();i++) sum+=data_h_i[i];\n",
        "  \tcout << \"reduccion naive en host: \" << sum << \" (dio bien?) en \" << relojcpu.tac() << \" ms\" << std::endl;\n",
        "\tbreak;\n",
        "\n",
        "}\n",
        "  return 0;\n",
        "\n",
        "}\n"
      ],
      "execution_count": null,
      "outputs": [
        {
          "output_type": "execute_result",
          "data": {
            "application/vnd.google.colaboratory.intrinsic+json": {
              "type": "string"
            },
            "text/plain": [
              "'File written in /content/src/reduccion.cu'"
            ]
          },
          "metadata": {
            "tags": []
          },
          "execution_count": 35
        }
      ]
    },
    {
      "cell_type": "code",
      "metadata": {
        "id": "ukrhJk9y9yjE"
      },
      "source": [
        "!nvcc -O2 /content/src/reduccion.cu -o reduccion"
      ],
      "execution_count": null,
      "outputs": []
    },
    {
      "cell_type": "code",
      "metadata": {
        "colab": {
          "base_uri": "https://localhost:8080/"
        },
        "id": "vaMWACk093DK",
        "outputId": "fab9227e-66ac-43d7-ece0-2e32da6efd59"
      },
      "source": [
        "!for l in 1 2 3 4 5 6; do /content/reduccion 33445532 $l; done"
      ],
      "execution_count": null,
      "outputs": [
        {
          "output_type": "stream",
          "text": [
            "reduccion con atomics: 1.67228e+07 (dio bien?) en 114.476 ms\n",
            "reduccion en arbol con shared: 1.67228e+07 (dio bien?) en 2.72435 ms\n",
            "reduccion en arbol con global: 1.67228e+07 (dio bien?) en 3.75946 ms\n",
            "reduccion con thrust en device: 16722932 (dio bien?) en 0.981568 ms\n",
            "reduccion con thrust en host: 16722810 (dio bien?) en 49.4481 ms\n",
            "reduccion naive en host: 3 (dio bien?) en 203.079 ms\n"
          ],
          "name": "stdout"
        }
      ]
    },
    {
      "cell_type": "code",
      "metadata": {
        "colab": {
          "base_uri": "https://localhost:8080/",
          "height": 309
        },
        "id": "EdrO0GK2-KdO",
        "outputId": "1fa86fe5-0311-4b01-cb3f-ff4e1f5c0cf8"
      },
      "source": [
        "import matplotlib\n",
        "import matplotlib.pyplot as plt\n",
        "import numpy as np\n",
        "\n",
        "N = 6\n",
        "##completar los tiempos aqui... en orden de aparicion\n",
        "tiempos = (114.476 ,2.72435,3.75946, 0.981568,49.4481, 203.079)\n",
        "ind = np.arange(N)    # the x locations for the groups\n",
        "width = 0.5       # the width of the bars: can also be len(x) sequence\n",
        "\n",
        "fig, ax = plt.subplots()\n",
        "ax.set_xticklabels(('atomics','atomics', 'shared','global','thrust-device', 'thrust-host', 'naive-host'))\n",
        "ax.set_yscale('log')\n",
        "ax.set_xlabel('')\n",
        "ax.set_ylabel('tiempo [ms]')\n",
        "plt.setp(ax.get_xticklabels(), rotation=45, ha=\"right\",\n",
        "         rotation_mode=\"anchor\")\n",
        "\n",
        "p1 = ax.bar(ind, tiempos, width)\n",
        "plt.show()"
      ],
      "execution_count": null,
      "outputs": [
        {
          "output_type": "display_data",
          "data": {
            "image/png": "[encoded data removed]",
            "text/plain": [
              "<Figure size 432x288 with 1 Axes>"
            ]
          },
          "metadata": {
            "tags": [],
            "needs_background": "light"
          }
        }
      ]
    }
  ]
}