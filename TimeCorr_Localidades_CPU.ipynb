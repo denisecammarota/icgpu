{
 "cells": [
  {
   "cell_type": "code",
   "execution_count": 1,
   "id": "15a0fb5d",
   "metadata": {},
   "outputs": [],
   "source": [
    "## Carga de librerías\n",
    "import numpy as np\n",
    "import pandas as pd\n",
    "import matplotlib.pyplot as plt\n",
    "import time\n",
    "np.random.seed(0)"
   ]
  },
  {
   "cell_type": "code",
   "execution_count": 2,
   "id": "48b46e69",
   "metadata": {},
   "outputs": [],
   "source": [
    "## Funciones auxiliares\n",
    "def change_dates(df):\n",
    "    #changes fecha_inicio_sintomas according to new criteria\n",
    "    filt_df2 = (df.fecha_inicio_sintomas.isnull()) #filter fecha_inicio_sintomas = inexistant\n",
    "    n_size = (df[filt_df2]).shape[0]\n",
    "    df[\"fecha_inicio_sintomas\"] = df[\"fecha_inicio_sintomas\"].fillna(0)\n",
    "    df[\"fecha_inicio_sintomas\"] = df[\"fecha_inicio_sintomas\"].astype('int')\n",
    "    df[\"fecha_apertura\"] = df[\"fecha_apertura\"].astype('int')\n",
    "    b = np.array(df[\"fecha_apertura\"].values)\n",
    "    a = np.array(df[\"fecha_inicio_sintomas\"].values)\n",
    "    a[filt_df2.values] = b[filt_df2.values] - np.random.randint(0,9,a[filt_df2.values].shape)\n",
    "    filt_a = np.where(a<0)\n",
    "    a[filt_a] = 0\n",
    "    df = df.drop([\"fecha_inicio_sintomas\"],axis=1)\n",
    "    df[\"fecha_inicio_sintomas\"] = a\n",
    "    return df"
   ]
  },
  {
   "cell_type": "code",
   "execution_count": 4,
   "id": "781e41dc",
   "metadata": {},
   "outputs": [
    {
     "name": "stdout",
     "output_type": "stream",
     "text": [
      "0\n"
     ]
    }
   ],
   "source": [
    "tiempo1 = []\n",
    "tiempo2 = []\n",
    "tiempo3 = []\n",
    "N = 1\n",
    "for cont in range(N):\n",
    "    print(cont)\n",
    "    start1 = time.time()\n",
    "    start2 = time.time()\n",
    "    ## Carga de datos, sacamos las series temporal\n",
    "    direccion = '12en20.csv'\n",
    "    columnas = ['residencia_provincia_nombre','residencia_departamento_nombre','fecha_inicio_sintomas',\n",
    "                'fecha_apertura','clasificacion_resumen']\n",
    "    data = pd.read_csv(direccion,sep=\",\",quotechar='\"', usecols=columnas,\n",
    "                       parse_dates=[\"fecha_inicio_sintomas\",\"fecha_apertura\"],na_values=['']) \n",
    "    end2 = time.time()\n",
    "    data = data[data[\"clasificacion_resumen\"] == \"Confirmado\"] #filter confirmed cases\n",
    "    df = pd.DataFrame(data) \n",
    "    df = df.drop(['clasificacion_resumen'], axis=1) #drop clasificacion_resumen bc previous filter of confirmed cases\n",
    "    filt_df1 = (df.fecha_inicio_sintomas.notnull()) #filter fecha_inicio_sintomas = inexistant\n",
    "    inicio_epidemia = (df.loc[filt_df1,\"fecha_inicio_sintomas\"]).min() #first symptoms of a person registered\n",
    "    ultima_actualizacion_sintomas = (df.loc[filt_df1,\"fecha_inicio_sintomas\"]).max() #last day symptoms of a person registered\n",
    "    ultima_actualizacion_apertura = (df[\"fecha_apertura\"]).max()\n",
    "    df[\"fecha_inicio_sintomas\"] -= inicio_epidemia #correcting by inicio_epidemia \n",
    "    df[\"fecha_apertura\"] -= inicio_epidemia #correcting by inicio_epidemia\n",
    "    df.fecha_inicio_sintomas = df.fecha_inicio_sintomas.dt.days #change to int, ditch days \n",
    "    df.fecha_apertura = df.fecha_apertura.dt.days #change to int, ditch days\n",
    "    #print(\"primer sintoma de persona confirmada: \",inicio_epidemia)\n",
    "    #print(\"ultimo sintoma de persona confirmada: \",ultima_actualizacion_sintomas)\n",
    "    #print(\"ultima apertura de persona confirmada: \",ultima_actualizacion_apertura)\n",
    "    df = change_dates(df) # we have replaced all bad or undefined dates\n",
    "    df = df[[\"residencia_departamento_nombre\",\"fecha_inicio_sintomas\"]]\n",
    "    df2 = df.groupby([\"residencia_departamento_nombre\",\"fecha_inicio_sintomas\"]).size().reset_index() \n",
    "    df2 = df2.rename(columns={0:'casos'})\n",
    "    df3 = df2.sort_values([\"residencia_departamento_nombre\",\"fecha_inicio_sintomas\"],ascending=[True,True])\n",
    "    #let's list all the provinces that have cases\n",
    "    #we'll get those times series then, with pd grouping\n",
    "    provincias = pd.Series(df3[\"residencia_departamento_nombre\"].unique())\n",
    "    # there are 24 provinces (23 + CABA) + SIN ESPECIFICAR cases\n",
    "    rows = provincias.shape[0]\n",
    "    cols = df2[\"fecha_inicio_sintomas\"].max()\n",
    "    time_series = np.zeros(shape=(rows,cols+1)) #time series of new cases / day\n",
    "    time_series_ac = np.zeros(shape=(rows,cols+1)) # time series of attack rate / day (attack rate = 14 days cumulate of new cases)\n",
    "    j = 0\n",
    "    for i in provincias:\n",
    "      df_tmp = df3[df3[\"residencia_departamento_nombre\"]==i]\n",
    "      tmp_dates = np.array(df_tmp[\"fecha_inicio_sintomas\"].values)\n",
    "      tmp_cases = np.array(df_tmp[\"casos\"].values)\n",
    "      time_series[j,tmp_dates]= tmp_cases\n",
    "      j = j + 1\n",
    "    for i in range(rows):\n",
    "      for j in range(13,cols):\n",
    "        time_series_ac[i,j] = np.sum(time_series[i,j-13:j+1])\n",
    "    # Ahora, lo hacemos en serio, tipo todas las provincias contra todas las provincias, y guardamos los resultados\n",
    "    start3 = time.time()\n",
    "    localidades_lagmax = np.zeros(shape=(rows,rows))\n",
    "    localidades_corrmax = np.zeros(shape=(rows,rows))\n",
    "    npts = cols\n",
    "    lags = np.arange(-npts + 1, npts)\n",
    "    i = 0\n",
    "    while i < rows:\n",
    "        j = 0\n",
    "        prov_tmp_1 = time_series_ac[i,:-10]\n",
    "        while j < rows:\n",
    "            prov_tmp_2 = time_series_ac[j,:-10]\n",
    "            ccov = np.correlate(prov_tmp_1  - prov_tmp_1 .mean(), prov_tmp_2 - prov_tmp_2.mean(), mode='full')\n",
    "            ccor = ccov / (npts * prov_tmp_1 .std() * prov_tmp_2.std())\n",
    "            localidades_lagmax[i,j] = lags[np.argmax(ccor)]\n",
    "            localidades_corrmax[i,j] = np.max(ccor)\n",
    "            j = j + 1\n",
    "        i = i +1\n",
    "    end3 = time.time()\n",
    "    end1 = time.time()\n",
    "    tiempo1.append(end1 - start1)\n",
    "    tiempo2.append(end2 - start2)\n",
    "    tiempo3.append(end3 - start3)"
   ]
  },
  {
   "cell_type": "code",
   "execution_count": 5,
   "id": "e7c28dac",
   "metadata": {},
   "outputs": [
    {
     "name": "stdout",
     "output_type": "stream",
     "text": [
      "Tiempo 1:  52.541179895401 0.0\n",
      "Tiempo 2:  18.366300106048584 0.0\n",
      "Tiempo 3:  30.305973291397095 0.0\n"
     ]
    }
   ],
   "source": [
    "print('Tiempo 1: ',np.array(tiempo1).mean(),np.array(tiempo1).std())\n",
    "print('Tiempo 2: ',np.array(tiempo2).mean(),np.array(tiempo2).std())\n",
    "print('Tiempo 3: ',np.array(tiempo3).mean(),np.array(tiempo3).std())"
   ]
  },
  {
   "cell_type": "code",
   "execution_count": null,
   "id": "c94a2176",
   "metadata": {},
   "outputs": [],
   "source": []
  }
 ],
 "metadata": {
  "kernelspec": {
   "display_name": "Python 3",
   "language": "python",
   "name": "python3"
  },
  "language_info": {
   "codemirror_mode": {
    "name": "ipython",
    "version": 3
   },
   "file_extension": ".py",
   "mimetype": "text/x-python",
   "name": "python",
   "nbconvert_exporter": "python",
   "pygments_lexer": "ipython3",
   "version": "3.7.10"
  }
 },
 "nbformat": 4,
 "nbformat_minor": 5
}
