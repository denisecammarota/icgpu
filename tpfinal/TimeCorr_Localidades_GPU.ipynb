{
 "cells": [
  {
   "cell_type": "code",
   "execution_count": 1,
   "id": "3cd7ad51",
   "metadata": {},
   "outputs": [],
   "source": [
    "import cudf \n",
    "import cupy as cp\n",
    "cp.random.seed(0)"
   ]
  },
  {
   "cell_type": "code",
   "execution_count": 2,
   "id": "15a0fb5d",
   "metadata": {},
   "outputs": [],
   "source": [
    "import numpy as np\n",
    "import matplotlib.pyplot as plt"
   ]
  },
  {
   "cell_type": "code",
   "execution_count": 3,
   "id": "48b46e69",
   "metadata": {},
   "outputs": [],
   "source": [
    "def change_dates(df):\n",
    "    #changes fecha_inicio_sintomas according to new criteria\n",
    "    filt_df2 = (df.fecha_inicio_sintomas.isnull()) #filter fecha_inicio_sintomas = inexistant\n",
    "    n_size = (df[filt_df2]).shape[0]\n",
    "    df[\"fecha_inicio_sintomas\"] = df[\"fecha_inicio_sintomas\"].fillna(0)\n",
    "    df[\"fecha_inicio_sintomas\"] = df[\"fecha_inicio_sintomas\"].astype('int')\n",
    "    df[\"fecha_apertura\"] = df[\"fecha_apertura\"].astype('int')\n",
    "    b = cp.array(df[\"fecha_apertura\"].values)\n",
    "    a = cp.array(df[\"fecha_inicio_sintomas\"].values)\n",
    "    a[filt_df2.values] = b[filt_df2.values] - cp.random.randint(0,9,a[filt_df2.values].shape)\n",
    "    filt_a = cp.where(a<0)\n",
    "    a[filt_a] = 0\n",
    "    df = df.drop([\"fecha_inicio_sintomas\"],axis=1)\n",
    "    df[\"fecha_inicio_sintomas\"] = a\n",
    "    return df"
   ]
  },
  {
   "cell_type": "markdown",
   "id": "1747f528",
   "metadata": {},
   "source": [
    "## Carga de datos, sacamos las series temporal"
   ]
  },
  {
   "cell_type": "code",
   "execution_count": 4,
   "id": "bb6e5805",
   "metadata": {},
   "outputs": [],
   "source": [
    "direccion = '12en20.csv'\n",
    "columnas = ['residencia_provincia_nombre','residencia_departamento_nombre','fecha_inicio_sintomas',\n",
    "            'fecha_apertura','clasificacion_resumen']\n",
    "data = cudf.read_csv(direccion,sep=\",\",quotechar='\"', usecols=columnas,\n",
    "                   parse_dates=[\"fecha_inicio_sintomas\",\"fecha_apertura\"],na_values=['']) "
   ]
  },
  {
   "cell_type": "code",
   "execution_count": 5,
   "id": "2a6990f7",
   "metadata": {},
   "outputs": [],
   "source": [
    "data = data[data[\"clasificacion_resumen\"] == \"Confirmado\"] #filter confirmed cases\n",
    "df = cudf.DataFrame(data) "
   ]
  },
  {
   "cell_type": "code",
   "execution_count": 6,
   "id": "e561c83d",
   "metadata": {},
   "outputs": [],
   "source": [
    "df = df.drop(['clasificacion_resumen'], axis=1) #drop clasificacion_resumen bc previous filter of confirmed cases"
   ]
  },
  {
   "cell_type": "code",
   "execution_count": 7,
   "id": "7fdd4406",
   "metadata": {},
   "outputs": [
    {
     "name": "stdout",
     "output_type": "stream",
     "text": [
      "primer sintoma de persona confirmada:  2020-01-01T00:00:00.000000000\n",
      "ultimo sintoma de persona confirmada:  2021-01-11T00:00:00.000000000\n",
      "ultima apertura de persona confirmada:  2021-01-11T00:00:00.000000000\n"
     ]
    }
   ],
   "source": [
    "filt_df1 = (df.fecha_inicio_sintomas.notnull()) #filter fecha_inicio_sintomas = inexistant\n",
    "inicio_epidemia = (df.loc[filt_df1,\"fecha_inicio_sintomas\"]).min() #first symptoms of a person registered\n",
    "ultima_actualizacion_sintomas = (df.loc[filt_df1,\"fecha_inicio_sintomas\"]).max() #last day symptoms of a person registered\n",
    "ultima_actualizacion_apertura = (df[\"fecha_apertura\"]).max()\n",
    "df[\"fecha_inicio_sintomas\"] -= inicio_epidemia #correcting by inicio_epidemia \n",
    "df[\"fecha_apertura\"] -= inicio_epidemia #correcting by inicio_epidemia\n",
    "df.fecha_inicio_sintomas = df.fecha_inicio_sintomas.dt.days #change to int, ditch days \n",
    "df.fecha_apertura = df.fecha_apertura.dt.days #change to int, ditch days\n",
    "print(\"primer sintoma de persona confirmada: \",inicio_epidemia)\n",
    "print(\"ultimo sintoma de persona confirmada: \",ultima_actualizacion_sintomas)\n",
    "print(\"ultima apertura de persona confirmada: \",ultima_actualizacion_apertura)"
   ]
  },
  {
   "cell_type": "code",
   "execution_count": 8,
   "id": "29dcf7a4",
   "metadata": {},
   "outputs": [],
   "source": [
    "df = change_dates(df) # we have replaced all bad or undefined dates"
   ]
  },
  {
   "cell_type": "code",
   "execution_count": 9,
   "id": "44dc2da1",
   "metadata": {},
   "outputs": [
    {
     "name": "stdout",
     "output_type": "stream",
     "text": [
      "0      12 de Octubre\n",
      "1         1º de Mayo\n",
      "2         2 de Abril\n",
      "3         25 de Mayo\n",
      "4         9 de Julio\n",
      "           ...      \n",
      "442           Zapala\n",
      "443            Zonda\n",
      "444           Zárate\n",
      "445        Ñorquincó\n",
      "446          Ñorquín\n",
      "Name: residencia_departamento_nombre, Length: 447, dtype: object\n"
     ]
    }
   ],
   "source": [
    "#let's list all the provinces that have cases (all rn tbh, but just to use pandas stuff)\n",
    "#we'll get those times series then, with cudf grouping\n",
    "provincias = df[\"residencia_departamento_nombre\"].unique()\n",
    "#print: we get provinces + the sin especificar / unespecified thing\n",
    "print(provincias)"
   ]
  },
  {
   "cell_type": "code",
   "execution_count": 10,
   "id": "4a017bc3",
   "metadata": {},
   "outputs": [
    {
     "name": "stderr",
     "output_type": "stream",
     "text": [
      "/home/denise/miniconda3/envs/gpup/lib/python3.7/site-packages/cudf/core/frame.py:2627: UserWarning: When using a sequence of booleans for `ascending`, `na_position` flag is not yet supported and defaults to treating nulls as greater than all numbers\n",
      "  \"When using a sequence of booleans for `ascending`, \"\n"
     ]
    }
   ],
   "source": [
    "df = df[[\"residencia_departamento_nombre\",\"fecha_inicio_sintomas\"]]\n",
    "df2 = df.groupby([\"residencia_departamento_nombre\",\"fecha_inicio_sintomas\"]).size().reset_index() \n",
    "df2 = df2.rename(columns={0:'casos'})\n",
    "df3 = df2.sort_values([\"residencia_departamento_nombre\",\"fecha_inicio_sintomas\"],ascending=[True,True])"
   ]
  },
  {
   "cell_type": "code",
   "execution_count": 11,
   "id": "e3734fc8",
   "metadata": {},
   "outputs": [],
   "source": [
    "rows = provincias.shape[0]\n",
    "cols = df2[\"fecha_inicio_sintomas\"].max()\n",
    "time_series = cp.zeros(shape=(rows,cols))\n",
    "time_series_ac = cp.zeros(shape=(rows,cols))"
   ]
  },
  {
   "cell_type": "code",
   "execution_count": 12,
   "id": "c43b1422",
   "metadata": {},
   "outputs": [],
   "source": [
    "j = 0\n",
    "for i in provincias.to_pandas():\n",
    "  df_tmp = df3[df3[\"residencia_departamento_nombre\"]==i]\n",
    "  tmp_dates = cp.array(df_tmp[\"fecha_inicio_sintomas\"].values)\n",
    "  tmp_cases = cp.array(df_tmp[\"casos\"].values)\n",
    "  time_series[j,tmp_dates]= tmp_cases\n",
    "  j = j + 1"
   ]
  },
  {
   "cell_type": "code",
   "execution_count": 13,
   "id": "e6626963",
   "metadata": {},
   "outputs": [],
   "source": [
    "for i in range(rows):\n",
    "  for j in range(13,cols):\n",
    "    time_series_ac[i,j] = cp.sum(time_series[i,j-13:j+1])"
   ]
  },
  {
   "cell_type": "code",
   "execution_count": 14,
   "id": "241824a7",
   "metadata": {},
   "outputs": [
    {
     "data": {
      "text/plain": [
       "array([[  0.,   0.,   0., ...,  33.,  28.,  22.],\n",
       "       [  0.,   0.,   0., ...,  10.,   8.,   8.],\n",
       "       [  0.,   0.,   0., ...,   3.,   3.,   2.],\n",
       "       ...,\n",
       "       [  0.,   0.,   0., ..., 197., 178., 163.],\n",
       "       [  0.,   0.,   0., ...,   0.,   0.,   0.],\n",
       "       [  0.,   0.,   0., ..., 109., 100.,  85.]])"
      ]
     },
     "execution_count": 14,
     "metadata": {},
     "output_type": "execute_result"
    }
   ],
   "source": [
    "time_series_ac"
   ]
  },
  {
   "cell_type": "markdown",
   "id": "ea4e2546",
   "metadata": {},
   "source": [
    "## Primero, aca vamos a calcular la correlacion de Pearson y chequear que de todo bien\n",
    "\n",
    "Esto funciona aca y esta todo tranquilo, no hay problema!"
   ]
  },
  {
   "cell_type": "code",
   "execution_count": 15,
   "id": "3766fc54",
   "metadata": {},
   "outputs": [],
   "source": [
    "#no existe en cupy, la hago yo a esta funcion \n",
    "def pearsonr(a,b):\n",
    "  m_a = cp.mean(a)\n",
    "  m_b = cp.mean(b)\n",
    "  r_a = a - m_a\n",
    "  r_b = b - m_b\n",
    "  r_a_2 = cp.sum((r_a)**2) \n",
    "  r_b_2 = cp.sum((r_b)**2)\n",
    "  r = cp.sum((r_a*r_b)/cp.sqrt(r_a_2*r_b_2))\n",
    "  return r"
   ]
  },
  {
   "cell_type": "code",
   "execution_count": 16,
   "id": "d61dcd88",
   "metadata": {},
   "outputs": [
    {
     "data": {
      "text/plain": [
       "array(0.37532676)"
      ]
     },
     "execution_count": 16,
     "metadata": {},
     "output_type": "execute_result"
    }
   ],
   "source": [
    "#por ejemplo, correlaciones para caba y baires\n",
    "caba = time_series_ac[1,:-10]\n",
    "baires = time_series_ac[0,:-10]\n",
    "pearsonr(caba,baires)"
   ]
  },
  {
   "cell_type": "code",
   "execution_count": 17,
   "id": "da755f4c",
   "metadata": {},
   "outputs": [
    {
     "name": "stdout",
     "output_type": "stream",
     "text": [
      "Coeficientes de Pearson\n",
      "Pearson entre 1º de Mayo y Baires:  0.375\n",
      "Pearson entre 2 de Abril y Baires:  0.722\n",
      "Pearson entre 25 de Mayo y Baires:  0.611\n",
      "Pearson entre 9 de Julio y Baires:  0.919\n",
      "Pearson entre Adolfo Alsina y Baires:  0.629\n",
      "Pearson entre Adolfo Gonzales Chaves y Baires:  0.724\n",
      "Pearson entre Aguirre y Baires:  0.488\n",
      "Pearson entre Albardón y Baires:  0.826\n",
      "Pearson entre Alberdi y Baires:  0.157\n",
      "Pearson entre Alberti y Baires:  0.823\n",
      "Pearson entre Almirante Brown y Baires:  0.141\n",
      "Pearson entre Aluminé y Baires:  0.864\n",
      "Pearson entre Ambato y Baires:  0.397\n",
      "Pearson entre Ancasti y Baires:  0.3\n",
      "Pearson entre Andalgalá y Baires:  0.463\n",
      "Pearson entre Angaco y Baires:  0.773\n",
      "Pearson entre Anta y Baires:  0.618\n",
      "Pearson entre Antofagasta de la Sierra y Baires:  0.067\n",
      "Pearson entre Antártida Argentina y Baires:  0.387\n",
      "Pearson entre Apóstoles y Baires:  0.645\n",
      "Pearson entre Arauco y Baires:  0.284\n",
      "Pearson entre Arrecifes y Baires:  0.42\n",
      "Pearson entre Atamisqui y Baires:  0.393\n",
      "Pearson entre Atreucó y Baires:  0.615\n",
      "Pearson entre Avellaneda y Baires:  0.145\n",
      "Pearson entre Ayacucho y Baires:  0.771\n",
      "Pearson entre Azul y Baires:  0.493\n",
      "Pearson entre Añelo y Baires:  0.666\n",
      "Pearson entre Bahía Blanca y Baires:  0.483\n",
      "Pearson entre Balcarce y Baires:  0.804\n",
      "Pearson entre Banda y Baires:  0.577\n",
      "Pearson entre Baradero y Baires:  0.253\n",
      "Pearson entre Bariloche y Baires:  0.884\n",
      "Pearson entre Belgrano y Baires:  0.589\n",
      "Pearson entre Bella Vista y Baires:  0.831\n",
      "Pearson entre Belén y Baires:  0.163\n",
      "Pearson entre Benito Juárez y Baires:  0.824\n",
      "Pearson entre Berazategui y Baires:  0.101\n",
      "Pearson entre Berisso y Baires:  0.371\n",
      "Pearson entre Bermejo y Baires:  0.427\n",
      "Pearson entre Berón de Astrada y Baires:  0.67\n",
      "Pearson entre Biedma y Baires:  0.43\n",
      "Pearson entre Bolívar y Baires:  0.566\n",
      "Pearson entre Bragado y Baires:  0.221\n",
      "Pearson entre Brandsen y Baires:  0.071\n",
      "Pearson entre Burruyacú y Baires:  0.379\n",
      "Pearson entre COMUNA 01 y Baires:  -0.058\n",
      "Pearson entre COMUNA 02 y Baires:  0.606\n",
      "Pearson entre COMUNA 03 y Baires:  0.08\n",
      "Pearson entre COMUNA 04 y Baires:  -0.077\n",
      "Pearson entre COMUNA 05 y Baires:  0.291\n",
      "Pearson entre COMUNA 06 y Baires:  0.408\n",
      "Pearson entre COMUNA 07 y Baires:  -0.053\n",
      "Pearson entre COMUNA 08 y Baires:  -0.144\n",
      "Pearson entre COMUNA 09 y Baires:  0.164\n",
      "Pearson entre COMUNA 10 y Baires:  0.318\n",
      "Pearson entre COMUNA 11 y Baires:  0.393\n",
      "Pearson entre COMUNA 12 y Baires:  0.456\n",
      "Pearson entre COMUNA 13 y Baires:  0.586\n",
      "Pearson entre COMUNA 14 y Baires:  0.571\n",
      "Pearson entre COMUNA 15 y Baires:  0.222\n",
      "Pearson entre Cachi y Baires:  0.094\n",
      "Pearson entre Cafayate y Baires:  0.772\n",
      "Pearson entre Cainguás y Baires:  0.821\n",
      "Pearson entre Calamuchita y Baires:  0.306\n",
      "Pearson entre Caleu Caleu y Baires:  0.426\n",
      "Pearson entre Calingasta y Baires:  0.882\n",
      "Pearson entre Campana y Baires:  0.313\n",
      "Pearson entre Candelaria y Baires:  0.657\n",
      "Pearson entre Capayán y Baires:  0.586\n",
      "Pearson entre Capital y Baires:  0.508\n",
      "Pearson entre Capitán Sarmiento y Baires:  0.31\n",
      "Pearson entre Carlos Casares y Baires:  0.638\n",
      "Pearson entre Carlos Tejedor y Baires:  0.777\n",
      "Pearson entre Carmen de Areco y Baires:  0.728\n",
      "Pearson entre Caseros y Baires:  0.338\n",
      "Pearson entre Castellanos y Baires:  0.583\n",
      "Pearson entre Castelli y Baires:  0.305\n",
      "Pearson entre Castro Barros y Baires:  0.346\n",
      "Pearson entre Catriló y Baires:  0.532\n",
      "Pearson entre Catán Lil y Baires:  0.228\n",
      "Pearson entre Caucete y Baires:  0.488\n",
      "Pearson entre Cañuelas y Baires:  0.276\n",
      "Pearson entre Cerrillos y Baires:  0.242\n",
      "Pearson entre Chacabuco y Baires:  0.605\n",
      "Pearson entre Chalileo y Baires:  0.61\n",
      "Pearson entre Chamical y Baires:  0.051\n",
      "Pearson entre Chapaleufú y Baires:  0.208\n",
      "Pearson entre Chascomús y Baires:  0.265\n",
      "Pearson entre Chical Co y Baires:  0.416\n",
      "Pearson entre Chicligasta y Baires:  0.461\n",
      "Pearson entre Chicoana y Baires:  0.312\n",
      "Pearson entre Chilecito y Baires:  0.226\n",
      "Pearson entre Chimbas y Baires:  0.642\n",
      "Pearson entre Chivilcoy y Baires:  0.492\n",
      "Pearson entre Chos Malal y Baires:  0.623\n",
      "Pearson entre Choya y Baires:  0.509\n",
      "Pearson entre Cochinoca y Baires:  0.142\n",
      "Pearson entre Collón Curá y Baires:  0.52\n",
      "Pearson entre Colón y Baires:  0.627\n",
      "Pearson entre Comandante Fernández y Baires:  0.684\n",
      "Pearson entre Concepción y Baires:  0.659\n",
      "Pearson entre Concordia y Baires:  0.894\n",
      "Pearson entre Conesa y Baires:  -0.05\n",
      "Pearson entre Confluencia y Baires:  0.427\n",
      "Pearson entre Conhelo y Baires:  0.68\n",
      "Pearson entre Constitución y Baires:  0.569\n",
      "Pearson entre Copo y Baires:  0.646\n",
      "Pearson entre Coronel Dorrego y Baires:  0.753\n",
      "Pearson entre Coronel Felipe Varela y Baires:  0.228\n",
      "Pearson entre Coronel Pringles y Baires:  0.364\n",
      "Pearson entre Coronel Suárez y Baires:  0.428\n",
      "Pearson entre Coronel de Marina L. Rosales y Baires:  0.317\n",
      "Pearson entre Corpen Aike y Baires:  0.709\n",
      "Pearson entre Cruz Alta y Baires:  0.331\n",
      "Pearson entre Cruz del Eje y Baires:  0.431\n",
      "Pearson entre Curacó y Baires:  0.511\n",
      "Pearson entre Curuzú Cuatiá y Baires:  0.698\n",
      "Pearson entre Cushamen y Baires:  0.475\n",
      "Pearson entre Daireaux y Baires:  0.779\n",
      "Pearson entre Deseado y Baires:  0.923\n",
      "Pearson entre Diamante y Baires:  0.497\n",
      "Pearson entre Dolores y Baires:  0.175\n",
      "Pearson entre Dr. Manuel Belgrano y Baires:  0.039\n",
      "Pearson entre El Alto y Baires:  0.285\n",
      "Pearson entre El Carmen y Baires:  -0.051\n",
      "Pearson entre El Cuy y Baires:  0.282\n",
      "Pearson entre Eldorado y Baires:  0.741\n",
      "Pearson entre Empedrado y Baires:  0.694\n",
      "Pearson entre Ensenada y Baires:  0.38\n",
      "Pearson entre Escalante y Baires:  0.685\n",
      "Pearson entre Escobar y Baires:  0.284\n",
      "Pearson entre Esquina y Baires:  0.863\n",
      "Pearson entre Esteban Echeverría y Baires:  0.156\n",
      "Pearson entre Exaltación de la Cruz y Baires:  0.291\n",
      "Pearson entre Ezeiza y Baires:  0.32\n",
      "Pearson entre Famaillá y Baires:  0.516\n",
      "Pearson entre Famatina y Baires:  0.285\n",
      "Pearson entre Federación y Baires:  0.826\n",
      "Pearson entre Federal y Baires:  0.783\n",
      "Pearson entre Feliciano y Baires:  0.764\n",
      "Pearson entre Figueroa y Baires:  0.338\n",
      "Pearson entre Florencio Varela y Baires:  0.034\n",
      "Pearson entre Florentino Ameghino y Baires:  0.921\n",
      "Pearson entre Formosa y Baires:  0.225\n",
      "Pearson entre Fray Justo Santa María de Oro y Baires:  0.699\n",
      "Pearson entre Fray Mamerto Esquiú y Baires:  0.605\n",
      "Pearson entre Futaleufú y Baires:  0.57\n",
      "Pearson entre Gaiman y Baires:  0.72\n",
      "Pearson entre Garay y Baires:  0.777\n",
      "Pearson entre Gastre y Baires:  0.181\n",
      "Pearson entre General Alvarado y Baires:  0.683\n",
      "Pearson entre General Alvear y Baires:  0.534\n",
      "Pearson entre General Angel V. Peñaloza y Baires:  0.029\n",
      "Pearson entre General Arenales y Baires:  0.461\n",
      "Pearson entre General Belgrano y Baires:  0.242\n",
      "Pearson entre General Donovan y Baires:  0.351\n",
      "Pearson entre General Guido y Baires:  0.162\n",
      "Pearson entre General Güemes y Baires:  0.385\n",
      "Pearson entre General Juan F. Quiroga y Baires:  0.118\n",
      "Pearson entre General Juan Madariaga y Baires:  0.407\n",
      "Pearson entre General La Madrid y Baires:  0.773\n",
      "Pearson entre General Lamadrid y Baires:  0.39\n",
      "Pearson entre General Las Heras y Baires:  0.07\n",
      "Pearson entre General Lavalle y Baires:  0.732\n",
      "Pearson entre General López y Baires:  0.428\n",
      "Pearson entre General Manuel Belgrano y Baires:  0.654\n",
      "Pearson entre General Obligado y Baires:  0.866\n",
      "Pearson entre General Ocampo y Baires:  0.031\n",
      "Pearson entre General Paz y Baires:  0.397\n",
      "Pearson entre General Pedernera y Baires:  0.437\n",
      "Pearson entre General Pinto y Baires:  0.741\n",
      "Pearson entre General Pueyrredón y Baires:  0.497\n",
      "Pearson entre General Roca y Baires:  0.396\n",
      "Pearson entre General Rodríguez y Baires:  0.28\n",
      "Pearson entre General San Martín y Baires:  0.193\n",
      "Pearson entre General Taboada y Baires:  0.618\n",
      "Pearson entre General Viamonte y Baires:  0.554\n",
      "Pearson entre General Villegas y Baires:  0.351\n",
      "Pearson entre Gobernador Dupuy y Baires:  0.335\n",
      "Pearson entre Godoy Cruz y Baires:  0.274\n",
      "Pearson entre Goya y Baires:  0.898\n",
      "Pearson entre Graneros y Baires:  0.597\n",
      "Pearson entre Grl. José de San Martín y Baires:  0.045\n",
      "Pearson entre Guachipas y Baires:  0.37\n",
      "Pearson entre Gualeguay y Baires:  0.461\n",
      "Pearson entre Gualeguaychú y Baires:  0.696\n",
      "Pearson entre Guaminí y Baires:  0.599\n",
      "Pearson entre Guaraní y Baires:  0.556\n",
      "Pearson entre Guasayán y Baires:  0.522\n",
      "Pearson entre Guatraché y Baires:  0.831\n",
      "Pearson entre Guaymallén y Baires:  0.265\n",
      "Pearson entre Güer Aike y Baires:  0.535\n",
      "Pearson entre Hipólito Yrigoyen y Baires:  0.648\n",
      "Pearson entre Hucal y Baires:  0.471\n",
      "Pearson entre Huiliches y Baires:  0.684\n",
      "Pearson entre Humahuaca y Baires:  0.118\n",
      "Pearson entre Hurlingham y Baires:  0.258\n",
      "Pearson entre Iglesia y Baires:  0.897\n",
      "Pearson entre Iguazú y Baires:  0.789\n",
      "Pearson entre Independencia y Baires:  0.755\n",
      "Pearson entre Iriondo y Baires:  0.519\n",
      "Pearson entre Iruya y Baires:  0.596\n",
      "Pearson entre Ischilín y Baires:  0.366\n",
      "Pearson entre Islas del Atlántico Sur y Baires:  -0.119\n",
      "Pearson entre Islas del Ibicuy y Baires:  0.544\n",
      "Pearson entre Itatí y Baires:  0.866\n",
      "Pearson entre Ituzaingó y Baires:  0.332\n",
      "Pearson entre Jiménez y Baires:  0.5\n",
      "Pearson entre José C. Paz y Baires:  0.198\n",
      "Pearson entre Juan Bautista Alberdi y Baires:  0.712\n",
      "Pearson entre Juan F. Ibarra y Baires:  0.521\n",
      "Pearson entre Junín y Baires:  0.621\n",
      "Pearson entre Juárez Celman y Baires:  0.347\n",
      "Pearson entre Jáchal y Baires:  0.922\n"
     ]
    },
    {
     "name": "stdout",
     "output_type": "stream",
     "text": [
      "Pearson entre La Caldera y Baires:  0.174\n",
      "Pearson entre La Candelaria y Baires:  0.556\n",
      "Pearson entre La Capital y Baires:  0.775\n",
      "Pearson entre La Cocha y Baires:  0.683\n",
      "Pearson entre La Costa y Baires:  0.63\n",
      "Pearson entre La Matanza y Baires:  0.056\n",
      "Pearson entre La Paz y Baires:  0.711\n",
      "Pearson entre La Plata y Baires:  0.196\n",
      "Pearson entre La Poma y Baires:  0.188\n",
      "Pearson entre La Viña y Baires:  0.274\n",
      "Pearson entre Lago Argentino y Baires:  0.859\n",
      "Pearson entre Lago Buenos Aires y Baires:  0.716\n",
      "Pearson entre Laishi y Baires:  -0.057\n",
      "Pearson entre Languiñeo y Baires:  0.661\n",
      "Pearson entre Lanús y Baires:  0.091\n",
      "Pearson entre Laprida y Baires:  0.166\n",
      "Pearson entre Las Colonias y Baires:  0.913\n",
      "Pearson entre Las Flores y Baires:  0.459\n",
      "Pearson entre Las Heras y Baires:  0.232\n",
      "Pearson entre Lavalle y Baires:  0.349\n",
      "Pearson entre Leales y Baires:  0.444\n",
      "Pearson entre Leandro N. Alem y Baires:  0.398\n",
      "Pearson entre Ledesma y Baires:  -0.158\n",
      "Pearson entre Lezama y Baires:  0.02\n",
      "Pearson entre Libertad y Baires:  0.567\n",
      "Pearson entre Libertador General San Martín y Baires:  0.928\n",
      "Pearson entre Libertador Grl. San Martín y Baires:  0.698\n",
      "Pearson entre Lihuel Calel y Baires:  0.4\n",
      "Pearson entre Limay Mahuida y Baires:  0.43\n",
      "Pearson entre Lincoln y Baires:  0.82\n",
      "Pearson entre Lobería y Baires:  0.826\n",
      "Pearson entre Lobos y Baires:  0.394\n",
      "Pearson entre Lomas de Zamora y Baires:  0.102\n",
      "Pearson entre Loncopué y Baires:  0.656\n",
      "Pearson entre Loreto y Baires:  0.446\n",
      "Pearson entre Los Andes y Baires:  0.147\n",
      "Pearson entre Los Lagos y Baires:  0.436\n",
      "Pearson entre Loventué y Baires:  0.661\n",
      "Pearson entre Luján y Baires:  0.21\n",
      "Pearson entre Luján de Cuyo y Baires:  0.332\n",
      "Pearson entre Lules y Baires:  0.423\n",
      "Pearson entre Lácar y Baires:  0.71\n",
      "Pearson entre Magallanes y Baires:  0.766\n",
      "Pearson entre Magdalena y Baires:  0.073\n",
      "Pearson entre Maipú y Baires:  0.276\n",
      "Pearson entre Malargüe y Baires:  0.501\n",
      "Pearson entre Malvinas Argentinas y Baires:  0.206\n",
      "Pearson entre Mar Chiquita y Baires:  0.455\n",
      "Pearson entre Maracó y Baires:  0.716\n",
      "Pearson entre Marcos Juárez y Baires:  0.499\n",
      "Pearson entre Marcos Paz y Baires:  0.178\n",
      "Pearson entre Matacos y Baires:  -0.032\n",
      "Pearson entre Mayor Luis J. Fontana y Baires:  0.549\n",
      "Pearson entre Mburucuyá y Baires:  0.8\n",
      "Pearson entre Mercedes y Baires:  0.311\n",
      "Pearson entre Merlo y Baires:  0.202\n",
      "Pearson entre Metán y Baires:  0.559\n",
      "Pearson entre Minas y Baires:  0.667\n",
      "Pearson entre Mitre y Baires:  0.616\n",
      "Pearson entre Molinos y Baires:  0.393\n",
      "Pearson entre Monte y Baires:  0.414\n",
      "Pearson entre Monte Caseros y Baires:  0.729\n",
      "Pearson entre Monte Hermoso y Baires:  0.65\n",
      "Pearson entre Montecarlo y Baires:  0.894\n",
      "Pearson entre Monteros y Baires:  0.721\n",
      "Pearson entre Moreno y Baires:  0.222\n",
      "Pearson entre Morón y Baires:  0.21\n",
      "Pearson entre Mártires y Baires:  0.794\n",
      "Pearson entre Navarro y Baires:  0.51\n",
      "Pearson entre Necochea y Baires:  0.808\n",
      "Pearson entre Nogoyá y Baires:  0.731\n",
      "Pearson entre O'Higgins y Baires:  0.808\n",
      "Pearson entre Oberá y Baires:  0.629\n",
      "Pearson entre Ojo de Agua y Baires:  0.685\n",
      "Pearson entre Olavarría y Baires:  0.276\n",
      "Pearson entre Orán y Baires:  0.166\n",
      "Pearson entre Paclín y Baires:  0.39\n",
      "Pearson entre Palpalá y Baires:  0.038\n",
      "Pearson entre Paraná y Baires:  0.479\n",
      "Pearson entre Paso de Indios y Baires:  0.845\n",
      "Pearson entre Paso de los Libres y Baires:  0.898\n",
      "Pearson entre Patagones y Baires:  0.5\n",
      "Pearson entre Patiño y Baires:  0.064\n",
      "Pearson entre Pehuajó y Baires:  0.323\n",
      "Pearson entre Pehuenches y Baires:  0.806\n",
      "Pearson entre Pellegrini y Baires:  0.763\n",
      "Pearson entre Pergamino y Baires:  0.697\n",
      "Pearson entre Pichi Mahuida y Baires:  0.431\n",
      "Pearson entre Picunches y Baires:  0.567\n",
      "Pearson entre Picún Leufú y Baires:  0.678\n",
      "Pearson entre Pila y Baires:  0.151\n",
      "Pearson entre Pilagás y Baires:  0.436\n",
      "Pearson entre Pilar y Baires:  0.33\n",
      "Pearson entre Pilcaniyeu y Baires:  0.834\n",
      "Pearson entre Pilcomayo y Baires:  0.53\n",
      "Pearson entre Pinamar y Baires:  0.266\n",
      "Pearson entre Pirané y Baires:  0.288\n",
      "Pearson entre Pocho y Baires:  0.787\n",
      "Pearson entre Pocito y Baires:  0.78\n",
      "Pearson entre Pomán y Baires:  0.6\n",
      "Pearson entre Presidencia de la Plaza y Baires:  0.508\n",
      "Pearson entre Presidente Perón y Baires:  0.108\n",
      "Pearson entre Presidente Roque Sáenz Peña y Baires:  0.58\n",
      "Pearson entre Puelén y Baires:  0.878\n",
      "Pearson entre Punilla y Baires:  0.525\n",
      "Pearson entre Punta Indio y Baires:  0.404\n",
      "Pearson entre Puán y Baires:  0.382\n",
      "Pearson entre Quebrachos y Baires:  0.578\n",
      "Pearson entre Quemú Quemú y Baires:  0.752\n",
      "Pearson entre Quilmes y Baires:  0.048\n",
      "Pearson entre Quitilipi y Baires:  0.746\n",
      "Pearson entre Ramallo y Baires:  0.692\n",
      "Pearson entre Ramón Lista y Baires:  -0.032\n",
      "Pearson entre Rancul y Baires:  0.55\n",
      "Pearson entre Rauch y Baires:  0.695\n",
      "Pearson entre Rawson y Baires:  0.79\n",
      "Pearson entre Realicó y Baires:  0.903\n",
      "Pearson entre Rinconada y Baires:  0.026\n",
      "Pearson entre Rivadavia y Baires:  0.605\n",
      "Pearson entre Robles y Baires:  0.57\n",
      "Pearson entre Rojas y Baires:  0.77\n",
      "Pearson entre Roque Pérez y Baires:  0.71\n",
      "Pearson entre Rosario y Baires:  0.394\n",
      "Pearson entre Rosario Vera Peñaloza y Baires:  0.496\n",
      "Pearson entre Rosario de Lerma y Baires:  0.229\n",
      "Pearson entre Rosario de la Frontera y Baires:  0.632\n",
      "Pearson entre Río Chico y Baires:  0.588\n",
      "Pearson entre Río Cuarto y Baires:  0.328\n",
      "Pearson entre Río Grande y Baires:  0.249\n",
      "Pearson entre Río Hondo y Baires:  0.737\n",
      "Pearson entre Río Primero y Baires:  0.38\n",
      "Pearson entre Río Seco y Baires:  0.503\n",
      "Pearson entre Río Segundo y Baires:  0.431\n",
      "Pearson entre Río Senguer y Baires:  0.526\n",
      "Pearson entre SIN ESPECIFICAR y Baires:  0.066\n",
      "Pearson entre Saavedra y Baires:  0.382\n",
      "Pearson entre Saladas y Baires:  0.704\n",
      "Pearson entre Saladillo y Baires:  0.208\n",
      "Pearson entre Salavina y Baires:  0.224\n",
      "Pearson entre Salliqueló y Baires:  0.381\n",
      "Pearson entre Salto y Baires:  0.473\n",
      "Pearson entre San Alberto y Baires:  0.641\n",
      "Pearson entre San Andrés de Giles y Baires:  0.619\n",
      "Pearson entre San Antonio y Baires:  0.791\n",
      "Pearson entre San Antonio de Areco y Baires:  0.446\n",
      "Pearson entre San Blas de los Sauces y Baires:  0.434\n",
      "Pearson entre San Carlos y Baires:  0.411\n",
      "Pearson entre San Cayetano y Baires:  0.256\n",
      "Pearson entre San Cosme y Baires:  0.933\n",
      "Pearson entre San Cristóbal y Baires:  0.896\n",
      "Pearson entre San Fernando y Baires:  0.561\n",
      "Pearson entre San Ignacio y Baires:  0.677\n",
      "Pearson entre San Isidro y Baires:  0.16\n",
      "Pearson entre San Javier y Baires:  0.624\n",
      "Pearson entre San Jerónimo y Baires:  0.796\n",
      "Pearson entre San Justo y Baires:  0.767\n",
      "Pearson entre San Lorenzo y Baires:  0.542\n",
      "Pearson entre San Luis del Palmar y Baires:  0.814\n",
      "Pearson entre San Martín y Baires:  0.681\n",
      "Pearson entre San Miguel y Baires:  0.232\n",
      "Pearson entre San Nicolás y Baires:  0.399\n",
      "Pearson entre San Pedro y Baires:  0.123\n",
      "Pearson entre San Rafael y Baires:  0.592\n",
      "Pearson entre San Roque y Baires:  0.272\n",
      "Pearson entre San Salvador y Baires:  0.4\n",
      "Pearson entre San Vicente y Baires:  0.108\n",
      "Pearson entre Sanagasta y Baires:  0.242\n",
      "Pearson entre Santa Bárbara y Baires:  0.107\n",
      "Pearson entre Santa Catalina y Baires:  0.119\n",
      "Pearson entre Santa Lucía y Baires:  0.642\n",
      "Pearson entre Santa María y Baires:  0.375\n",
      "Pearson entre Santa Rosa y Baires:  0.509\n",
      "Pearson entre Santa Victoria y Baires:  0.695\n",
      "Pearson entre Santo Tomé y Baires:  0.934\n",
      "Pearson entre Sargento Cabral y Baires:  0.488\n",
      "Pearson entre Sarmiento y Baires:  0.61\n",
      "Pearson entre Sauce y Baires:  0.646\n",
      "Pearson entre Silípica y Baires:  0.757\n",
      "Pearson entre Simoca y Baires:  0.531\n",
      "Pearson entre Sobremonte y Baires:  0.14\n",
      "Pearson entre Suipacha y Baires:  0.337\n",
      "Pearson entre Susques y Baires:  -0.12\n",
      "Pearson entre Tafí Viejo y Baires:  0.447\n",
      "Pearson entre Tafí del Valle y Baires:  0.625\n",
      "Pearson entre Tala y Baires:  0.436\n",
      "Pearson entre Tandil y Baires:  0.519\n",
      "Pearson entre Tapalqué y Baires:  0.28\n",
      "Pearson entre Tapenagá y Baires:  0.067\n",
      "Pearson entre Tehuelches y Baires:  0.599\n",
      "Pearson entre Telsen y Baires:  0.572\n",
      "Pearson entre Tercero Arriba y Baires:  0.281\n",
      "Pearson entre Tigre y Baires:  0.179\n",
      "Pearson entre Tilcara y Baires:  0.091\n",
      "Pearson entre Tinogasta y Baires:  0.514\n",
      "Pearson entre Toay y Baires:  0.739\n",
      "Pearson entre Tordillo y Baires:  0.098\n",
      "Pearson entre Tornquist y Baires:  0.319\n",
      "Pearson entre Totoral y Baires:  0.593\n",
      "Pearson entre Trancas y Baires:  0.692\n",
      "Pearson entre Trenel y Baires:  0.619\n",
      "Pearson entre Trenque Lauquen y Baires:  0.86\n",
      "Pearson entre Tres Arroyos y Baires:  0.659\n",
      "Pearson entre Tres Lomas y Baires:  0.508\n",
      "Pearson entre Tres de Febrero y Baires:  0.077\n",
      "Pearson entre Tulumba y Baires:  0.271\n",
      "Pearson entre Tumbaya y Baires:  0.19\n",
      "Pearson entre Tunuyán y Baires:  0.325\n",
      "Pearson entre Tupungato y Baires:  0.267\n",
      "Pearson entre Ullúm y Baires:  0.816\n",
      "Pearson entre Unión y Baires:  0.605\n",
      "Pearson entre Uruguay y Baires:  0.924\n",
      "Pearson entre Ushuaia y Baires:  0.671\n",
      "Pearson entre Utracán y Baires:  0.488\n",
      "Pearson entre Valcheta y Baires:  0.484\n",
      "Pearson entre Valle Fértil y Baires:  0.724\n",
      "Pearson entre Valle Grande y Baires:  -0.032\n",
      "Pearson entre Valle Viejo y Baires:  0.738\n",
      "Pearson entre Vera y Baires:  0.966\n",
      "Pearson entre Vicente López y Baires:  0.257\n",
      "Pearson entre Victoria y Baires:  0.72\n",
      "Pearson entre Villa Gesell y Baires:  0.45\n",
      "Pearson entre Villaguay y Baires:  0.754\n",
      "Pearson entre Villarino y Baires:  0.301\n",
      "Pearson entre Vinchina y Baires:  0.133\n",
      "Pearson entre Yavi y Baires:  0.084\n",
      "Pearson entre Yerba Buena y Baires:  0.468\n",
      "Pearson entre Zapala y Baires:  0.675\n",
      "Pearson entre Zonda y Baires:  0.824\n",
      "Pearson entre Zárate y Baires:  0.353\n",
      "Pearson entre Ñorquincó y Baires:  -0.054\n",
      "Pearson entre Ñorquín y Baires:  0.394\n"
     ]
    }
   ],
   "source": [
    "#ahora, tratemos de hacer lo mismo para baires y el resto del país\n",
    "baires = time_series_ac[0,:-10]\n",
    "i = 1\n",
    "provs = provincias.to_pandas()\n",
    "print('Coeficientes de Pearson')\n",
    "while i < rows:\n",
    "  prov_tmp = time_series_ac[i,:-10]\n",
    "  r = pearsonr(baires,prov_tmp)\n",
    "  print('Pearson entre '+provs[i]+' y Baires: ',cp.around(r,3))\n",
    "  i += 1"
   ]
  },
  {
   "cell_type": "markdown",
   "id": "89fbf25a",
   "metadata": {},
   "source": [
    "## Pruebo aca usar el correlate de Cupy, con lag y todo, verificamos que funciona okay. "
   ]
  },
  {
   "cell_type": "code",
   "execution_count": 18,
   "id": "3fa1c4c8",
   "metadata": {},
   "outputs": [],
   "source": [
    "baires = time_series_ac[0,:-10]\n",
    "caba = time_series_ac[1,:-10]"
   ]
  },
  {
   "cell_type": "code",
   "execution_count": 19,
   "id": "e2a7089d",
   "metadata": {},
   "outputs": [],
   "source": [
    "npts = baires.shape[0]\n",
    "lags = cp.arange(-npts + 1, npts)"
   ]
  },
  {
   "cell_type": "code",
   "execution_count": 20,
   "id": "d5da5357",
   "metadata": {},
   "outputs": [],
   "source": [
    "ccov = np.correlate(baires - baires.mean(), caba - caba.mean(), mode='full')\n",
    "ccor = ccov / (npts * baires.std() * caba.std())"
   ]
  },
  {
   "cell_type": "code",
   "execution_count": 21,
   "id": "42bf2055",
   "metadata": {},
   "outputs": [
    {
     "name": "stdout",
     "output_type": "stream",
     "text": [
      "max correlation is 0.617270\n",
      "max correlation is at lag 31\n"
     ]
    },
    {
     "data": {
      "image/png": "[encoded data removed]",
      "text/plain": [
       "<Figure size 432x288 with 2 Axes>"
      ]
     },
     "metadata": {
      "needs_background": "light"
     },
     "output_type": "display_data"
    }
   ],
   "source": [
    "fig, axs = plt.subplots(nrows=2)\n",
    "fig.subplots_adjust(hspace=0.4)\n",
    "ax = axs[0]\n",
    "ax.plot(baires.get(), 'b', label='y1')\n",
    "ax.plot(caba.get(), 'r', label='y2')\n",
    "ax.legend(loc='upper right', fontsize='small', ncol=2)\n",
    "\n",
    "ax = axs[1]\n",
    "ax.plot(lags.get(), ccor.get())\n",
    "ax.set_ylabel('cross-correlation')\n",
    "ax.set_xlabel('lag of y1 relative to y2')\n",
    "\n",
    "maxlag = lags[cp.argmax(ccor)]\n",
    "print(\"max correlation is %f\" % cp.max(ccor))\n",
    "print(\"max correlation is at lag %d\" % maxlag)"
   ]
  },
  {
   "cell_type": "markdown",
   "id": "cc63ae67",
   "metadata": {},
   "source": [
    "# Ahora, lo hacemos en serio, tipo todas las provincias contra todas las provincias, y guardamos los resultados"
   ]
  },
  {
   "cell_type": "code",
   "execution_count": 22,
   "id": "ea11cb72",
   "metadata": {},
   "outputs": [],
   "source": [
    "localidades_lagmax = cp.zeros(shape=(rows,rows))\n",
    "localidades_corrmax = cp.zeros(shape=(rows,rows))\n",
    "npts = cols\n",
    "lags = cp.arange(-npts + 1, npts)\n",
    "i = 0\n",
    "while i < rows:\n",
    "    j = 0\n",
    "    prov_tmp_1 = time_series_ac[i,:-10]\n",
    "    while j < rows:\n",
    "        prov_tmp_2 = time_series_ac[j,:-10]\n",
    "        ccov = np.correlate(prov_tmp_1  - prov_tmp_1 .mean(), prov_tmp_2 - prov_tmp_2.mean(), mode='full')\n",
    "        ccor = ccov / (npts * prov_tmp_1 .std() * prov_tmp_2.std())\n",
    "        localidades_lagmax[i,j] = lags[cp.argmax(ccor)]\n",
    "        localidades_corrmax[i,j] = cp.max(ccor)\n",
    "        j = j + 1\n",
    "    i = i +1"
   ]
  },
  {
   "cell_type": "code",
   "execution_count": 23,
   "id": "cd58ad8e",
   "metadata": {},
   "outputs": [
    {
     "data": {
      "text/plain": [
       "array([[-10.,  21.,  -2., ...,  53.,  44., -31.],\n",
       "       [-41., -10., -49., ..., -10., -11., -87.],\n",
       "       [-18.,  29., -10., ...,  56.,  29., -50.],\n",
       "       ...,\n",
       "       [-73., -10., -76., ..., -10., -25., -81.],\n",
       "       [-64.,  -9., -49., ...,   5., -10., -85.],\n",
       "       [ 11.,  67.,  30., ...,  61.,  65., -10.]])"
      ]
     },
     "execution_count": 23,
     "metadata": {},
     "output_type": "execute_result"
    }
   ],
   "source": [
    "localidades_lagmax"
   ]
  },
  {
   "cell_type": "code",
   "execution_count": 24,
   "id": "ababcf03",
   "metadata": {},
   "outputs": [
    {
     "data": {
      "text/plain": [
       "array([[0.97340426, 0.60085306, 0.74431014, ..., 0.82896273, 0.55202079,\n",
       "        0.48042489],\n",
       "       [0.60085306, 0.97340426, 0.54410434, ..., 0.6472718 , 0.38447715,\n",
       "        0.43208313],\n",
       "       [0.74431014, 0.54410434, 0.97340426, ..., 0.68571187, 0.76647509,\n",
       "        0.6296741 ],\n",
       "       ...,\n",
       "       [0.82896273, 0.6472718 , 0.68571187, ..., 0.97340426, 0.3834976 ,\n",
       "        0.38995889],\n",
       "       [0.55202079, 0.38447715, 0.76647509, ..., 0.3834976 , 0.97340426,\n",
       "        0.68506988],\n",
       "       [0.48042489, 0.43208313, 0.6296741 , ..., 0.38995889, 0.68506988,\n",
       "        0.97340426]])"
      ]
     },
     "execution_count": 24,
     "metadata": {},
     "output_type": "execute_result"
    }
   ],
   "source": [
    "localidades_corrmax"
   ]
  }
 ],
 "metadata": {
  "kernelspec": {
   "display_name": "Python 3",
   "language": "python",
   "name": "python3"
  },
  "language_info": {
   "codemirror_mode": {
    "name": "ipython",
    "version": 3
   },
   "file_extension": ".py",
   "mimetype": "text/x-python",
   "name": "python",
   "nbconvert_exporter": "python",
   "pygments_lexer": "ipython3",
   "version": "3.7.10"
  }
 },
 "nbformat": 4,
 "nbformat_minor": 5
}
