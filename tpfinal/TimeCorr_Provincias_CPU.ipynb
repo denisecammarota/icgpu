{
 "cells": [
  {
   "cell_type": "code",
   "execution_count": 1,
   "id": "15a0fb5d",
   "metadata": {},
   "outputs": [],
   "source": [
    "import numpy as np\n",
    "import pandas as pd\n",
    "import matplotlib.pyplot as plt\n",
    "np.random.seed(0)"
   ]
  },
  {
   "cell_type": "code",
   "execution_count": 2,
   "id": "48b46e69",
   "metadata": {},
   "outputs": [],
   "source": [
    "def change_dates(df):\n",
    "    #changes fecha_inicio_sintomas according to new criteria\n",
    "    filt_df2 = (df.fecha_inicio_sintomas.isnull()) #filter fecha_inicio_sintomas = inexistant\n",
    "    n_size = (df[filt_df2]).shape[0]\n",
    "    df[\"fecha_inicio_sintomas\"] = df[\"fecha_inicio_sintomas\"].fillna(0)\n",
    "    df[\"fecha_inicio_sintomas\"] = df[\"fecha_inicio_sintomas\"].astype('int')\n",
    "    df[\"fecha_apertura\"] = df[\"fecha_apertura\"].astype('int')\n",
    "    b = np.array(df[\"fecha_apertura\"].values)\n",
    "    a = np.array(df[\"fecha_inicio_sintomas\"].values)\n",
    "    a[filt_df2.values] = b[filt_df2.values] - np.random.randint(0,9,a[filt_df2.values].shape)\n",
    "    filt_a = np.where(a<0)\n",
    "    a[filt_a] = 0\n",
    "    df = df.drop([\"fecha_inicio_sintomas\"],axis=1)\n",
    "    df[\"fecha_inicio_sintomas\"] = a\n",
    "    return df"
   ]
  },
  {
   "cell_type": "markdown",
   "id": "1747f528",
   "metadata": {},
   "source": [
    "## Carga de datos, sacamos las series temporal"
   ]
  },
  {
   "cell_type": "code",
   "execution_count": 3,
   "id": "bb6e5805",
   "metadata": {},
   "outputs": [],
   "source": [
    "direccion = '12en20.csv'\n",
    "columnas = ['residencia_provincia_nombre','residencia_departamento_nombre','fecha_inicio_sintomas',\n",
    "            'fecha_apertura','clasificacion_resumen']\n",
    "data = pd.read_csv(direccion,sep=\",\",quotechar='\"', usecols=columnas,\n",
    "                   parse_dates=[\"fecha_inicio_sintomas\",\"fecha_apertura\"],na_values=['']) "
   ]
  },
  {
   "cell_type": "code",
   "execution_count": 4,
   "id": "2a6990f7",
   "metadata": {},
   "outputs": [],
   "source": [
    "data = data[data[\"clasificacion_resumen\"] == \"Confirmado\"] #filter confirmed cases\n",
    "df = pd.DataFrame(data) "
   ]
  },
  {
   "cell_type": "code",
   "execution_count": 5,
   "id": "e561c83d",
   "metadata": {},
   "outputs": [],
   "source": [
    "df = df.drop(['clasificacion_resumen'], axis=1) #drop clasificacion_resumen bc previous filter of confirmed cases"
   ]
  },
  {
   "cell_type": "code",
   "execution_count": 6,
   "id": "7fdd4406",
   "metadata": {},
   "outputs": [
    {
     "name": "stdout",
     "output_type": "stream",
     "text": [
      "primer sintoma de persona confirmada:  2020-01-01 00:00:00\n",
      "ultimo sintoma de persona confirmada:  2021-01-11 00:00:00\n",
      "ultima apertura de persona confirmada:  2021-01-11 00:00:00\n"
     ]
    }
   ],
   "source": [
    "filt_df1 = (df.fecha_inicio_sintomas.notnull()) #filter fecha_inicio_sintomas = inexistant\n",
    "inicio_epidemia = (df.loc[filt_df1,\"fecha_inicio_sintomas\"]).min() #first symptoms of a person registered\n",
    "ultima_actualizacion_sintomas = (df.loc[filt_df1,\"fecha_inicio_sintomas\"]).max() #last day symptoms of a person registered\n",
    "ultima_actualizacion_apertura = (df[\"fecha_apertura\"]).max()\n",
    "df[\"fecha_inicio_sintomas\"] -= inicio_epidemia #correcting by inicio_epidemia \n",
    "df[\"fecha_apertura\"] -= inicio_epidemia #correcting by inicio_epidemia\n",
    "df.fecha_inicio_sintomas = df.fecha_inicio_sintomas.dt.days #change to int, ditch days \n",
    "df.fecha_apertura = df.fecha_apertura.dt.days #change to int, ditch days\n",
    "print(\"primer sintoma de persona confirmada: \",inicio_epidemia)\n",
    "print(\"ultimo sintoma de persona confirmada: \",ultima_actualizacion_sintomas)\n",
    "print(\"ultima apertura de persona confirmada: \",ultima_actualizacion_apertura)"
   ]
  },
  {
   "cell_type": "code",
   "execution_count": 7,
   "id": "29dcf7a4",
   "metadata": {},
   "outputs": [],
   "source": [
    "df = change_dates(df) # we have replaced all bad or undefined dates"
   ]
  },
  {
   "cell_type": "code",
   "execution_count": 8,
   "id": "4a017bc3",
   "metadata": {},
   "outputs": [],
   "source": [
    "df = df[[\"residencia_provincia_nombre\",\"fecha_inicio_sintomas\"]]\n",
    "df2 = df.groupby([\"residencia_provincia_nombre\",\"fecha_inicio_sintomas\"]).size().reset_index() \n",
    "df2 = df2.rename(columns={0:'casos'})\n",
    "df3 = df2.sort_values([\"residencia_provincia_nombre\",\"fecha_inicio_sintomas\"],ascending=[True,True])"
   ]
  },
  {
   "cell_type": "code",
   "execution_count": 9,
   "id": "b494e443",
   "metadata": {},
   "outputs": [
    {
     "name": "stdout",
     "output_type": "stream",
     "text": [
      "0            Buenos Aires\n",
      "1                    CABA\n",
      "2               Catamarca\n",
      "3                   Chaco\n",
      "4                  Chubut\n",
      "5              Corrientes\n",
      "6                 Córdoba\n",
      "7              Entre Ríos\n",
      "8                 Formosa\n",
      "9                   Jujuy\n",
      "10               La Pampa\n",
      "11               La Rioja\n",
      "12                Mendoza\n",
      "13               Misiones\n",
      "14                Neuquén\n",
      "15              Río Negro\n",
      "16        SIN ESPECIFICAR\n",
      "17                  Salta\n",
      "18               San Juan\n",
      "19               San Luis\n",
      "20             Santa Cruz\n",
      "21               Santa Fe\n",
      "22    Santiago del Estero\n",
      "23       Tierra del Fuego\n",
      "24                Tucumán\n",
      "dtype: object\n"
     ]
    }
   ],
   "source": [
    "#let's list all the provinces that have cases (all rn tbh, but just to use pandas stuff)\n",
    "#we'll get those times series then, with pd grouping\n",
    "provincias = pd.Series(df3[\"residencia_provincia_nombre\"].unique())\n",
    "#print: we get provinces + the sin especificar / unespecified thing\n",
    "print(provincias)"
   ]
  },
  {
   "cell_type": "code",
   "execution_count": 10,
   "id": "e3734fc8",
   "metadata": {},
   "outputs": [],
   "source": [
    "rows = provincias.shape[0]\n",
    "cols = df2[\"fecha_inicio_sintomas\"].max()\n",
    "time_series = np.zeros(shape=(rows,cols+1))\n",
    "time_series_ac = np.zeros(shape=(rows,cols+1))"
   ]
  },
  {
   "cell_type": "code",
   "execution_count": 11,
   "id": "6a9ce86a",
   "metadata": {},
   "outputs": [
    {
     "data": {
      "text/plain": [
       "0.0"
      ]
     },
     "execution_count": 11,
     "metadata": {},
     "output_type": "execute_result"
    }
   ],
   "source": [
    "time_series[0,376]"
   ]
  },
  {
   "cell_type": "code",
   "execution_count": 12,
   "id": "c43b1422",
   "metadata": {},
   "outputs": [],
   "source": [
    "j = 0\n",
    "for i in provincias:\n",
    "  df_tmp = df3[df3[\"residencia_provincia_nombre\"]==i]\n",
    "  tmp_dates = np.array(df_tmp[\"fecha_inicio_sintomas\"].values)\n",
    "  tmp_cases = np.array(df_tmp[\"casos\"].values)\n",
    "  time_series[j,tmp_dates]= tmp_cases\n",
    "  j = j + 1"
   ]
  },
  {
   "cell_type": "code",
   "execution_count": 13,
   "id": "e6626963",
   "metadata": {},
   "outputs": [],
   "source": [
    "for i in range(rows):\n",
    "  for j in range(13,cols):\n",
    "    time_series_ac[i,j] = np.sum(time_series[i,j-13:j+1])"
   ]
  },
  {
   "cell_type": "markdown",
   "id": "ea4e2546",
   "metadata": {},
   "source": [
    "## Primero, aca vamos a calcular la correlacion de Pearson y chequear que de todo bien\n",
    "\n",
    "Esto funciona aca y esta todo tranquilo, no hay problema!"
   ]
  },
  {
   "cell_type": "code",
   "execution_count": 14,
   "id": "3766fc54",
   "metadata": {},
   "outputs": [],
   "source": [
    "#no existe en cupy, la hago yo a esta funcion \n",
    "def pearsonr(a,b):\n",
    "  m_a = np.mean(a)\n",
    "  m_b = np.mean(b)\n",
    "  r_a = a - m_a\n",
    "  r_b = b - m_b\n",
    "  r_a_2 = np.sum((r_a)**2) \n",
    "  r_b_2 = np.sum((r_b)**2)\n",
    "  r = np.sum((r_a*r_b)/np.sqrt(r_a_2*r_b_2))\n",
    "  return r"
   ]
  },
  {
   "cell_type": "code",
   "execution_count": 15,
   "id": "d61dcd88",
   "metadata": {},
   "outputs": [
    {
     "data": {
      "text/plain": [
       "0.8835980972575199"
      ]
     },
     "execution_count": 15,
     "metadata": {},
     "output_type": "execute_result"
    }
   ],
   "source": [
    "#por ejemplo, correlaciones para caba y baires\n",
    "caba = time_series_ac[1,:-10]\n",
    "baires = time_series_ac[0,:-10]\n",
    "pearsonr(caba,baires)"
   ]
  },
  {
   "cell_type": "code",
   "execution_count": 16,
   "id": "da755f4c",
   "metadata": {},
   "outputs": [
    {
     "name": "stdout",
     "output_type": "stream",
     "text": [
      "Coeficientes de Pearson\n",
      "Pearson entre CABA y Baires:  0.884\n",
      "Pearson entre Catamarca y Baires:  0.317\n",
      "Pearson entre Chaco y Baires:  0.604\n",
      "Pearson entre Chubut y Baires:  0.5\n",
      "Pearson entre Corrientes y Baires:  0.185\n",
      "Pearson entre Córdoba y Baires:  0.611\n",
      "Pearson entre Entre Ríos y Baires:  0.578\n",
      "Pearson entre Formosa y Baires:  0.326\n",
      "Pearson entre Jujuy y Baires:  0.867\n",
      "Pearson entre La Pampa y Baires:  0.261\n",
      "Pearson entre La Rioja y Baires:  0.836\n",
      "Pearson entre Mendoza y Baires:  0.792\n",
      "Pearson entre Misiones y Baires:  0.168\n",
      "Pearson entre Neuquén y Baires:  0.645\n",
      "Pearson entre Río Negro y Baires:  0.738\n",
      "Pearson entre SIN ESPECIFICAR y Baires:  0.722\n",
      "Pearson entre Salta y Baires:  0.824\n",
      "Pearson entre San Juan y Baires:  0.243\n",
      "Pearson entre San Luis y Baires:  0.39\n",
      "Pearson entre Santa Cruz y Baires:  0.472\n",
      "Pearson entre Santa Fe y Baires:  0.634\n",
      "Pearson entre Santiago del Estero y Baires:  0.509\n",
      "Pearson entre Tierra del Fuego y Baires:  0.64\n",
      "Pearson entre Tucumán y Baires:  0.599\n"
     ]
    }
   ],
   "source": [
    "#ahora, tratemos de hacer lo mismo para baires y el resto del país\n",
    "baires = time_series_ac[0,:-10]\n",
    "i = 1\n",
    "provs = provincias\n",
    "print('Coeficientes de Pearson')\n",
    "while i < rows:\n",
    "  prov_tmp = time_series_ac[i,:-10]\n",
    "  r = pearsonr(baires,prov_tmp)\n",
    "  print('Pearson entre '+provs[i]+' y Baires: ',np.around(r,3))\n",
    "  i += 1"
   ]
  },
  {
   "cell_type": "markdown",
   "id": "53e0b9fe",
   "metadata": {},
   "source": [
    "## Segundo, la Time Lagged Cross Correlation\n",
    "\n",
    "Chequee aca que el problema es efectivamente el padding para calcular esto, que queda cero en el denominador y queda nan, si lo saco entonces se observa que no hay problema. Sin embargo, no pasa lo mismo con las funciones de cupy, asi que tiene que haber un problema del que no me estaria dando mucha cuenta."
   ]
  },
  {
   "cell_type": "code",
   "execution_count": 17,
   "id": "6057c7c9",
   "metadata": {},
   "outputs": [],
   "source": [
    "#no existe en cupy, la hago yo a esta funcion \n",
    "def pearsonr2(a,b):\n",
    "  m_a = np.mean(a)\n",
    "  m_b = np.mean(b)\n",
    "  r_a = a - m_a\n",
    "  r_b = b - m_b\n",
    "  r_a_2 = np.sum((r_a)**2) \n",
    "  r_b_2 = np.sum((r_b)**2)\n",
    "  r = np.sum((r_a*r_b))\n",
    "  return r"
   ]
  },
  {
   "cell_type": "code",
   "execution_count": 18,
   "id": "37a670a2",
   "metadata": {},
   "outputs": [],
   "source": [
    "def lag_pearson(a,b,lag):\n",
    "  #dejo a fijo\n",
    "  #desplazo b\n",
    "  b = np.roll(b,lag)\n",
    "  r = pearsonr2(a[lag:],b[lag:])\n",
    "  return r"
   ]
  },
  {
   "cell_type": "code",
   "execution_count": 19,
   "id": "3cfef234",
   "metadata": {},
   "outputs": [
    {
     "name": "stdout",
     "output_type": "stream",
     "text": [
      "Pearson máx entre CABA y Baires:  55770808686.0 . En offset de frames:  -21.0\n",
      "Pearson máx entre Catamarca y Baires:  523677950.387 . En offset de frames:  0.0\n",
      "Pearson máx entre Chaco y Baires:  5738900765.139 . En offset de frames:  0.0\n",
      "Pearson máx entre Chubut y Baires:  8924330861.956 . En offset de frames:  0.0\n",
      "Pearson máx entre Corrientes y Baires:  1489599696.738 . En offset de frames:  0.0\n",
      "Pearson máx entre Córdoba y Baires:  44911305997.471 . En offset de frames:  0.0\n",
      "Pearson máx entre Entre Ríos y Baires:  8188226071.91 . En offset de frames:  0.0\n",
      "Pearson máx entre Formosa y Baires:  38554456.366 . En offset de frames:  -80.0\n",
      "Pearson máx entre Jujuy y Baires:  9737923560.26 . En offset de frames:  -5.0\n",
      "Pearson máx entre La Pampa y Baires:  1935514786.891 . En offset de frames:  0.0\n",
      "Pearson máx entre La Rioja y Baires:  4130027540.226 . En offset de frames:  0.0\n",
      "Pearson máx entre Mendoza y Baires:  26591380382.847 . En offset de frames:  0.0\n",
      "Pearson máx entre Misiones y Baires:  142688829.041 . En offset de frames:  0.0\n",
      "Pearson máx entre Neuquén y Baires:  14044345085.907 . En offset de frames:  0.0\n",
      "Pearson máx entre Río Negro y Baires:  12674395732.144 . En offset de frames:  0.0\n",
      "Pearson máx entre SIN ESPECIFICAR y Baires:  1137534272.501 . En offset de frames:  -18.0\n",
      "Pearson máx entre Salta y Baires:  11003200854.817 . En offset de frames:  0.0\n",
      "Pearson máx entre San Juan y Baires:  1973894780.902 . En offset de frames:  0.0\n",
      "Pearson máx entre San Luis y Baires:  4546279410.572 . En offset de frames:  0.0\n",
      "Pearson máx entre Santa Cruz y Baires:  5606385882.12 . En offset de frames:  0.0\n",
      "Pearson máx entre Santa Fe y Baires:  60025333249.204 . En offset de frames:  0.0\n",
      "Pearson máx entre Santiago del Estero y Baires:  5280461355.907 . En offset de frames:  0.0\n",
      "Pearson máx entre Tierra del Fuego y Baires:  6558758610.627 . En offset de frames:  0.0\n",
      "Pearson máx entre Tucumán y Baires:  26534011413.51 . En offset de frames:  0.0\n"
     ]
    }
   ],
   "source": [
    "#ahora, tratemos de hacer lo mismo para baires y el resto del país\n",
    "baires = time_series_ac[0,:-10]\n",
    "offset_vec = []\n",
    "rs_vec = []\n",
    "seconds = 5\n",
    "fps = 20\n",
    "i = 1\n",
    "while i < rows:\n",
    "  prov_tmp = time_series_ac[i,:-10]\n",
    "  rs = [lag_pearson(baires,prov_tmp,lag) for lag in range(-int(seconds*fps),int(seconds*fps+1))]\n",
    "  rs = np.array(rs)\n",
    "  #print(rs)\n",
    "  offset_tmp = np.floor(len(rs)/2)-np.argmax(rs)\n",
    "  rs_tmp = np.max(rs)\n",
    "  offset_vec.append(offset_tmp)\n",
    "  rs_vec.append(rs_tmp)\n",
    "  print('Pearson máx entre '+provs[i]+' y Baires: ',np.around(rs_tmp,3),'. En offset de frames: ',offset_tmp)\n",
    "  i = i + 1"
   ]
  },
  {
   "cell_type": "markdown",
   "id": "89fbf25a",
   "metadata": {},
   "source": [
    "## Pruebo aca usar el correlate de Cupy, con lag y todo, verificamos que funciona okay. "
   ]
  },
  {
   "cell_type": "code",
   "execution_count": 20,
   "id": "3fa1c4c8",
   "metadata": {},
   "outputs": [],
   "source": [
    "baires = time_series_ac[0,:-10]\n",
    "caba = time_series_ac[1,:-10]"
   ]
  },
  {
   "cell_type": "code",
   "execution_count": 21,
   "id": "e2a7089d",
   "metadata": {},
   "outputs": [],
   "source": [
    "npts = baires.shape[0]\n",
    "lags = np.arange(-npts + 1, npts)"
   ]
  },
  {
   "cell_type": "code",
   "execution_count": 22,
   "id": "d5da5357",
   "metadata": {},
   "outputs": [],
   "source": [
    "ccov = np.correlate(baires - baires.mean(), caba - caba.mean(), mode='full')\n",
    "ccor = ccov / (npts * baires.std() * caba.std())"
   ]
  },
  {
   "cell_type": "code",
   "execution_count": 23,
   "id": "42bf2055",
   "metadata": {},
   "outputs": [
    {
     "name": "stdout",
     "output_type": "stream",
     "text": [
      "max correlation is 0.940944\n",
      "max correlation is at lag 21\n"
     ]
    },
    {
     "data": {
      "image/png": "[encoded data removed]",
      "text/plain": [
       "<Figure size 432x288 with 2 Axes>"
      ]
     },
     "metadata": {
      "needs_background": "light"
     },
     "output_type": "display_data"
    }
   ],
   "source": [
    "fig, axs = plt.subplots(nrows=2)\n",
    "fig.subplots_adjust(hspace=0.4)\n",
    "ax = axs[0]\n",
    "ax.plot(baires, 'b', label='y1')\n",
    "ax.plot(caba, 'r', label='y2')\n",
    "ax.legend(loc='upper right', fontsize='small', ncol=2)\n",
    "\n",
    "ax = axs[1]\n",
    "ax.plot(lags, ccor)\n",
    "ax.set_ylabel('cross-correlation')\n",
    "ax.set_xlabel('lag of y1 relative to y2')\n",
    "\n",
    "maxlag = lags[np.argmax(ccor)]\n",
    "print(\"max correlation is %f\" % np.max(ccor))\n",
    "print(\"max correlation is at lag %d\" % maxlag)"
   ]
  },
  {
   "cell_type": "markdown",
   "id": "cc63ae67",
   "metadata": {},
   "source": [
    "# Ahora, lo hacemos en serio, tipo todas las provincias contra todas las provincias, y guardamos los resultados"
   ]
  },
  {
   "cell_type": "code",
   "execution_count": 24,
   "id": "ea11cb72",
   "metadata": {},
   "outputs": [],
   "source": [
    "localidades_lagmax = np.zeros(shape=(rows,rows))\n",
    "localidades_corrmax = np.zeros(shape=(rows,rows))\n",
    "npts = cols\n",
    "lags = np.arange(-npts + 1, npts)\n",
    "i = 0\n",
    "while i < rows:\n",
    "    j = 0\n",
    "    prov_tmp_1 = time_series_ac[i,:-10]\n",
    "    while j < rows:\n",
    "        prov_tmp_2 = time_series_ac[j,:-10]\n",
    "        ccov = np.correlate(prov_tmp_1  - prov_tmp_1 .mean(), prov_tmp_2 - prov_tmp_2.mean(), mode='full')\n",
    "        ccor = ccov / (npts * prov_tmp_1 .std() * prov_tmp_2.std())\n",
    "        localidades_lagmax[i,j] = lags[np.argmax(ccor)]\n",
    "        localidades_corrmax[i,j] = np.max(ccor)\n",
    "        j = j + 1\n",
    "    i = i +1"
   ]
  },
  {
   "cell_type": "code",
   "execution_count": 25,
   "id": "cd58ad8e",
   "metadata": {},
   "outputs": [
    {
     "data": {
      "text/plain": [
       "array([[  -9.,   12.,  -76.,  -60.,  -67.,  -90.,  -51.,  -62.,  -54.,\n",
       "          -3.,  -87.,  -24.,  -34., -106.,  -52.,  -49.,    9.,  -25.,\n",
       "         -73.,  -62.,  -76.,  -53.,  -56.,  -49.,  -49.],\n",
       "       [ -30.,   -9., -112.,  -88.,  -90., -115.,  -76.,  -88.,   18.,\n",
       "         -22., -119.,  -53.,  -59., -119.,  -78.,  -75.,   -9.,  -51.,\n",
       "        -107.,  -85.,  -98.,  -80.,  -85.,  -76.,  -75.],\n",
       "       [  58.,   94.,   -9.,   12.,    4.,  -29.,   21.,    2.,   17.,\n",
       "          63.,   -9.,   46.,   44.,   -9.,   14.,   13.,  100.,   45.,\n",
       "          -9.,    2.,   -9.,   17.,   16.,   17.,   16.],\n",
       "       [  42.,   70.,  -30.,   -9.,   -9.,  -11.,    9.,   -9.,   -9.,\n",
       "          67.,  -32.,   27.,   25.,  -33.,   -9.,   -9.,   76.,   30.,\n",
       "         -25.,    9.,   -9.,   -5.,   -4.,   -3.,   21.],\n",
       "       [  49.,   72.,  -22.,   -9.,   -9.,  -47.,   -1.,   -9.,    5.,\n",
       "          51.,  -12.,   23.,   20.,  -59.,   -7.,   -7.,   79.,   26.,\n",
       "         -25.,  -14.,   -9.,   -1.,  -10.,   -5.,   -1.],\n",
       "       [  72.,   97.,   11.,   -7.,   29.,   -9.,   36.,   23.,  161.,\n",
       "          81.,  -30.,   60.,   44.,  -27.,   34.,   33.,  121.,   63.,\n",
       "          13.,   23.,   -9.,   34.,   24.,   34.,   34.],\n",
       "       [  33.,   58.,  -39.,  -27.,  -17.,  -54.,   -9.,  -26.,  111.,\n",
       "          40.,  -64.,   12.,    5.,  -65.,   -9.,   -9.,   70.,   17.,\n",
       "         -38.,  -21.,  -42.,   -9.,  -20.,  -11.,   -9.],\n",
       "       [  44.,   70.,  -20.,   -9.,   -9.,  -41.,    8.,   -9.,   10.,\n",
       "          54.,   -9.,   28.,   27.,  -59.,   -4.,   -5.,   84.,   32.,\n",
       "         -20.,   -9.,   -9.,    2.,   -9.,    3.,    3.],\n",
       "       [  36.,  -36.,  -35.,   -9.,  -23., -179., -129.,  -28.,   -9.,\n",
       "         -88.,  -30., -113., -121., -193., -130.,   -9.,  -46., -105.,\n",
       "        -157., -146.,   -9., -127., -147., -133., -134.],\n",
       "       [ -15.,    4.,  -81.,  -85.,  -69.,  -99.,  -58.,  -72.,   70.,\n",
       "          -9., -112.,  -35.,  -47., -113.,  -58.,  -57.,   27.,  -31.,\n",
       "         -79.,  -69.,  -96.,  -58.,  -69.,  -58.,  -57.],\n",
       "       [  69.,  101.,   -9.,   14.,   -6.,   12.,   46.,   -9.,   12.,\n",
       "          94.,   -9.,   58.,   49.,   -8.,   41.,   44.,   91.,   54.,\n",
       "          -9.,   37.,   -9.,   23.,   28.,   55.,   50.],\n",
       "       [   6.,   35.,  -64.,  -45.,  -41.,  -78.,  -30.,  -46.,   95.,\n",
       "          17.,  -76.,   -9.,  -14.,  -75.,  -31.,  -32.,   46.,   -7.,\n",
       "         -58.,  -42.,  -71.,  -32.,  -41.,  -34.,  -32.],\n",
       "       [  16.,   41.,  -62.,  -43.,  -38.,  -62.,  -23.,  -45.,  103.,\n",
       "          29.,  -67.,   -4.,   -9.,  -69.,  -21.,  -18.,   45.,    0.,\n",
       "         -58.,  -31.,  -59.,  -22.,  -33.,  -27.,  -19.],\n",
       "       [  88.,  101.,   -9.,   15.,   41.,    9.,   47.,   41.,  175.,\n",
       "          95.,  -10.,   57.,   51.,   -9.,   45.,   47.,  141.,   77.,\n",
       "          35.,   37.,   -9.,   49.,   27.,   51.,   50.],\n",
       "       [  34.,   60.,  -32.,   -9.,  -11.,  -52.,   -9.,  -14.,  112.,\n",
       "          40.,  -59.,   13.,    3.,  -63.,   -9.,   -9.,   74.,   17.,\n",
       "         -32.,  -21.,  -46.,   -9.,  -20.,   -9.,   -9.],\n",
       "       [  31.,   57.,  -31.,   -9.,  -11.,  -51.,   -9.,  -13.,   -9.,\n",
       "          39.,  -62.,   14.,    0.,  -65.,   -9.,   -9.,   74.,   18.,\n",
       "         -31.,  -21.,  -39.,   -9.,  -20.,   -9.,   -9.],\n",
       "       [ -27.,   -9., -118.,  -94.,  -97., -139.,  -88., -102.,   28.,\n",
       "         -45., -109.,  -64.,  -63., -159.,  -92.,  -92.,   -9.,  -63.,\n",
       "        -116., -107., -103.,  -90.,  -99.,  -93.,  -93.],\n",
       "       [   7.,   33.,  -63.,  -48.,  -44.,  -81.,  -35.,  -50.,   87.,\n",
       "          13.,  -72.,  -11.,  -18.,  -95.,  -35.,  -36.,   45.,   -9.,\n",
       "         -61.,  -48.,  -69.,  -34.,  -46.,  -38.,  -35.],\n",
       "       [  55.,   89.,   -9.,    7.,    7.,  -31.,   20.,    2.,  139.,\n",
       "          61.,   -9.,   40.,   40.,  -53.,   14.,   13.,   98.,   43.,\n",
       "          -9.,    2.,   -9.,   17.,    6.,   14.,   14.],\n",
       "       [  44.,   67.,  -20.,  -27.,   -4.,  -41.,    3.,   -9.,  128.,\n",
       "          51.,  -55.,   24.,   13.,  -55.,    3.,    3.,   89.,   30.,\n",
       "         -20.,   -9.,  -39.,    4.,   -9.,    2.,    3.],\n",
       "       [  58.,   80.,   -9.,   -9.,   -9.,   -9.,   24.,   -9.,   -9.,\n",
       "          78.,   -9.,   53.,   41.,   -9.,   28.,   21.,   85.,   51.,\n",
       "          -9.,   21.,   -9.,   19.,   22.,   24.,   28.],\n",
       "       [  35.,   62.,  -35.,  -13.,  -17.,  -52.,   -9.,  -20.,  109.,\n",
       "          40.,  -41.,   14.,    4.,  -67.,   -9.,   -9.,   72.,   16.,\n",
       "         -35.,  -22.,  -37.,   -9.,  -19.,  -10.,   -9.],\n",
       "       [  38.,   67.,  -34.,  -14.,   -8.,  -42.,    2.,   -9.,  129.,\n",
       "          51.,  -46.,   23.,   15.,  -45.,    2.,    2.,   81.,   28.,\n",
       "         -24.,   -9.,  -40.,    1.,   -9.,    1.,    1.],\n",
       "       [  31.,   58.,  -35.,  -15.,  -13.,  -52.,   -7.,  -21.,  115.,\n",
       "          40.,  -73.,   16.,    9.,  -69.,   -9.,   -9.,   75.,   20.,\n",
       "         -32.,  -20.,  -42.,   -8.,  -19.,   -9.,   -9.],\n",
       "       [  31.,   57.,  -34.,  -39.,  -17.,  -52.,   -9.,  -21.,  116.,\n",
       "          39.,  -68.,   14.,    1.,  -68.,   -9.,   -9.,   75.,   17.,\n",
       "         -32.,  -21.,  -46.,   -9.,  -19.,   -9.,   -9.]])"
      ]
     },
     "execution_count": 25,
     "metadata": {},
     "output_type": "execute_result"
    }
   ],
   "source": [
    "localidades_lagmax"
   ]
  },
  {
   "cell_type": "code",
   "execution_count": 26,
   "id": "e49075a7",
   "metadata": {},
   "outputs": [
    {
     "data": {
      "text/plain": [
       "array([[0.97606383, 0.9184217 , 0.82228916, 0.83523969, 0.88736131,\n",
       "        0.77138569, 0.86590349, 0.86810543, 0.37328187, 0.85359997,\n",
       "        0.73989153, 0.88096615, 0.88773059, 0.70560406, 0.88412792,\n",
       "        0.89869673, 0.7955296 , 0.86409051, 0.78460991, 0.79361603,\n",
       "        0.85823005, 0.90543205, 0.85570211, 0.84909012, 0.85529779],\n",
       "       [0.9184217 , 0.97606383, 0.7688524 , 0.79053382, 0.84070435,\n",
       "        0.72560034, 0.82044515, 0.829376  , 0.39104268, 0.83984467,\n",
       "        0.73119644, 0.8414203 , 0.85514203, 0.7120952 , 0.8395007 ,\n",
       "        0.85511524, 0.82306055, 0.81372216, 0.73988069, 0.74579328,\n",
       "        0.80978288, 0.85523272, 0.82526205, 0.80131953, 0.80254378],\n",
       "       [0.82228916, 0.7688524 , 0.97606383, 0.83169639, 0.874583  ,\n",
       "        0.83155806, 0.87794614, 0.87443117, 0.49120157, 0.79421854,\n",
       "        0.85679193, 0.84453499, 0.85586509, 0.7527869 , 0.84877372,\n",
       "        0.83921114, 0.82257036, 0.85830218, 0.91238499, 0.83971994,\n",
       "        0.8968055 , 0.87849922, 0.83332451, 0.87614422, 0.85841232],\n",
       "       [0.83523969, 0.79053382, 0.83169639, 0.97606383, 0.90751601,\n",
       "        0.79870786, 0.82289454, 0.9268047 , 0.53712339, 0.74359888,\n",
       "        0.77944377, 0.81107577, 0.8457095 , 0.76352367, 0.84450959,\n",
       "        0.89047124, 0.71065371, 0.76963486, 0.78232454, 0.74922872,\n",
       "        0.92594095, 0.85902956, 0.83336583, 0.8149644 , 0.79504078],\n",
       "       [0.88736131, 0.84070435, 0.874583  , 0.90751601, 0.97606383,\n",
       "        0.83252685, 0.91479459, 0.93482703, 0.48223975, 0.83463651,\n",
       "        0.77633209, 0.88064911, 0.88572484, 0.73115461, 0.93353995,\n",
       "        0.92329314, 0.83547263, 0.89657835, 0.85943799, 0.86476853,\n",
       "        0.88375668, 0.94291519, 0.89149047, 0.90260565, 0.89079163],\n",
       "       [0.77138569, 0.72560034, 0.83155806, 0.79870786, 0.83252685,\n",
       "        0.97606383, 0.90352082, 0.82980018, 0.53889905, 0.86145931,\n",
       "        0.7805011 , 0.87158101, 0.83264255, 0.87284547, 0.88047712,\n",
       "        0.84498743, 0.78470243, 0.88342484, 0.88945399, 0.92903703,\n",
       "        0.84428417, 0.86327768, 0.90704652, 0.92314346, 0.91783451],\n",
       "       [0.86590349, 0.82044515, 0.87794614, 0.82289454, 0.91479459,\n",
       "        0.90352082, 0.97606383, 0.87779981, 0.53036928, 0.9092014 ,\n",
       "        0.71501133, 0.93504836, 0.93581189, 0.81059812, 0.9531744 ,\n",
       "        0.91049527, 0.81921419, 0.9502504 , 0.89608265, 0.94260606,\n",
       "        0.84339869, 0.95602592, 0.94377363, 0.95248002, 0.96130266],\n",
       "       [0.86810543, 0.829376  , 0.87443117, 0.9268047 , 0.93482703,\n",
       "        0.82980018, 0.87779981, 0.97606383, 0.4428031 , 0.78047557,\n",
       "        0.79782684, 0.84935939, 0.85560223, 0.73223716, 0.88595594,\n",
       "        0.92239113, 0.78108475, 0.84195418, 0.85592391, 0.8195575 ,\n",
       "        0.91627934, 0.8944686 , 0.87666264, 0.89956623, 0.84769862],\n",
       "       [0.37328187, 0.39104268, 0.49120157, 0.53712339, 0.48223975,\n",
       "        0.53889905, 0.53036928, 0.4428031 , 0.97606383, 0.46673015,\n",
       "        0.4307299 , 0.47252455, 0.427178  , 0.48413782, 0.46984129,\n",
       "        0.45594995, 0.5764903 , 0.55209107, 0.5541601 , 0.60269299,\n",
       "        0.41736328, 0.47267548, 0.49070871, 0.52940831, 0.5433377 ],\n",
       "       [0.85359997, 0.83984467, 0.79421854, 0.74359888, 0.83463651,\n",
       "        0.86145931, 0.9092014 , 0.78047557, 0.46673015, 0.97606383,\n",
       "        0.73235092, 0.91547476, 0.91331912, 0.80811519, 0.88657796,\n",
       "        0.82770073, 0.76945765, 0.92946144, 0.81806727, 0.91061117,\n",
       "        0.77863978, 0.89010463, 0.89687406, 0.86918466, 0.92770847],\n",
       "       [0.73989153, 0.73119644, 0.85679193, 0.77944377, 0.77633209,\n",
       "        0.7805011 , 0.71501133, 0.79782684, 0.4307299 , 0.73235092,\n",
       "        0.97606383, 0.7721618 , 0.80523872, 0.89979541, 0.74600119,\n",
       "        0.74542751, 0.6807199 , 0.68355082, 0.71568304, 0.73336479,\n",
       "        0.87259694, 0.733969  , 0.81051074, 0.72045796, 0.72930114],\n",
       "       [0.88096615, 0.8414203 , 0.84453499, 0.81107577, 0.88064911,\n",
       "        0.87158101, 0.93504836, 0.84935939, 0.47252455, 0.91547476,\n",
       "        0.7721618 , 0.97606383, 0.95095358, 0.79881929, 0.91262566,\n",
       "        0.86883079, 0.81042857, 0.94847666, 0.88352755, 0.90573792,\n",
       "        0.83832965, 0.91015645, 0.93944048, 0.9081235 , 0.93284504],\n",
       "       [0.88773059, 0.85514203, 0.85586509, 0.8457095 , 0.88572484,\n",
       "        0.83264255, 0.93581189, 0.85560223, 0.427178  , 0.91331912,\n",
       "        0.80523872, 0.95095358, 0.97606383, 0.82168909, 0.91666954,\n",
       "        0.87993201, 0.80394788, 0.92669458, 0.85183708, 0.89057975,\n",
       "        0.85511309, 0.9219439 , 0.93279409, 0.88587246, 0.92770334],\n",
       "       [0.70560406, 0.7120952 , 0.7527869 , 0.76352367, 0.73115461,\n",
       "        0.87284547, 0.81059812, 0.73223716, 0.48413782, 0.80811519,\n",
       "        0.89979541, 0.79881929, 0.82168909, 0.97606383, 0.80419984,\n",
       "        0.78444802, 0.72103922, 0.77694385, 0.7892745 , 0.84879615,\n",
       "        0.83452895, 0.79355381, 0.85952547, 0.82430787, 0.8290722 ],\n",
       "       [0.88412792, 0.8395007 , 0.84877372, 0.84450959, 0.93353995,\n",
       "        0.88047712, 0.9531744 , 0.88595594, 0.46984129, 0.88657796,\n",
       "        0.74600119, 0.91262566, 0.91666954, 0.80419984, 0.97606383,\n",
       "        0.95253311, 0.80270826, 0.91945114, 0.86018904, 0.92024193,\n",
       "        0.8359178 , 0.96512029, 0.93565107, 0.93515961, 0.94215958],\n",
       "       [0.89869673, 0.85511524, 0.83921114, 0.89047124, 0.92329314,\n",
       "        0.84498743, 0.91049527, 0.92239113, 0.45594995, 0.82770073,\n",
       "        0.74542751, 0.86883079, 0.87993201, 0.78444802, 0.95253311,\n",
       "        0.97606383, 0.75980164, 0.85959604, 0.82570575, 0.85634024,\n",
       "        0.85684742, 0.94386236, 0.9033048 , 0.92062457, 0.89158617],\n",
       "       [0.7955296 , 0.82306055, 0.82257036, 0.71065371, 0.83547263,\n",
       "        0.78470243, 0.81921419, 0.78108475, 0.5764903 , 0.76945765,\n",
       "        0.6807199 , 0.81042857, 0.80394788, 0.72103922, 0.80270826,\n",
       "        0.75980164, 0.97606383, 0.85232341, 0.87732822, 0.80993515,\n",
       "        0.66943725, 0.81719732, 0.76140293, 0.83032044, 0.80853697],\n",
       "       [0.86409051, 0.81372216, 0.85830218, 0.76963486, 0.89657835,\n",
       "        0.88342484, 0.9502504 , 0.84195418, 0.55209107, 0.92946144,\n",
       "        0.68355082, 0.94847666, 0.92669458, 0.77694385, 0.91945114,\n",
       "        0.85959604, 0.85232341, 0.97606383, 0.89568358, 0.9349421 ,\n",
       "        0.7928673 , 0.92817925, 0.91437811, 0.92384958, 0.94850979],\n",
       "       [0.78460991, 0.73988069, 0.91238499, 0.78232454, 0.85943799,\n",
       "        0.88945399, 0.89608265, 0.85592391, 0.5541601 , 0.81806727,\n",
       "        0.71568304, 0.88352755, 0.85183708, 0.7892745 , 0.86018904,\n",
       "        0.82570575, 0.87732822, 0.89568358, 0.97606383, 0.89572974,\n",
       "        0.79643663, 0.86227781, 0.87374065, 0.91062185, 0.89475892],\n",
       "       [0.79361603, 0.74579328, 0.83971994, 0.74922872, 0.86476853,\n",
       "        0.92903703, 0.94260606, 0.8195575 , 0.60269299, 0.91061117,\n",
       "        0.73336479, 0.90573792, 0.89057975, 0.84879615, 0.92024193,\n",
       "        0.85634024, 0.80993515, 0.9349421 , 0.89572974, 0.97606383,\n",
       "        0.78373228, 0.90645574, 0.93791834, 0.92969513, 0.95684503],\n",
       "       [0.85823005, 0.80978288, 0.8968055 , 0.92594095, 0.88375668,\n",
       "        0.84428417, 0.84339869, 0.91627934, 0.41736328, 0.77863978,\n",
       "        0.87259694, 0.83832965, 0.85511309, 0.83452895, 0.8359178 ,\n",
       "        0.85684742, 0.66943725, 0.7928673 , 0.79643663, 0.78373228,\n",
       "        0.97606383, 0.85536155, 0.87413726, 0.84074276, 0.82997139],\n",
       "       [0.90543205, 0.85523272, 0.87849922, 0.85902956, 0.94291519,\n",
       "        0.86327768, 0.95602592, 0.8944686 , 0.47267548, 0.89010463,\n",
       "        0.733969  , 0.91015645, 0.9219439 , 0.79355381, 0.96512029,\n",
       "        0.94386236, 0.81719732, 0.92817925, 0.86227781, 0.90645574,\n",
       "        0.85536155, 0.97606383, 0.91815359, 0.92911536, 0.94160137],\n",
       "       [0.85570211, 0.82526205, 0.83332451, 0.83336583, 0.89149047,\n",
       "        0.90704652, 0.94377363, 0.87666264, 0.49070871, 0.89687406,\n",
       "        0.81051074, 0.93944048, 0.93279409, 0.85952547, 0.93565107,\n",
       "        0.9033048 , 0.76140293, 0.91437811, 0.87374065, 0.93791834,\n",
       "        0.87413726, 0.91815359, 0.97606383, 0.92837958, 0.94332206],\n",
       "       [0.84909012, 0.80131953, 0.87614422, 0.8149644 , 0.90260565,\n",
       "        0.92314346, 0.95248002, 0.89956623, 0.52940831, 0.86918466,\n",
       "        0.72045796, 0.9081235 , 0.88587246, 0.82430787, 0.93515961,\n",
       "        0.92062457, 0.83032044, 0.92384958, 0.91062185, 0.92969513,\n",
       "        0.84074276, 0.92911536, 0.92837958, 0.97606383, 0.93848626],\n",
       "       [0.85529779, 0.80254378, 0.85841232, 0.79504078, 0.89079163,\n",
       "        0.91783451, 0.96130266, 0.84769862, 0.5433377 , 0.92770847,\n",
       "        0.72930114, 0.93284504, 0.92770334, 0.8290722 , 0.94215958,\n",
       "        0.89158617, 0.80853697, 0.94850979, 0.89475892, 0.95684503,\n",
       "        0.82997139, 0.94160137, 0.94332206, 0.93848626, 0.97606383]])"
      ]
     },
     "execution_count": 26,
     "metadata": {},
     "output_type": "execute_result"
    }
   ],
   "source": [
    "localidades_corrmax"
   ]
  }
 ],
 "metadata": {
  "kernelspec": {
   "display_name": "Python 3",
   "language": "python",
   "name": "python3"
  },
  "language_info": {
   "codemirror_mode": {
    "name": "ipython",
    "version": 3
   },
   "file_extension": ".py",
   "mimetype": "text/x-python",
   "name": "python",
   "nbconvert_exporter": "python",
   "pygments_lexer": "ipython3",
   "version": "3.7.10"
  }
 },
 "nbformat": 4,
 "nbformat_minor": 5
}
