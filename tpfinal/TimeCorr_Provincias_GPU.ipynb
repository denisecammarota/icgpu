{
 "cells": [
  {
   "cell_type": "code",
   "execution_count": 1,
   "id": "3cd7ad51",
   "metadata": {},
   "outputs": [],
   "source": [
    "import cudf \n",
    "import cupy as cp"
   ]
  },
  {
   "cell_type": "code",
   "execution_count": 2,
   "id": "15a0fb5d",
   "metadata": {},
   "outputs": [],
   "source": [
    "import numpy as np\n",
    "import matplotlib.pyplot as plt"
   ]
  },
  {
   "cell_type": "code",
   "execution_count": 3,
   "id": "48b46e69",
   "metadata": {},
   "outputs": [],
   "source": [
    "def change_dates(df):\n",
    "    #changes fecha_inicio_sintomas according to new criteria\n",
    "    filt_df2 = (df.fecha_inicio_sintomas.isnull()) #filter fecha_inicio_sintomas = inexistant\n",
    "    n_size = (df[filt_df2]).shape[0]\n",
    "    df[\"fecha_inicio_sintomas\"] = df[\"fecha_inicio_sintomas\"].fillna(0)\n",
    "    df[\"fecha_inicio_sintomas\"] = df[\"fecha_inicio_sintomas\"].astype('int')\n",
    "    df[\"fecha_apertura\"] = df[\"fecha_apertura\"].astype('int')\n",
    "    b = cp.array(df[\"fecha_apertura\"].values)\n",
    "    a = cp.array(df[\"fecha_inicio_sintomas\"].values)\n",
    "    a[filt_df2.values] = b[filt_df2.values] - cp.random.randint(0,9,a[filt_df2.values].shape)\n",
    "    filt_a = cp.where(a<0)\n",
    "    a[filt_a] = 0\n",
    "    df = df.drop([\"fecha_inicio_sintomas\"],axis=1)\n",
    "    df[\"fecha_inicio_sintomas\"] = a\n",
    "    return df"
   ]
  },
  {
   "cell_type": "markdown",
   "id": "1747f528",
   "metadata": {},
   "source": [
    "## Carga de datos, sacamos las series temporal"
   ]
  },
  {
   "cell_type": "code",
   "execution_count": 4,
   "id": "bb6e5805",
   "metadata": {},
   "outputs": [],
   "source": [
    "direccion = '12en20.csv'\n",
    "columnas = ['residencia_provincia_nombre','residencia_departamento_nombre','fecha_inicio_sintomas',\n",
    "            'fecha_apertura','clasificacion_resumen']\n",
    "data = cudf.read_csv(direccion,sep=\",\",quotechar='\"', usecols=columnas,\n",
    "                   parse_dates=[\"fecha_inicio_sintomas\",\"fecha_apertura\"],na_values=['']) "
   ]
  },
  {
   "cell_type": "code",
   "execution_count": 5,
   "id": "2a6990f7",
   "metadata": {},
   "outputs": [],
   "source": [
    "data = data[data[\"clasificacion_resumen\"] == \"Confirmado\"] #filter confirmed cases\n",
    "df = cudf.DataFrame(data) "
   ]
  },
  {
   "cell_type": "code",
   "execution_count": 6,
   "id": "e561c83d",
   "metadata": {},
   "outputs": [],
   "source": [
    "df = df.drop(['clasificacion_resumen'], axis=1) #drop clasificacion_resumen bc previous filter of confirmed cases"
   ]
  },
  {
   "cell_type": "code",
   "execution_count": 7,
   "id": "7fdd4406",
   "metadata": {},
   "outputs": [
    {
     "name": "stdout",
     "output_type": "stream",
     "text": [
      "primer sintoma de persona confirmada:  2020-01-01T00:00:00.000000000\n",
      "ultimo sintoma de persona confirmada:  2021-01-11T00:00:00.000000000\n",
      "ultima apertura de persona confirmada:  2021-01-11T00:00:00.000000000\n"
     ]
    }
   ],
   "source": [
    "filt_df1 = (df.fecha_inicio_sintomas.notnull()) #filter fecha_inicio_sintomas = inexistant\n",
    "inicio_epidemia = (df.loc[filt_df1,\"fecha_inicio_sintomas\"]).min() #first symptoms of a person registered\n",
    "ultima_actualizacion_sintomas = (df.loc[filt_df1,\"fecha_inicio_sintomas\"]).max() #last day symptoms of a person registered\n",
    "ultima_actualizacion_apertura = (df[\"fecha_apertura\"]).max()\n",
    "df[\"fecha_inicio_sintomas\"] -= inicio_epidemia #correcting by inicio_epidemia \n",
    "df[\"fecha_apertura\"] -= inicio_epidemia #correcting by inicio_epidemia\n",
    "df.fecha_inicio_sintomas = df.fecha_inicio_sintomas.dt.days #change to int, ditch days \n",
    "df.fecha_apertura = df.fecha_apertura.dt.days #change to int, ditch days\n",
    "print(\"primer sintoma de persona confirmada: \",inicio_epidemia)\n",
    "print(\"ultimo sintoma de persona confirmada: \",ultima_actualizacion_sintomas)\n",
    "print(\"ultima apertura de persona confirmada: \",ultima_actualizacion_apertura)"
   ]
  },
  {
   "cell_type": "code",
   "execution_count": 8,
   "id": "29dcf7a4",
   "metadata": {},
   "outputs": [],
   "source": [
    "df = change_dates(df) # we have replaced all bad or undefined dates"
   ]
  },
  {
   "cell_type": "code",
   "execution_count": 9,
   "id": "44dc2da1",
   "metadata": {},
   "outputs": [
    {
     "name": "stdout",
     "output_type": "stream",
     "text": [
      "0            Buenos Aires\n",
      "1                    CABA\n",
      "2               Catamarca\n",
      "3                   Chaco\n",
      "4                  Chubut\n",
      "5              Corrientes\n",
      "6                 Córdoba\n",
      "7              Entre Ríos\n",
      "8                 Formosa\n",
      "9                   Jujuy\n",
      "10               La Pampa\n",
      "11               La Rioja\n",
      "12                Mendoza\n",
      "13               Misiones\n",
      "14                Neuquén\n",
      "15              Río Negro\n",
      "16        SIN ESPECIFICAR\n",
      "17                  Salta\n",
      "18               San Juan\n",
      "19               San Luis\n",
      "20             Santa Cruz\n",
      "21               Santa Fe\n",
      "22    Santiago del Estero\n",
      "23       Tierra del Fuego\n",
      "24                Tucumán\n",
      "Name: residencia_provincia_nombre, dtype: object\n"
     ]
    }
   ],
   "source": [
    "#let's list all the provinces that have cases (all rn tbh, but just to use pandas stuff)\n",
    "#we'll get those times series then, with cudf grouping\n",
    "provincias = df[\"residencia_provincia_nombre\"].unique()\n",
    "#print: we get provinces + the sin especificar / unespecified thing\n",
    "print(provincias)"
   ]
  },
  {
   "cell_type": "code",
   "execution_count": 10,
   "id": "4a017bc3",
   "metadata": {},
   "outputs": [
    {
     "name": "stderr",
     "output_type": "stream",
     "text": [
      "/home/denise/miniconda3/envs/gpup/lib/python3.7/site-packages/cudf/core/frame.py:2627: UserWarning: When using a sequence of booleans for `ascending`, `na_position` flag is not yet supported and defaults to treating nulls as greater than all numbers\n",
      "  \"When using a sequence of booleans for `ascending`, \"\n"
     ]
    }
   ],
   "source": [
    "df = df[[\"residencia_provincia_nombre\",\"fecha_inicio_sintomas\"]]\n",
    "df2 = df.groupby([\"residencia_provincia_nombre\",\"fecha_inicio_sintomas\"]).size().reset_index() \n",
    "df2 = df2.rename(columns={0:'casos'})\n",
    "df3 = df2.sort_values([\"residencia_provincia_nombre\",\"fecha_inicio_sintomas\"],ascending=[True,True])"
   ]
  },
  {
   "cell_type": "code",
   "execution_count": 11,
   "id": "e3734fc8",
   "metadata": {},
   "outputs": [],
   "source": [
    "rows = provincias.shape[0]\n",
    "cols = df2[\"fecha_inicio_sintomas\"].max()\n",
    "time_series = cp.zeros(shape=(rows,cols))\n",
    "time_series_ac = cp.zeros(shape=(rows,cols))"
   ]
  },
  {
   "cell_type": "code",
   "execution_count": 12,
   "id": "c43b1422",
   "metadata": {},
   "outputs": [],
   "source": [
    "j = 0\n",
    "for i in provincias.to_pandas():\n",
    "  df_tmp = df3[df3[\"residencia_provincia_nombre\"]==i]\n",
    "  tmp_dates = cp.array(df_tmp[\"fecha_inicio_sintomas\"].values)\n",
    "  tmp_cases = cp.array(df_tmp[\"casos\"].values)\n",
    "  time_series[j,tmp_dates]= tmp_cases\n",
    "  j = j + 1"
   ]
  },
  {
   "cell_type": "code",
   "execution_count": 13,
   "id": "e6626963",
   "metadata": {},
   "outputs": [],
   "source": [
    "for i in range(rows):\n",
    "  for j in range(13,cols):\n",
    "    time_series_ac[i,j] = cp.sum(time_series[i,j-13:j+1])"
   ]
  },
  {
   "cell_type": "code",
   "execution_count": 14,
   "id": "241824a7",
   "metadata": {},
   "outputs": [
    {
     "data": {
      "text/plain": [
       "array([[    0.,     0.,     0., ..., 41112., 38153., 34909.],\n",
       "       [    0.,     0.,     0., ..., 12248., 11495., 10575.],\n",
       "       [    0.,     0.,     0., ...,   455.,   438.,   393.],\n",
       "       ...,\n",
       "       [    0.,     0.,     0., ...,  1494.,  1394.,  1331.],\n",
       "       [    0.,     0.,     0., ...,  1110.,  1031.,   931.],\n",
       "       [    0.,     0.,     0., ...,  2090.,  2023.,  1910.]])"
      ]
     },
     "execution_count": 14,
     "metadata": {},
     "output_type": "execute_result"
    }
   ],
   "source": [
    "time_series_ac"
   ]
  },
  {
   "cell_type": "markdown",
   "id": "ea4e2546",
   "metadata": {},
   "source": [
    "## Primero, aca vamos a calcular la correlacion de Pearson y chequear que de todo bien\n",
    "\n",
    "Esto funciona aca y esta todo tranquilo, no hay problema!"
   ]
  },
  {
   "cell_type": "code",
   "execution_count": 15,
   "id": "3766fc54",
   "metadata": {},
   "outputs": [],
   "source": [
    "#no existe en cupy, la hago yo a esta funcion \n",
    "def pearsonr(a,b):\n",
    "  m_a = cp.mean(a)\n",
    "  m_b = cp.mean(b)\n",
    "  r_a = a - m_a\n",
    "  r_b = b - m_b\n",
    "  r_a_2 = cp.sum((r_a)**2) \n",
    "  r_b_2 = cp.sum((r_b)**2)\n",
    "  r = cp.sum((r_a*r_b)/cp.sqrt(r_a_2*r_b_2))\n",
    "  return r"
   ]
  },
  {
   "cell_type": "code",
   "execution_count": 16,
   "id": "d61dcd88",
   "metadata": {},
   "outputs": [
    {
     "data": {
      "text/plain": [
       "array(0.88364038)"
      ]
     },
     "execution_count": 16,
     "metadata": {},
     "output_type": "execute_result"
    }
   ],
   "source": [
    "#por ejemplo, correlaciones para caba y baires\n",
    "caba = time_series_ac[1,:-10]\n",
    "baires = time_series_ac[0,:-10]\n",
    "pearsonr(caba,baires)"
   ]
  },
  {
   "cell_type": "code",
   "execution_count": 17,
   "id": "da755f4c",
   "metadata": {},
   "outputs": [
    {
     "name": "stdout",
     "output_type": "stream",
     "text": [
      "Coeficientes de Pearson\n",
      "Pearson entre CABA y Baires:  0.884\n",
      "Pearson entre Catamarca y Baires:  0.315\n",
      "Pearson entre Chaco y Baires:  0.603\n",
      "Pearson entre Chubut y Baires:  0.499\n",
      "Pearson entre Corrientes y Baires:  0.183\n",
      "Pearson entre Córdoba y Baires:  0.611\n",
      "Pearson entre Entre Ríos y Baires:  0.579\n",
      "Pearson entre Formosa y Baires:  0.324\n",
      "Pearson entre Jujuy y Baires:  0.868\n",
      "Pearson entre La Pampa y Baires:  0.261\n",
      "Pearson entre La Rioja y Baires:  0.837\n",
      "Pearson entre Mendoza y Baires:  0.793\n",
      "Pearson entre Misiones y Baires:  0.166\n",
      "Pearson entre Neuquén y Baires:  0.645\n",
      "Pearson entre Río Negro y Baires:  0.738\n",
      "Pearson entre SIN ESPECIFICAR y Baires:  0.724\n",
      "Pearson entre Salta y Baires:  0.824\n",
      "Pearson entre San Juan y Baires:  0.244\n",
      "Pearson entre San Luis y Baires:  0.39\n",
      "Pearson entre Santa Cruz y Baires:  0.472\n",
      "Pearson entre Santa Fe y Baires:  0.634\n",
      "Pearson entre Santiago del Estero y Baires:  0.509\n",
      "Pearson entre Tierra del Fuego y Baires:  0.639\n",
      "Pearson entre Tucumán y Baires:  0.6\n"
     ]
    }
   ],
   "source": [
    "#ahora, tratemos de hacer lo mismo para baires y el resto del país\n",
    "baires = time_series_ac[0,:-10]\n",
    "i = 1\n",
    "provs = provincias.to_pandas()\n",
    "print('Coeficientes de Pearson')\n",
    "while i < rows:\n",
    "  prov_tmp = time_series_ac[i,:-10]\n",
    "  r = pearsonr(baires,prov_tmp)\n",
    "  print('Pearson entre '+provs[i]+' y Baires: ',cp.around(r,3))\n",
    "  i += 1"
   ]
  },
  {
   "cell_type": "markdown",
   "id": "53e0b9fe",
   "metadata": {},
   "source": [
    "## Segundo, la Time Lagged Cross Correlation\n",
    "\n",
    "Chequee aca que el problema es efectivamente el padding para calcular esto, que queda cero en el denominador y queda nan, si lo saco entonces se observa que no hay problema. Sin embargo, no pasa lo mismo con las funciones de cupy, asi que tiene que haber un problema del que no me estaria dando mucha cuenta."
   ]
  },
  {
   "cell_type": "code",
   "execution_count": 18,
   "id": "6057c7c9",
   "metadata": {},
   "outputs": [],
   "source": [
    "#no existe en cupy, la hago yo a esta funcion \n",
    "def pearsonr2(a,b):\n",
    "  m_a = cp.mean(a)\n",
    "  m_b = cp.mean(b)\n",
    "  r_a = a - m_a\n",
    "  r_b = b - m_b\n",
    "  r_a_2 = cp.sum((r_a)**2) \n",
    "  r_b_2 = cp.sum((r_b)**2)\n",
    "  r = cp.sum((r_a*r_b))\n",
    "  return r"
   ]
  },
  {
   "cell_type": "code",
   "execution_count": 19,
   "id": "37a670a2",
   "metadata": {},
   "outputs": [],
   "source": [
    "def lag_pearson(a,b,lag):\n",
    "  #dejo a fijo\n",
    "  #desplazo b\n",
    "  b = cp.roll(b,lag)\n",
    "  r = pearsonr2(a[lag:],b[lag:])\n",
    "  return r"
   ]
  },
  {
   "cell_type": "code",
   "execution_count": 20,
   "id": "3cfef234",
   "metadata": {},
   "outputs": [
    {
     "name": "stdout",
     "output_type": "stream",
     "text": [
      "Pearson máx entre CABA y Baires:  55790930599.116 . En offset de frames:  -21.0\n",
      "Pearson máx entre Catamarca y Baires:  515354439.844 . En offset de frames:  0.0\n",
      "Pearson máx entre Chaco y Baires:  5707395368.68 . En offset de frames:  0.0\n",
      "Pearson máx entre Chubut y Baires:  8881118560.852 . En offset de frames:  0.0\n",
      "Pearson máx entre Corrientes y Baires:  1468001588.098 . En offset de frames:  0.0\n",
      "Pearson máx entre Córdoba y Baires:  44904238305.074 . En offset de frames:  0.0\n",
      "Pearson máx entre Entre Ríos y Baires:  8147647957.443 . En offset de frames:  0.0\n",
      "Pearson máx entre Formosa y Baires:  37962015.909 . En offset de frames:  -80.0\n",
      "Pearson máx entre Jujuy y Baires:  9740536404.657 . En offset de frames:  -5.0\n",
      "Pearson máx entre La Pampa y Baires:  1888905851.131 . En offset de frames:  0.0\n",
      "Pearson máx entre La Rioja y Baires:  4131361990.098 . En offset de frames:  0.0\n",
      "Pearson máx entre Mendoza y Baires:  26610502129.607 . En offset de frames:  0.0\n",
      "Pearson máx entre Misiones y Baires:  139232564.59 . En offset de frames:  0.0\n",
      "Pearson máx entre Neuquén y Baires:  14005089836.926 . En offset de frames:  0.0\n",
      "Pearson máx entre Río Negro y Baires:  12639298144.918 . En offset de frames:  0.0\n",
      "Pearson máx entre SIN ESPECIFICAR y Baires:  1137092417.862 . En offset de frames:  -18.0\n",
      "Pearson máx entre Salta y Baires:  11010985008.098 . En offset de frames:  0.0\n",
      "Pearson máx entre San Juan y Baires:  1968430838.172 . En offset de frames:  0.0\n",
      "Pearson máx entre San Luis y Baires:  4554078198.148 . En offset de frames:  0.0\n",
      "Pearson máx entre Santa Cruz y Baires:  5560495568.295 . En offset de frames:  0.0\n",
      "Pearson máx entre Santa Fe y Baires:  59957534032.516 . En offset de frames:  0.0\n",
      "Pearson máx entre Santiago del Estero y Baires:  5279405602.287 . En offset de frames:  0.0\n",
      "Pearson máx entre Tierra del Fuego y Baires:  6554512007.205 . En offset de frames:  0.0\n",
      "Pearson máx entre Tucumán y Baires:  26545119248.803 . En offset de frames:  0.0\n"
     ]
    }
   ],
   "source": [
    "#ahora, tratemos de hacer lo mismo para baires y el resto del país\n",
    "baires = time_series_ac[0,:-10]\n",
    "offset_vec = []\n",
    "rs_vec = []\n",
    "seconds = 5\n",
    "fps = 20\n",
    "i = 1\n",
    "while i < rows:\n",
    "  prov_tmp = time_series_ac[i,:-10]\n",
    "  rs = [lag_pearson(baires,prov_tmp,lag) for lag in range(-int(seconds*fps),int(seconds*fps+1))]\n",
    "  rs = cp.array(rs)\n",
    "  #print(rs)\n",
    "  offset_tmp = cp.floor(len(rs)/2)-cp.argmax(rs)\n",
    "  rs_tmp = cp.max(rs)\n",
    "  offset_vec.append(offset_tmp)\n",
    "  rs_vec.append(rs_tmp)\n",
    "  print('Pearson máx entre '+provs[i]+' y Baires: ',cp.around(rs_tmp,3),'. En offset de frames: ',offset_tmp)\n",
    "  i = i + 1"
   ]
  },
  {
   "cell_type": "markdown",
   "id": "89fbf25a",
   "metadata": {},
   "source": [
    "## Pruebo aca usar el correlate de Cupy, con lag y todo, verificamos que funciona okay. "
   ]
  },
  {
   "cell_type": "code",
   "execution_count": 33,
   "id": "3fa1c4c8",
   "metadata": {},
   "outputs": [],
   "source": [
    "baires = time_series_ac[0,:-10]\n",
    "caba = time_series_ac[1,:-10]"
   ]
  },
  {
   "cell_type": "code",
   "execution_count": 34,
   "id": "e2a7089d",
   "metadata": {},
   "outputs": [],
   "source": [
    "npts = baires.shape[0]\n",
    "lags = cp.arange(-npts + 1, npts)"
   ]
  },
  {
   "cell_type": "code",
   "execution_count": 35,
   "id": "d5da5357",
   "metadata": {},
   "outputs": [],
   "source": [
    "ccov = np.correlate(baires - baires.mean(), caba - caba.mean(), mode='full')\n",
    "ccor = ccov / (npts * baires.std() * caba.std())"
   ]
  },
  {
   "cell_type": "code",
   "execution_count": 36,
   "id": "42bf2055",
   "metadata": {},
   "outputs": [
    {
     "name": "stdout",
     "output_type": "stream",
     "text": [
      "max correlation is 0.943122\n",
      "max correlation is at lag 22\n"
     ]
    },
    {
     "data": {
      "image/png": "[encoded data removed]",
      "text/plain": [
       "<Figure size 432x288 with 2 Axes>"
      ]
     },
     "metadata": {
      "needs_background": "light"
     },
     "output_type": "display_data"
    }
   ],
   "source": [
    "fig, axs = plt.subplots(nrows=2)\n",
    "fig.subplots_adjust(hspace=0.4)\n",
    "ax = axs[0]\n",
    "ax.plot(baires.get(), 'b', label='y1')\n",
    "ax.plot(caba.get(), 'r', label='y2')\n",
    "ax.legend(loc='upper right', fontsize='small', ncol=2)\n",
    "\n",
    "ax = axs[1]\n",
    "ax.plot(lags.get(), ccor.get())\n",
    "ax.set_ylabel('cross-correlation')\n",
    "ax.set_xlabel('lag of y1 relative to y2')\n",
    "\n",
    "maxlag = lags[cp.argmax(ccor)]\n",
    "print(\"max correlation is %f\" % cp.max(ccor))\n",
    "print(\"max correlation is at lag %d\" % maxlag)"
   ]
  },
  {
   "cell_type": "markdown",
   "id": "cc63ae67",
   "metadata": {},
   "source": [
    "# Ahora, lo hacemos en serio, tipo todas las provincias contra todas las provincias, y guardamos los resultados"
   ]
  },
  {
   "cell_type": "code",
   "execution_count": 48,
   "id": "ea11cb72",
   "metadata": {},
   "outputs": [],
   "source": [
    "localidades_lagmax = cp.zeros(shape=(rows,rows))\n",
    "localidades_corrmax = cp.zeros(shape=(rows,rows))\n",
    "npts = cols\n",
    "lags = cp.arange(-npts + 1, npts)\n",
    "i = 0\n",
    "while i < rows:\n",
    "    j = 0\n",
    "    prov_tmp_1 = time_series_ac[i,:-10]\n",
    "    while j < rows:\n",
    "        prov_tmp_2 = time_series_ac[j,:-10]\n",
    "        ccov = np.correlate(prov_tmp_1  - prov_tmp_1 .mean(), prov_tmp_2 - prov_tmp_2.mean(), mode='full')\n",
    "        ccor = ccov / (npts * prov_tmp_1 .std() * prov_tmp_2.std())\n",
    "        localidades_lagmax[i,j] = lags[cp.argmax(ccor)]\n",
    "        localidades_corrmax[i,j] = cp.max(ccor)\n",
    "        j = j + 1\n",
    "    i = i +1"
   ]
  },
  {
   "cell_type": "code",
   "execution_count": null,
   "id": "cd58ad8e",
   "metadata": {},
   "outputs": [],
   "source": []
  }
 ],
 "metadata": {
  "kernelspec": {
   "display_name": "Python 3",
   "language": "python",
   "name": "python3"
  },
  "language_info": {
   "codemirror_mode": {
    "name": "ipython",
    "version": 3
   },
   "file_extension": ".py",
   "mimetype": "text/x-python",
   "name": "python",
   "nbconvert_exporter": "python",
   "pygments_lexer": "ipython3",
   "version": "3.7.10"
  }
 },
 "nbformat": 4,
 "nbformat_minor": 5
}
