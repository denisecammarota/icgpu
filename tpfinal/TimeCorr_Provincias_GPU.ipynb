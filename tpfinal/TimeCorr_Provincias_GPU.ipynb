{
 "cells": [
  {
   "cell_type": "code",
   "execution_count": 1,
   "id": "3cd7ad51",
   "metadata": {},
   "outputs": [],
   "source": [
    "import cudf \n",
    "import cupy as cp\n",
    "cp.random.seed(0)"
   ]
  },
  {
   "cell_type": "code",
   "execution_count": 2,
   "id": "15a0fb5d",
   "metadata": {},
   "outputs": [],
   "source": [
    "import numpy as np\n",
    "import matplotlib.pyplot as plt"
   ]
  },
  {
   "cell_type": "code",
   "execution_count": 3,
   "id": "48b46e69",
   "metadata": {},
   "outputs": [],
   "source": [
    "def change_dates(df):\n",
    "    #changes fecha_inicio_sintomas according to new criteria\n",
    "    filt_df2 = (df.fecha_inicio_sintomas.isnull()) #filter fecha_inicio_sintomas = inexistant\n",
    "    n_size = (df[filt_df2]).shape[0]\n",
    "    df[\"fecha_inicio_sintomas\"] = df[\"fecha_inicio_sintomas\"].fillna(0)\n",
    "    df[\"fecha_inicio_sintomas\"] = df[\"fecha_inicio_sintomas\"].astype('int')\n",
    "    df[\"fecha_apertura\"] = df[\"fecha_apertura\"].astype('int')\n",
    "    b = cp.array(df[\"fecha_apertura\"].values)\n",
    "    a = cp.array(df[\"fecha_inicio_sintomas\"].values)\n",
    "    a[filt_df2.values] = b[filt_df2.values] - cp.random.randint(0,9,a[filt_df2.values].shape)\n",
    "    filt_a = cp.where(a<0)\n",
    "    a[filt_a] = 0\n",
    "    df = df.drop([\"fecha_inicio_sintomas\"],axis=1)\n",
    "    df[\"fecha_inicio_sintomas\"] = a\n",
    "    return df"
   ]
  },
  {
   "cell_type": "markdown",
   "id": "1747f528",
   "metadata": {},
   "source": [
    "## Carga de datos, sacamos las series temporal"
   ]
  },
  {
   "cell_type": "code",
   "execution_count": 4,
   "id": "bb6e5805",
   "metadata": {},
   "outputs": [],
   "source": [
    "direccion = '12en20.csv'\n",
    "columnas = ['residencia_provincia_nombre','residencia_departamento_nombre','fecha_inicio_sintomas',\n",
    "            'fecha_apertura','clasificacion_resumen']\n",
    "data = cudf.read_csv(direccion,sep=\",\",quotechar='\"', usecols=columnas,\n",
    "                   parse_dates=[\"fecha_inicio_sintomas\",\"fecha_apertura\"],na_values=['']) "
   ]
  },
  {
   "cell_type": "code",
   "execution_count": 5,
   "id": "2a6990f7",
   "metadata": {},
   "outputs": [],
   "source": [
    "data = data[data[\"clasificacion_resumen\"] == \"Confirmado\"] #filter confirmed cases\n",
    "df = cudf.DataFrame(data) "
   ]
  },
  {
   "cell_type": "code",
   "execution_count": 6,
   "id": "e561c83d",
   "metadata": {},
   "outputs": [],
   "source": [
    "df = df.drop(['clasificacion_resumen'], axis=1) #drop clasificacion_resumen bc previous filter of confirmed cases"
   ]
  },
  {
   "cell_type": "code",
   "execution_count": 7,
   "id": "7fdd4406",
   "metadata": {},
   "outputs": [
    {
     "name": "stdout",
     "output_type": "stream",
     "text": [
      "primer sintoma de persona confirmada:  2020-01-01T00:00:00.000000000\n",
      "ultimo sintoma de persona confirmada:  2021-01-11T00:00:00.000000000\n",
      "ultima apertura de persona confirmada:  2021-01-11T00:00:00.000000000\n"
     ]
    }
   ],
   "source": [
    "filt_df1 = (df.fecha_inicio_sintomas.notnull()) #filter fecha_inicio_sintomas = inexistant\n",
    "inicio_epidemia = (df.loc[filt_df1,\"fecha_inicio_sintomas\"]).min() #first symptoms of a person registered\n",
    "ultima_actualizacion_sintomas = (df.loc[filt_df1,\"fecha_inicio_sintomas\"]).max() #last day symptoms of a person registered\n",
    "ultima_actualizacion_apertura = (df[\"fecha_apertura\"]).max()\n",
    "df[\"fecha_inicio_sintomas\"] -= inicio_epidemia #correcting by inicio_epidemia \n",
    "df[\"fecha_apertura\"] -= inicio_epidemia #correcting by inicio_epidemia\n",
    "df.fecha_inicio_sintomas = df.fecha_inicio_sintomas.dt.days #change to int, ditch days \n",
    "df.fecha_apertura = df.fecha_apertura.dt.days #change to int, ditch days\n",
    "print(\"primer sintoma de persona confirmada: \",inicio_epidemia)\n",
    "print(\"ultimo sintoma de persona confirmada: \",ultima_actualizacion_sintomas)\n",
    "print(\"ultima apertura de persona confirmada: \",ultima_actualizacion_apertura)"
   ]
  },
  {
   "cell_type": "code",
   "execution_count": 8,
   "id": "29dcf7a4",
   "metadata": {},
   "outputs": [],
   "source": [
    "df = change_dates(df) # we have replaced all bad or undefined dates"
   ]
  },
  {
   "cell_type": "code",
   "execution_count": 9,
   "id": "44dc2da1",
   "metadata": {},
   "outputs": [
    {
     "name": "stdout",
     "output_type": "stream",
     "text": [
      "0            Buenos Aires\n",
      "1                    CABA\n",
      "2               Catamarca\n",
      "3                   Chaco\n",
      "4                  Chubut\n",
      "5              Corrientes\n",
      "6                 Córdoba\n",
      "7              Entre Ríos\n",
      "8                 Formosa\n",
      "9                   Jujuy\n",
      "10               La Pampa\n",
      "11               La Rioja\n",
      "12                Mendoza\n",
      "13               Misiones\n",
      "14                Neuquén\n",
      "15              Río Negro\n",
      "16        SIN ESPECIFICAR\n",
      "17                  Salta\n",
      "18               San Juan\n",
      "19               San Luis\n",
      "20             Santa Cruz\n",
      "21               Santa Fe\n",
      "22    Santiago del Estero\n",
      "23       Tierra del Fuego\n",
      "24                Tucumán\n",
      "Name: residencia_provincia_nombre, dtype: object\n"
     ]
    }
   ],
   "source": [
    "#let's list all the provinces that have cases (all rn tbh, but just to use pandas stuff)\n",
    "#we'll get those times series then, with cudf grouping\n",
    "provincias = df[\"residencia_provincia_nombre\"].unique()\n",
    "#print: we get provinces + the sin especificar / unespecified thing\n",
    "print(provincias)"
   ]
  },
  {
   "cell_type": "code",
   "execution_count": 10,
   "id": "4a017bc3",
   "metadata": {},
   "outputs": [
    {
     "name": "stderr",
     "output_type": "stream",
     "text": [
      "/home/denise/miniconda3/envs/gpup/lib/python3.7/site-packages/cudf/core/frame.py:2627: UserWarning: When using a sequence of booleans for `ascending`, `na_position` flag is not yet supported and defaults to treating nulls as greater than all numbers\n",
      "  \"When using a sequence of booleans for `ascending`, \"\n"
     ]
    }
   ],
   "source": [
    "df = df[[\"residencia_provincia_nombre\",\"fecha_inicio_sintomas\"]]\n",
    "df2 = df.groupby([\"residencia_provincia_nombre\",\"fecha_inicio_sintomas\"]).size().reset_index() \n",
    "df2 = df2.rename(columns={0:'casos'})\n",
    "df3 = df2.sort_values([\"residencia_provincia_nombre\",\"fecha_inicio_sintomas\"],ascending=[True,True])"
   ]
  },
  {
   "cell_type": "code",
   "execution_count": 11,
   "id": "e3734fc8",
   "metadata": {},
   "outputs": [],
   "source": [
    "rows = provincias.shape[0]\n",
    "cols = df2[\"fecha_inicio_sintomas\"].max()\n",
    "time_series = cp.zeros(shape=(rows,cols+1))\n",
    "time_series_ac = cp.zeros(shape=(rows,cols+1))"
   ]
  },
  {
   "cell_type": "code",
   "execution_count": 12,
   "id": "c43b1422",
   "metadata": {},
   "outputs": [],
   "source": [
    "j = 0\n",
    "for i in provincias.to_pandas():\n",
    "  df_tmp = df3[df3[\"residencia_provincia_nombre\"]==i]\n",
    "  tmp_dates = cp.array(df_tmp[\"fecha_inicio_sintomas\"].values)\n",
    "  tmp_cases = cp.array(df_tmp[\"casos\"].values)\n",
    "  time_series[j,tmp_dates]= tmp_cases\n",
    "  j = j + 1"
   ]
  },
  {
   "cell_type": "code",
   "execution_count": 13,
   "id": "e6626963",
   "metadata": {},
   "outputs": [],
   "source": [
    "for i in range(rows):\n",
    "  for j in range(13,cols):\n",
    "    time_series_ac[i,j] = cp.sum(time_series[i,j-13:j+1])"
   ]
  },
  {
   "cell_type": "markdown",
   "id": "ea4e2546",
   "metadata": {},
   "source": [
    "## Primero, aca vamos a calcular la correlacion de Pearson y chequear que de todo bien\n",
    "\n",
    "Esto funciona aca y esta todo tranquilo, no hay problema!"
   ]
  },
  {
   "cell_type": "code",
   "execution_count": 14,
   "id": "3766fc54",
   "metadata": {},
   "outputs": [],
   "source": [
    "#no existe en cupy, la hago yo a esta funcion \n",
    "def pearsonr(a,b):\n",
    "  m_a = cp.mean(a)\n",
    "  m_b = cp.mean(b)\n",
    "  r_a = a - m_a\n",
    "  r_b = b - m_b\n",
    "  r_a_2 = cp.sum((r_a)**2) \n",
    "  r_b_2 = cp.sum((r_b)**2)\n",
    "  r = cp.sum((r_a*r_b)/cp.sqrt(r_a_2*r_b_2))\n",
    "  return r"
   ]
  },
  {
   "cell_type": "code",
   "execution_count": 15,
   "id": "d61dcd88",
   "metadata": {},
   "outputs": [
    {
     "data": {
      "text/plain": [
       "array(0.88366966)"
      ]
     },
     "execution_count": 15,
     "metadata": {},
     "output_type": "execute_result"
    }
   ],
   "source": [
    "#por ejemplo, correlaciones para caba y baires\n",
    "caba = time_series_ac[1,:-10]\n",
    "baires = time_series_ac[0,:-10]\n",
    "pearsonr(caba,baires)"
   ]
  },
  {
   "cell_type": "code",
   "execution_count": 16,
   "id": "da755f4c",
   "metadata": {},
   "outputs": [
    {
     "name": "stdout",
     "output_type": "stream",
     "text": [
      "Coeficientes de Pearson\n",
      "Pearson entre CABA y Baires:  0.884\n",
      "Pearson entre Catamarca y Baires:  0.317\n",
      "Pearson entre Chaco y Baires:  0.603\n",
      "Pearson entre Chubut y Baires:  0.5\n",
      "Pearson entre Corrientes y Baires:  0.183\n",
      "Pearson entre Córdoba y Baires:  0.611\n",
      "Pearson entre Entre Ríos y Baires:  0.578\n",
      "Pearson entre Formosa y Baires:  0.325\n",
      "Pearson entre Jujuy y Baires:  0.866\n",
      "Pearson entre La Pampa y Baires:  0.261\n",
      "Pearson entre La Rioja y Baires:  0.834\n",
      "Pearson entre Mendoza y Baires:  0.792\n",
      "Pearson entre Misiones y Baires:  0.168\n",
      "Pearson entre Neuquén y Baires:  0.645\n",
      "Pearson entre Río Negro y Baires:  0.738\n",
      "Pearson entre SIN ESPECIFICAR y Baires:  0.723\n",
      "Pearson entre Salta y Baires:  0.824\n",
      "Pearson entre San Juan y Baires:  0.243\n",
      "Pearson entre San Luis y Baires:  0.39\n",
      "Pearson entre Santa Cruz y Baires:  0.472\n",
      "Pearson entre Santa Fe y Baires:  0.635\n",
      "Pearson entre Santiago del Estero y Baires:  0.509\n",
      "Pearson entre Tierra del Fuego y Baires:  0.64\n",
      "Pearson entre Tucumán y Baires:  0.6\n"
     ]
    }
   ],
   "source": [
    "#ahora, tratemos de hacer lo mismo para baires y el resto del país\n",
    "baires = time_series_ac[0,:-10]\n",
    "i = 1\n",
    "provs = provincias.to_pandas()\n",
    "print('Coeficientes de Pearson')\n",
    "while i < rows:\n",
    "  prov_tmp = time_series_ac[i,:-10]\n",
    "  r = pearsonr(baires,prov_tmp)\n",
    "  print('Pearson entre '+provs[i]+' y Baires: ',cp.around(r,3))\n",
    "  i += 1"
   ]
  },
  {
   "cell_type": "markdown",
   "id": "53e0b9fe",
   "metadata": {},
   "source": [
    "## Segundo, la Time Lagged Cross Correlation\n",
    "\n",
    "Chequee aca que el problema es efectivamente el padding para calcular esto, que queda cero en el denominador y queda nan, si lo saco entonces se observa que no hay problema. Sin embargo, no pasa lo mismo con las funciones de cupy, asi que tiene que haber un problema del que no me estaria dando mucha cuenta."
   ]
  },
  {
   "cell_type": "code",
   "execution_count": 17,
   "id": "6057c7c9",
   "metadata": {},
   "outputs": [],
   "source": [
    "#no existe en cupy, la hago yo a esta funcion \n",
    "def pearsonr2(a,b):\n",
    "  m_a = cp.mean(a)\n",
    "  m_b = cp.mean(b)\n",
    "  r_a = a - m_a\n",
    "  r_b = b - m_b\n",
    "  r_a_2 = cp.sum((r_a)**2) \n",
    "  r_b_2 = cp.sum((r_b)**2)\n",
    "  r = cp.sum((r_a*r_b))\n",
    "  return r"
   ]
  },
  {
   "cell_type": "code",
   "execution_count": 18,
   "id": "37a670a2",
   "metadata": {},
   "outputs": [],
   "source": [
    "def lag_pearson(a,b,lag):\n",
    "  #dejo a fijo\n",
    "  #desplazo b\n",
    "  b = cp.roll(b,lag)\n",
    "  r = pearsonr2(a[lag:],b[lag:])\n",
    "  return r"
   ]
  },
  {
   "cell_type": "code",
   "execution_count": 19,
   "id": "3cfef234",
   "metadata": {},
   "outputs": [
    {
     "name": "stdout",
     "output_type": "stream",
     "text": [
      "Pearson máx entre CABA y Baires:  55759036294.835 . En offset de frames:  -21.0\n",
      "Pearson máx entre Catamarca y Baires:  523052559.035 . En offset de frames:  0.0\n",
      "Pearson máx entre Chaco y Baires:  5734709813.262 . En offset de frames:  0.0\n",
      "Pearson máx entre Chubut y Baires:  8918360510.319 . En offset de frames:  0.0\n",
      "Pearson máx entre Corrientes y Baires:  1480165872.425 . En offset de frames:  0.0\n",
      "Pearson máx entre Córdoba y Baires:  44921984466.935 . En offset de frames:  0.0\n",
      "Pearson máx entre Entre Ríos y Baires:  8189282504.858 . En offset de frames:  0.0\n",
      "Pearson máx entre Formosa y Baires:  38416035.741 . En offset de frames:  -81.0\n",
      "Pearson máx entre Jujuy y Baires:  9734500051.331 . En offset de frames:  -5.0\n",
      "Pearson máx entre La Pampa y Baires:  1934638815.561 . En offset de frames:  0.0\n",
      "Pearson máx entre La Rioja y Baires:  4129162664.578 . En offset de frames:  0.0\n",
      "Pearson máx entre Mendoza y Baires:  26597520179.411 . En offset de frames:  0.0\n",
      "Pearson máx entre Misiones y Baires:  142255805.567 . En offset de frames:  0.0\n",
      "Pearson máx entre Neuquén y Baires:  14053336656.809 . En offset de frames:  0.0\n",
      "Pearson máx entre Río Negro y Baires:  12675861499.035 . En offset de frames:  0.0\n",
      "Pearson máx entre SIN ESPECIFICAR y Baires:  1138203435.719 . En offset de frames:  -18.0\n",
      "Pearson máx entre Salta y Baires:  11000628570.946 . En offset de frames:  0.0\n",
      "Pearson máx entre San Juan y Baires:  1975913591.561 . En offset de frames:  0.0\n",
      "Pearson máx entre San Luis y Baires:  4547916390.292 . En offset de frames:  0.0\n",
      "Pearson máx entre Santa Cruz y Baires:  5600458135.962 . En offset de frames:  0.0\n",
      "Pearson máx entre Santa Fe y Baires:  60055095827.967 . En offset de frames:  0.0\n",
      "Pearson máx entre Santiago del Estero y Baires:  5283795683.85 . En offset de frames:  0.0\n",
      "Pearson máx entre Tierra del Fuego y Baires:  6561357501.888 . En offset de frames:  0.0\n",
      "Pearson máx entre Tucumán y Baires:  26543319251.787 . En offset de frames:  0.0\n"
     ]
    }
   ],
   "source": [
    "#ahora, tratemos de hacer lo mismo para baires y el resto del país\n",
    "baires = time_series_ac[0,:-10]\n",
    "offset_vec = []\n",
    "rs_vec = []\n",
    "seconds = 5\n",
    "fps = 20\n",
    "i = 1\n",
    "while i < rows:\n",
    "  prov_tmp = time_series_ac[i,:-10]\n",
    "  rs = [lag_pearson(baires,prov_tmp,lag) for lag in range(-int(seconds*fps),int(seconds*fps+1))]\n",
    "  rs = cp.array(rs)\n",
    "  #print(rs)\n",
    "  offset_tmp = cp.floor(len(rs)/2)-cp.argmax(rs)\n",
    "  rs_tmp = cp.max(rs)\n",
    "  offset_vec.append(offset_tmp)\n",
    "  rs_vec.append(rs_tmp)\n",
    "  print('Pearson máx entre '+provs[i]+' y Baires: ',cp.around(rs_tmp,3),'. En offset de frames: ',offset_tmp)\n",
    "  i = i + 1"
   ]
  },
  {
   "cell_type": "markdown",
   "id": "89fbf25a",
   "metadata": {},
   "source": [
    "## Pruebo aca usar el correlate de Cupy, con lag y todo, verificamos que funciona okay. "
   ]
  },
  {
   "cell_type": "code",
   "execution_count": 20,
   "id": "3fa1c4c8",
   "metadata": {},
   "outputs": [],
   "source": [
    "baires = time_series_ac[0,:-10]\n",
    "caba = time_series_ac[1,:-10]"
   ]
  },
  {
   "cell_type": "code",
   "execution_count": 21,
   "id": "e2a7089d",
   "metadata": {},
   "outputs": [],
   "source": [
    "npts = baires.shape[0]\n",
    "lags = cp.arange(-npts + 1, npts)"
   ]
  },
  {
   "cell_type": "code",
   "execution_count": 22,
   "id": "d5da5357",
   "metadata": {},
   "outputs": [],
   "source": [
    "ccov = np.correlate(baires - baires.mean(), caba - caba.mean(), mode='full')\n",
    "ccor = ccov / (npts * baires.std() * caba.std())"
   ]
  },
  {
   "cell_type": "code",
   "execution_count": 23,
   "id": "42bf2055",
   "metadata": {},
   "outputs": [
    {
     "name": "stdout",
     "output_type": "stream",
     "text": [
      "max correlation is 0.940561\n",
      "max correlation is at lag 21\n"
     ]
    },
    {
     "data": {
      "image/png": "[encoded data removed]",
      "text/plain": [
       "<Figure size 432x288 with 2 Axes>"
      ]
     },
     "metadata": {
      "needs_background": "light"
     },
     "output_type": "display_data"
    }
   ],
   "source": [
    "fig, axs = plt.subplots(nrows=2)\n",
    "fig.subplots_adjust(hspace=0.4)\n",
    "ax = axs[0]\n",
    "ax.plot(baires.get(), 'b', label='y1')\n",
    "ax.plot(caba.get(), 'r', label='y2')\n",
    "ax.legend(loc='upper right', fontsize='small', ncol=2)\n",
    "\n",
    "ax = axs[1]\n",
    "ax.plot(lags.get(), ccor.get())\n",
    "ax.set_ylabel('cross-correlation')\n",
    "ax.set_xlabel('lag of y1 relative to y2')\n",
    "\n",
    "maxlag = lags[cp.argmax(ccor)]\n",
    "print(\"max correlation is %f\" % cp.max(ccor))\n",
    "print(\"max correlation is at lag %d\" % maxlag)"
   ]
  },
  {
   "cell_type": "markdown",
   "id": "cc63ae67",
   "metadata": {},
   "source": [
    "# Ahora, lo hacemos en serio, tipo todas las provincias contra todas las provincias, y guardamos los resultados"
   ]
  },
  {
   "cell_type": "code",
   "execution_count": 24,
   "id": "ea11cb72",
   "metadata": {},
   "outputs": [],
   "source": [
    "localidades_lagmax = cp.zeros(shape=(rows,rows))\n",
    "localidades_corrmax = cp.zeros(shape=(rows,rows))\n",
    "npts = cols\n",
    "lags = cp.arange(-npts + 1, npts)\n",
    "i = 0\n",
    "while i < rows:\n",
    "    j = 0\n",
    "    prov_tmp_1 = time_series_ac[i,:-10]\n",
    "    while j < rows:\n",
    "        prov_tmp_2 = time_series_ac[j,:-10]\n",
    "        ccov = np.correlate(prov_tmp_1  - prov_tmp_1 .mean(), prov_tmp_2 - prov_tmp_2.mean(), mode='full')\n",
    "        ccor = ccov / (npts * prov_tmp_1 .std() * prov_tmp_2.std())\n",
    "        localidades_lagmax[i,j] = lags[cp.argmax(ccor)]\n",
    "        localidades_corrmax[i,j] = cp.max(ccor)\n",
    "        j = j + 1\n",
    "    i = i +1"
   ]
  },
  {
   "cell_type": "code",
   "execution_count": 25,
   "id": "cd58ad8e",
   "metadata": {},
   "outputs": [
    {
     "data": {
      "text/plain": [
       "array([[  -9.,   12.,  -77.,  -59.,  -67.,  -90.,  -51.,  -62.,  -53.,\n",
       "          -3.,  -87.,  -24.,  -34., -106.,  -52.,  -49.,    9.,  -25.,\n",
       "         -73.,  -62.,  -76.,  -53.,  -56.,  -49.,  -49.],\n",
       "       [ -30.,   -9., -112.,  -88.,  -90., -115.,  -76.,  -88.,   16.,\n",
       "         -22., -119.,  -53.,  -59., -119.,  -78.,  -75.,   -9.,  -51.,\n",
       "        -107.,  -85.,  -99.,  -80.,  -84.,  -76.,  -75.],\n",
       "       [  59.,   94.,   -9.,   12.,    4.,  -29.,   20.,    2.,   17.,\n",
       "          63.,   -9.,   47.,   44.,   -9.,   14.,   13.,  100.,   45.,\n",
       "          -9.,    2.,   -9.,   17.,   16.,   17.,   16.],\n",
       "       [  41.,   70.,  -30.,   -9.,   -9.,  -12.,    9.,   -9.,   -9.,\n",
       "          67.,  -31.,   27.,   25.,  -34.,   -9.,   -9.,   76.,   30.,\n",
       "         -25.,    9.,   -9.,   -6.,   -4.,   -3.,   21.],\n",
       "       [  49.,   72.,  -22.,   -9.,   -9.,  -47.,   -1.,   -9.,    8.,\n",
       "          51.,  -12.,   23.,   20.,  -59.,   -7.,   -7.,   79.,   26.,\n",
       "         -25.,  -14.,   -9.,   -1.,  -10.,   -5.,   -1.],\n",
       "       [  72.,   97.,   11.,   -6.,   29.,   -9.,   36.,   23.,  160.,\n",
       "          81.,  -31.,   60.,   43.,  -27.,   34.,   33.,  121.,   63.,\n",
       "          14.,   23.,   -9.,   34.,   24.,   34.,   34.],\n",
       "       [  33.,   58.,  -38.,  -27.,  -17.,  -54.,   -9.,  -26.,  111.,\n",
       "          40.,  -51.,   12.,    5.,  -65.,   -9.,   -9.,   70.,   16.,\n",
       "         -38.,  -22.,  -42.,   -9.,  -20.,  -11.,   -9.],\n",
       "       [  44.,   70.,  -20.,   -9.,   -9.,  -41.,    8.,   -9.,   12.,\n",
       "          55.,   -9.,   28.,   27.,  -59.,   -4.,   -5.,   84.,   32.,\n",
       "         -20.,   -9.,   -9.,    2.,   -9.,    3.,    3.],\n",
       "       [  35.,  -34.,  -35.,   -9.,  -26., -178., -129.,  -30.,   -9.,\n",
       "         -88.,  -32., -112., -120., -194., -131.,   -9.,  -46., -104.,\n",
       "        -156., -146.,  -30., -127., -146., -132., -134.],\n",
       "       [ -15.,    4.,  -81.,  -85.,  -69.,  -99.,  -58.,  -73.,   70.,\n",
       "          -9., -112.,  -35.,  -47., -113.,  -58.,  -57.,   26.,  -31.,\n",
       "         -79.,  -69.,  -96.,  -58.,  -70.,  -58.,  -57.],\n",
       "       [  69.,  101.,   -9.,   13.,   -6.,   13.,   33.,   -9.,   14.,\n",
       "          94.,   -9.,   59.,   49.,   -8.,   41.,   44.,   91.,   53.,\n",
       "          -9.,   36.,   -9.,   23.,   28.,   55.,   50.],\n",
       "       [   6.,   35.,  -65.,  -45.,  -41.,  -78.,  -30.,  -46.,   94.,\n",
       "          17.,  -77.,   -9.,  -14.,  -75.,  -31.,  -31.,   46.,   -7.,\n",
       "         -58.,  -42.,  -71.,  -32.,  -41.,  -34.,  -32.],\n",
       "       [  16.,   41.,  -62.,  -43.,  -38.,  -61.,  -23.,  -45.,  102.,\n",
       "          29.,  -67.,   -4.,   -9.,  -68.,  -21.,  -18.,   45.,    0.,\n",
       "         -58.,  -31.,  -59.,  -22.,  -33.,  -27.,  -19.],\n",
       "       [  88.,  101.,   -9.,   16.,   41.,    9.,   47.,   41.,  176.,\n",
       "          95.,  -10.,   57.,   50.,   -9.,   45.,   47.,  141.,   77.,\n",
       "          34.,   36.,   -9.,   49.,   27.,   51.,   51.],\n",
       "       [  34.,   60.,  -32.,   -9.,  -11.,  -52.,   -9.,  -14.,  113.,\n",
       "          40.,  -59.,   13.,    3.,  -63.,   -9.,   -9.,   74.,   17.,\n",
       "         -32.,  -21.,  -46.,   -9.,  -20.,   -9.,   -9.],\n",
       "       [  31.,   57.,  -31.,   -9.,  -11.,  -51.,   -9.,  -13.,   -9.,\n",
       "          39.,  -62.,   13.,    0.,  -65.,   -9.,   -9.,   74.,   17.,\n",
       "         -31.,  -21.,  -39.,   -9.,  -20.,   -9.,   -9.],\n",
       "       [ -27.,   -9., -118.,  -94.,  -97., -139.,  -88., -102.,   28.,\n",
       "         -44., -109.,  -64.,  -63., -159.,  -92.,  -92.,   -9.,  -63.,\n",
       "        -116., -107., -101.,  -90.,  -99.,  -93.,  -93.],\n",
       "       [   7.,   33.,  -63.,  -48.,  -44.,  -81.,  -34.,  -50.,   86.,\n",
       "          13.,  -71.,  -11.,  -18.,  -95.,  -35.,  -35.,   45.,   -9.,\n",
       "         -61.,  -48.,  -69.,  -34.,  -46.,  -38.,  -35.],\n",
       "       [  55.,   89.,   -9.,    7.,    7.,  -32.,   20.,    2.,  138.,\n",
       "          61.,   -9.,   40.,   40.,  -52.,   14.,   13.,   98.,   43.,\n",
       "          -9.,    2.,   -9.,   16.,    6.,   14.,   14.],\n",
       "       [  44.,   67.,  -20.,  -27.,   -4.,  -41.,    4.,   -9.,  128.,\n",
       "          51.,  -54.,   24.,   13.,  -54.,    3.,    3.,   89.,   30.,\n",
       "         -20.,   -9.,  -39.,    4.,   -9.,    2.,    3.],\n",
       "       [  58.,   81.,   -9.,   -9.,   -9.,   -9.,   24.,   -9.,   12.,\n",
       "          78.,   -9.,   53.,   41.,   -9.,   28.,   21.,   83.,   51.,\n",
       "          -9.,   21.,   -9.,   19.,   22.,   24.,   28.],\n",
       "       [  35.,   62.,  -35.,  -12.,  -17.,  -52.,   -9.,  -20.,  109.,\n",
       "          40.,  -41.,   14.,    4.,  -67.,   -9.,   -9.,   72.,   16.,\n",
       "         -34.,  -22.,  -37.,   -9.,  -19.,  -10.,   -9.],\n",
       "       [  38.,   66.,  -34.,  -14.,   -8.,  -42.,    2.,   -9.,  128.,\n",
       "          52.,  -46.,   23.,   15.,  -45.,    2.,    2.,   81.,   28.,\n",
       "         -24.,   -9.,  -40.,    1.,   -9.,    0.,    1.],\n",
       "       [  31.,   58.,  -35.,  -15.,  -13.,  -52.,   -7.,  -21.,  114.,\n",
       "          40.,  -73.,   16.,    9.,  -69.,   -9.,   -9.,   75.,   20.,\n",
       "         -32.,  -20.,  -42.,   -8.,  -18.,   -9.,   -9.],\n",
       "       [  31.,   57.,  -34.,  -39.,  -17.,  -52.,   -9.,  -21.,  116.,\n",
       "          39.,  -68.,   14.,    1.,  -69.,   -9.,   -9.,   75.,   17.,\n",
       "         -32.,  -21.,  -46.,   -9.,  -19.,   -9.,   -9.]])"
      ]
     },
     "execution_count": 25,
     "metadata": {},
     "output_type": "execute_result"
    }
   ],
   "source": [
    "localidades_lagmax"
   ]
  },
  {
   "cell_type": "code",
   "execution_count": 26,
   "id": "585ff7c7",
   "metadata": {},
   "outputs": [
    {
     "data": {
      "text/plain": [
       "array([[0.97606383, 0.91804763, 0.82461969, 0.83569709, 0.88736444,\n",
       "        0.76863647, 0.86555289, 0.86796335, 0.3742616 , 0.85275847,\n",
       "        0.73995771, 0.8800866 , 0.88766435, 0.70527078, 0.88379896,\n",
       "        0.89864758, 0.79755168, 0.86437314, 0.7839713 , 0.79206111,\n",
       "        0.85861824, 0.90529663, 0.85539647, 0.8487886 , 0.85541795],\n",
       "       [0.91804763, 0.97606383, 0.77162681, 0.7906585 , 0.84063885,\n",
       "        0.72207673, 0.82010002, 0.82909474, 0.39709044, 0.83937741,\n",
       "        0.73013432, 0.84021349, 0.8546025 , 0.71091222, 0.8389473 ,\n",
       "        0.85498186, 0.82395552, 0.81376347, 0.73913658, 0.74421969,\n",
       "        0.80956993, 0.85484244, 0.82472227, 0.8008216 , 0.802199  ],\n",
       "       [0.82461969, 0.77162681, 0.97606383, 0.83487983, 0.87655014,\n",
       "        0.83025617, 0.87858137, 0.8749868 , 0.48978487, 0.79571016,\n",
       "        0.8595344 , 0.84528321, 0.85809555, 0.75620198, 0.84973859,\n",
       "        0.84035064, 0.82085506, 0.85979897, 0.9111484 , 0.83881757,\n",
       "        0.89928728, 0.88081315, 0.83650126, 0.87635132, 0.85962436],\n",
       "       [0.83569709, 0.7906585 , 0.83487983, 0.97606383, 0.90700104,\n",
       "        0.79722568, 0.82379389, 0.92638354, 0.53147349, 0.74414142,\n",
       "        0.77996903, 0.81188462, 0.84693255, 0.76473093, 0.84378024,\n",
       "        0.88959527, 0.71359091, 0.77024031, 0.78318854, 0.74928547,\n",
       "        0.9250356 , 0.85897818, 0.83461272, 0.81531402, 0.79644458],\n",
       "       [0.88736444, 0.84063885, 0.87655014, 0.90700104, 0.97606383,\n",
       "        0.83066022, 0.91459525, 0.9347692 , 0.48763527, 0.8347535 ,\n",
       "        0.77600634, 0.88081397, 0.88613993, 0.7296012 , 0.93342538,\n",
       "        0.92311328, 0.83916418, 0.8962982 , 0.85920057, 0.86377991,\n",
       "        0.88465692, 0.94279676, 0.89159364, 0.90227791, 0.89077428],\n",
       "       [0.76863647, 0.72207673, 0.83025617, 0.79722568, 0.83066022,\n",
       "        0.97606383, 0.90165171, 0.82735495, 0.55246857, 0.86030181,\n",
       "        0.78196164, 0.87005235, 0.82948429, 0.87380444, 0.87856232,\n",
       "        0.84257484, 0.78837085, 0.88187728, 0.88958152, 0.92799592,\n",
       "        0.83954925, 0.8613868 , 0.9041539 , 0.9226373 , 0.91656025],\n",
       "       [0.86555289, 0.82010002, 0.87858137, 0.82379389, 0.91459525,\n",
       "        0.90165171, 0.97606383, 0.87763765, 0.52962678, 0.90953847,\n",
       "        0.7149122 , 0.93484478, 0.93568089, 0.80974767, 0.9530612 ,\n",
       "        0.91022003, 0.82093783, 0.95032799, 0.89497487, 0.94206305,\n",
       "        0.84340112, 0.95592448, 0.94383883, 0.9524179 , 0.96110004],\n",
       "       [0.86796335, 0.82909474, 0.8749868 , 0.92638354, 0.9347692 ,\n",
       "        0.82735495, 0.87763765, 0.97606383, 0.45436853, 0.78121592,\n",
       "        0.79782704, 0.84916515, 0.85519482, 0.73132793, 0.88567879,\n",
       "        0.92218874, 0.78352544, 0.84152554, 0.8554724 , 0.81880088,\n",
       "        0.91671622, 0.89401281, 0.87691073, 0.8989407 , 0.84743361],\n",
       "       [0.3742616 , 0.39709044, 0.48978487, 0.53147349, 0.48763527,\n",
       "        0.55246857, 0.52962678, 0.45436853, 0.97606383, 0.464951  ,\n",
       "        0.45358649, 0.47113036, 0.42395526, 0.49168003, 0.46950747,\n",
       "        0.44489071, 0.58847748, 0.55328048, 0.56442427, 0.60565828,\n",
       "        0.42510013, 0.46936994, 0.48794878, 0.53300839, 0.54821536],\n",
       "       [0.85275847, 0.83937741, 0.79571016, 0.74414142, 0.8347535 ,\n",
       "        0.86030181, 0.90953847, 0.78121592, 0.464951  , 0.97606383,\n",
       "        0.73467886, 0.91630133, 0.91338456, 0.80942193, 0.88646369,\n",
       "        0.8274846 , 0.77182802, 0.93003967, 0.81787429, 0.91108857,\n",
       "        0.77807678, 0.88957914, 0.89771322, 0.86994603, 0.92753704],\n",
       "       [0.73995771, 0.73013432, 0.8595344 , 0.77996903, 0.77600634,\n",
       "        0.78196164, 0.7149122 , 0.79782704, 0.45358649, 0.73467886,\n",
       "        0.97606383, 0.77267293, 0.80564934, 0.89714751, 0.74561335,\n",
       "        0.74604039, 0.68379291, 0.68394966, 0.7157623 , 0.73495331,\n",
       "        0.87228926, 0.73392063, 0.81068416, 0.72174337, 0.72839047],\n",
       "       [0.8800866 , 0.84021349, 0.84528321, 0.81188462, 0.88081397,\n",
       "        0.87005235, 0.93484478, 0.84916515, 0.47113036, 0.91630133,\n",
       "        0.77267293, 0.97606383, 0.95067797, 0.79965953, 0.91227011,\n",
       "        0.86871006, 0.81185694, 0.94844592, 0.88129797, 0.90584467,\n",
       "        0.83698402, 0.90960569, 0.93969061, 0.9078314 , 0.93288984],\n",
       "       [0.88766435, 0.8546025 , 0.85809555, 0.84693255, 0.88613993,\n",
       "        0.82948429, 0.93568089, 0.85519482, 0.42395526, 0.91338456,\n",
       "        0.80564934, 0.95067797, 0.97606383, 0.82158975, 0.91657009,\n",
       "        0.88020262, 0.80551662, 0.9273671 , 0.85029337, 0.88988102,\n",
       "        0.85621083, 0.92164865, 0.93304021, 0.88569719, 0.92775715],\n",
       "       [0.70527078, 0.71091222, 0.75620198, 0.76473093, 0.7296012 ,\n",
       "        0.87380444, 0.80974767, 0.73132793, 0.49168003, 0.80942193,\n",
       "        0.89714751, 0.79965953, 0.82158975, 0.97606383, 0.80361043,\n",
       "        0.7837131 , 0.72215791, 0.77579814, 0.7928743 , 0.84898115,\n",
       "        0.83437732, 0.79315602, 0.85862662, 0.82407366, 0.82850279],\n",
       "       [0.88379896, 0.8389473 , 0.84973859, 0.84378024, 0.93342538,\n",
       "        0.87856232, 0.9530612 , 0.88567879, 0.46950747, 0.88646369,\n",
       "        0.74561335, 0.91227011, 0.91657009, 0.80361043, 0.97606383,\n",
       "        0.95241844, 0.80541447, 0.91974438, 0.85885187, 0.91954831,\n",
       "        0.83591364, 0.96504888, 0.93521783, 0.934751  , 0.94221455],\n",
       "       [0.89864758, 0.85498186, 0.84035064, 0.88959527, 0.92311328,\n",
       "        0.84257484, 0.91022003, 0.92218874, 0.44489071, 0.8274846 ,\n",
       "        0.74604039, 0.86871006, 0.88020262, 0.7837131 , 0.95241844,\n",
       "        0.97606383, 0.7629089 , 0.86010212, 0.82540001, 0.8558031 ,\n",
       "        0.85665873, 0.94366211, 0.90328744, 0.92024714, 0.89174591],\n",
       "       [0.79755168, 0.82395552, 0.82085506, 0.71359091, 0.83916418,\n",
       "        0.78837085, 0.82093783, 0.78352544, 0.58847748, 0.77182802,\n",
       "        0.68379291, 0.81185694, 0.80551662, 0.72215791, 0.80541447,\n",
       "        0.7629089 , 0.97606383, 0.8530687 , 0.87779901, 0.8103428 ,\n",
       "        0.67420399, 0.81958831, 0.76479881, 0.83167234, 0.81069343],\n",
       "       [0.86437314, 0.81376347, 0.85979897, 0.77024031, 0.8962982 ,\n",
       "        0.88187728, 0.95032799, 0.84152554, 0.55328048, 0.93003967,\n",
       "        0.68394966, 0.94844592, 0.9273671 , 0.77579814, 0.91974438,\n",
       "        0.86010212, 0.8530687 , 0.97606383, 0.8953997 , 0.93466809,\n",
       "        0.79350796, 0.92847286, 0.91480007, 0.92358961, 0.94865767],\n",
       "       [0.7839713 , 0.73913658, 0.9111484 , 0.78318854, 0.85920057,\n",
       "        0.88958152, 0.89497487, 0.8554724 , 0.56442427, 0.81787429,\n",
       "        0.7157623 , 0.88129797, 0.85029337, 0.7928743 , 0.85885187,\n",
       "        0.82540001, 0.87779901, 0.8953997 , 0.97606383, 0.89409597,\n",
       "        0.79629282, 0.86179075, 0.871363  , 0.91017754, 0.89459325],\n",
       "       [0.79206111, 0.74421969, 0.83881757, 0.74928547, 0.86377991,\n",
       "        0.92799592, 0.94206305, 0.81880088, 0.60565828, 0.91108857,\n",
       "        0.73495331, 0.90584467, 0.88988102, 0.84898115, 0.91954831,\n",
       "        0.8558031 , 0.8103428 , 0.93466809, 0.89409597, 0.97606383,\n",
       "        0.78246326, 0.90574589, 0.93725805, 0.92938311, 0.95593365],\n",
       "       [0.85861824, 0.80956993, 0.89928728, 0.9250356 , 0.88465692,\n",
       "        0.83954925, 0.84340112, 0.91671622, 0.42510013, 0.77807678,\n",
       "        0.87228926, 0.83698402, 0.85621083, 0.83437732, 0.83591364,\n",
       "        0.85665873, 0.67420399, 0.79350796, 0.79629282, 0.78246326,\n",
       "        0.97606383, 0.85552947, 0.87474455, 0.84036513, 0.83001723],\n",
       "       [0.90529663, 0.85484244, 0.88081315, 0.85897818, 0.94279676,\n",
       "        0.8613868 , 0.95592448, 0.89401281, 0.46936994, 0.88957914,\n",
       "        0.73392063, 0.90960569, 0.92164865, 0.79315602, 0.96504888,\n",
       "        0.94366211, 0.81958831, 0.92847286, 0.86179075, 0.90574589,\n",
       "        0.85552947, 0.97606383, 0.91773387, 0.92892339, 0.94169605],\n",
       "       [0.85539647, 0.82472227, 0.83650126, 0.83461272, 0.89159364,\n",
       "        0.9041539 , 0.94383883, 0.87691073, 0.48794878, 0.89771322,\n",
       "        0.81068416, 0.93969061, 0.93304021, 0.85862662, 0.93521783,\n",
       "        0.90328744, 0.76479881, 0.91480007, 0.871363  , 0.93725805,\n",
       "        0.87474455, 0.91773387, 0.97606383, 0.92828222, 0.94293781],\n",
       "       [0.8487886 , 0.8008216 , 0.87635132, 0.81531402, 0.90227791,\n",
       "        0.9226373 , 0.9524179 , 0.8989407 , 0.53300839, 0.86994603,\n",
       "        0.72174337, 0.9078314 , 0.88569719, 0.82407366, 0.934751  ,\n",
       "        0.92024714, 0.83167234, 0.92358961, 0.91017754, 0.92938311,\n",
       "        0.84036513, 0.92892339, 0.92828222, 0.97606383, 0.9385743 ],\n",
       "       [0.85541795, 0.802199  , 0.85962436, 0.79644458, 0.89077428,\n",
       "        0.91656025, 0.96110004, 0.84743361, 0.54821536, 0.92753704,\n",
       "        0.72839047, 0.93288984, 0.92775715, 0.82850279, 0.94221455,\n",
       "        0.89174591, 0.81069343, 0.94865767, 0.89459325, 0.95593365,\n",
       "        0.83001723, 0.94169605, 0.94293781, 0.9385743 , 0.97606383]])"
      ]
     },
     "execution_count": 26,
     "metadata": {},
     "output_type": "execute_result"
    }
   ],
   "source": [
    "localidades_corrmax"
   ]
  }
 ],
 "metadata": {
  "kernelspec": {
   "display_name": "Python 3",
   "language": "python",
   "name": "python3"
  },
  "language_info": {
   "codemirror_mode": {
    "name": "ipython",
    "version": 3
   },
   "file_extension": ".py",
   "mimetype": "text/x-python",
   "name": "python",
   "nbconvert_exporter": "python",
   "pygments_lexer": "ipython3",
   "version": "3.7.10"
  }
 },
 "nbformat": 4,
 "nbformat_minor": 5
}
