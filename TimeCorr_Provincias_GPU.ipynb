{
 "cells": [
  {
   "cell_type": "code",
   "execution_count": 1,
   "id": "15a0fb5d",
   "metadata": {},
   "outputs": [],
   "source": [
    "## Carga de librerías\n",
    "import cupy as cp\n",
    "import cudf\n",
    "import matplotlib.pyplot as plt\n",
    "import numpy as np\n",
    "import time\n",
    "cp.random.seed(0)"
   ]
  },
  {
   "cell_type": "code",
   "execution_count": 2,
   "id": "48b46e69",
   "metadata": {},
   "outputs": [],
   "source": [
    "## Funciones auxiliares\n",
    "def change_dates(df):\n",
    "    #changes fecha_inicio_sintomas according to new criteria\n",
    "    filt_df2 = (df.fecha_inicio_sintomas.isnull()) #filter fecha_inicio_sintomas = inexistant\n",
    "    n_size = (df[filt_df2]).shape[0]\n",
    "    df[\"fecha_inicio_sintomas\"] = df[\"fecha_inicio_sintomas\"].fillna(0)\n",
    "    df[\"fecha_inicio_sintomas\"] = df[\"fecha_inicio_sintomas\"].astype('int')\n",
    "    df[\"fecha_apertura\"] = df[\"fecha_apertura\"].astype('int')\n",
    "    b = cp.array(df[\"fecha_apertura\"].values)\n",
    "    a = cp.array(df[\"fecha_inicio_sintomas\"].values)\n",
    "    a[filt_df2.values] = b[filt_df2.values] - cp.random.randint(0,9,a[filt_df2.values].shape)\n",
    "    filt_a = cp.where(a<0)\n",
    "    a[filt_a] = 0\n",
    "    df = df.drop([\"fecha_inicio_sintomas\"],axis=1)\n",
    "    df[\"fecha_inicio_sintomas\"] = a\n",
    "    return df"
   ]
  },
  {
   "cell_type": "code",
   "execution_count": 3,
   "id": "781e41dc",
   "metadata": {},
   "outputs": [
    {
     "name": "stdout",
     "output_type": "stream",
     "text": [
      "0\n"
     ]
    },
    {
     "name": "stderr",
     "output_type": "stream",
     "text": [
      "/home/denise/miniconda3/envs/gpup/lib/python3.7/site-packages/cudf/core/frame.py:2627: UserWarning: When using a sequence of booleans for `ascending`, `na_position` flag is not yet supported and defaults to treating nulls as greater than all numbers\n",
      "  \"When using a sequence of booleans for `ascending`, \"\n"
     ]
    },
    {
     "name": "stdout",
     "output_type": "stream",
     "text": [
      "1\n",
      "2\n",
      "3\n",
      "4\n",
      "5\n",
      "6\n",
      "7\n",
      "8\n",
      "9\n"
     ]
    }
   ],
   "source": [
    "tiempo1 = []\n",
    "tiempo2 = []\n",
    "tiempo3 = []\n",
    "N = 10\n",
    "for cont in range(N):\n",
    "    print(cont)\n",
    "    start1 = time.time()\n",
    "    start2 = time.time()\n",
    "    ## Carga de datos, sacamos las series temporal\n",
    "    direccion = '12en20.csv'\n",
    "    columnas = ['residencia_provincia_nombre','residencia_departamento_nombre','fecha_inicio_sintomas',\n",
    "                'fecha_apertura','clasificacion_resumen']\n",
    "    data = cudf.read_csv(direccion,sep=\",\",quotechar='\"', usecols=columnas,\n",
    "                       parse_dates=[\"fecha_inicio_sintomas\",\"fecha_apertura\"],na_values=['']) \n",
    "    end2 = time.time()\n",
    "    data = data[data[\"clasificacion_resumen\"] == \"Confirmado\"] #filter confirmed cases\n",
    "    df = cudf.DataFrame(data) \n",
    "    df = df.drop(['clasificacion_resumen'], axis=1) #drop clasificacion_resumen bc previous filter of confirmed cases\n",
    "    filt_df1 = (df.fecha_inicio_sintomas.notnull()) #filter fecha_inicio_sintomas = inexistant\n",
    "    inicio_epidemia = (df.loc[filt_df1,\"fecha_inicio_sintomas\"]).min() #first symptoms of a person registered\n",
    "    ultima_actualizacion_sintomas = (df.loc[filt_df1,\"fecha_inicio_sintomas\"]).max() #last day symptoms of a person registered\n",
    "    ultima_actualizacion_apertura = (df[\"fecha_apertura\"]).max()\n",
    "    df[\"fecha_inicio_sintomas\"] -= inicio_epidemia #correcting by inicio_epidemia \n",
    "    df[\"fecha_apertura\"] -= inicio_epidemia #correcting by inicio_epidemia\n",
    "    df.fecha_inicio_sintomas = df.fecha_inicio_sintomas.dt.days #change to int, ditch days \n",
    "    df.fecha_apertura = df.fecha_apertura.dt.days #change to int, ditch days\n",
    "    #print(\"primer sintoma de persona confirmada: \",inicio_epidemia)\n",
    "    #print(\"ultimo sintoma de persona confirmada: \",ultima_actualizacion_sintomas)\n",
    "    #print(\"ultima apertura de persona confirmada: \",ultima_actualizacion_apertura)\n",
    "    df = change_dates(df) # we have replaced all bad or undefined dates\n",
    "    df = df[[\"residencia_provincia_nombre\",\"fecha_inicio_sintomas\"]]\n",
    "    df2 = df.groupby([\"residencia_provincia_nombre\",\"fecha_inicio_sintomas\"]).size().reset_index() \n",
    "    df2 = df2.rename(columns={0:'casos'})\n",
    "    df3 = df2.sort_values([\"residencia_provincia_nombre\",\"fecha_inicio_sintomas\"],ascending=[True,True])\n",
    "    #let's list all the provinces that have cases\n",
    "    #we'll get those times series then, with cudf grouping\n",
    "    provincias = cudf.Series(df3[\"residencia_provincia_nombre\"].unique())\n",
    "    # there are 24 provinces (23 + CABA) + SIN ESPECIFICAR cases\n",
    "    rows = provincias.shape[0]\n",
    "    cols = df2[\"fecha_inicio_sintomas\"].max()\n",
    "    time_series = cp.zeros(shape=(rows,cols+1)) #time series of new cases / day\n",
    "    time_series_ac = cp.zeros(shape=(rows,cols+1)) # time series of attack rate / day (attack rate = 14 days cumulate of new cases)\n",
    "    j = 0\n",
    "    for i in provincias.to_pandas():\n",
    "      df_tmp = df3[df3[\"residencia_provincia_nombre\"]==i]\n",
    "      tmp_dates = cp.array(df_tmp[\"fecha_inicio_sintomas\"].values)\n",
    "      tmp_cases = cp.array(df_tmp[\"casos\"].values)\n",
    "      time_series[j,tmp_dates]= tmp_cases\n",
    "      j = j + 1\n",
    "    for i in range(rows):\n",
    "      for j in range(13,cols):\n",
    "        time_series_ac[i,j] = cp.sum(time_series[i,j-13:j+1])\n",
    "    # Ahora, lo hacemos en serio, tipo todas las provincias contra todas las provincias, y guardamos los resultados\n",
    "    start3 = time.time()\n",
    "    localidades_lagmax = cp.zeros(shape=(rows,rows))\n",
    "    localidades_corrmax = cp.zeros(shape=(rows,rows))\n",
    "    cpts = cols\n",
    "    lags = cp.arange(-cpts + 1, cpts)\n",
    "    i = 0\n",
    "    while i < rows:\n",
    "        j = 0\n",
    "        prov_tmp_1 = time_series_ac[i,:-10]\n",
    "        while j < rows:\n",
    "            prov_tmp_2 = time_series_ac[j,:-10]\n",
    "            ccov = cp.correlate(prov_tmp_1  - prov_tmp_1 .mean(), prov_tmp_2 - prov_tmp_2.mean(), mode='full')\n",
    "            ccor = ccov / (cpts * prov_tmp_1 .std() * prov_tmp_2.std())\n",
    "            localidades_lagmax[i,j] = lags[cp.argmax(ccor)]\n",
    "            localidades_corrmax[i,j] = cp.max(ccor)\n",
    "            j = j + 1\n",
    "        i = i +1\n",
    "    end3 = time.time()\n",
    "    end1 = time.time()\n",
    "    tiempo1.append(end1 - start1)\n",
    "    tiempo2.append(end2 - start2)\n",
    "    tiempo3.append(end3 - start3)"
   ]
  },
  {
   "cell_type": "code",
   "execution_count": 4,
   "id": "e7c28dac",
   "metadata": {},
   "outputs": [
    {
     "name": "stdout",
     "output_type": "stream",
     "text": [
      "Tiempo 1:  7.965578770637512 2.7952278033051456\n",
      "Tiempo 2:  1.93735511302948 2.085674276767018\n",
      "Tiempo 3:  3.424283504486084 0.5658063328757428\n"
     ]
    }
   ],
   "source": [
    "print('Tiempo 1: ',np.array(tiempo1).mean(),np.array(tiempo1).std())\n",
    "print('Tiempo 2: ',np.array(tiempo2).mean(),np.array(tiempo2).std())\n",
    "print('Tiempo 3: ',np.array(tiempo3).mean(),np.array(tiempo3).std())"
   ]
  }
 ],
 "metadata": {
  "kernelspec": {
   "display_name": "Python 3",
   "language": "python",
   "name": "python3"
  },
  "language_info": {
   "codemirror_mode": {
    "name": "ipython",
    "version": 3
   },
   "file_extension": ".py",
   "mimetype": "text/x-python",
   "name": "python",
   "nbconvert_exporter": "python",
   "pygments_lexer": "ipython3",
   "version": "3.7.10"
  }
 },
 "nbformat": 4,
 "nbformat_minor": 5
}
